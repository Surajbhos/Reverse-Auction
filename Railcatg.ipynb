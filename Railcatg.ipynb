{
 "cells": [
  {
   "cell_type": "code",
   "execution_count": 38,
   "id": "a60c1b10-b245-49c3-82fb-84c67373cfb9",
   "metadata": {},
   "outputs": [],
   "source": [
    "import numpy as np\n",
    "import pandas as pd\n",
    "import matplotlib.pyplot as plt\n",
    "import seaborn as sns\n",
    "from fitter import Fitter, get_common_distributions, get_distributions\n",
    "import scipy.stats as st\n"
   ]
  },
  {
   "cell_type": "code",
   "execution_count": 1,
   "id": "ee741ecc-6a74-43b4-a429-d7a626c76767",
   "metadata": {},
   "outputs": [
    {
     "name": "stdout",
     "output_type": "stream",
     "text": [
      "Collecting fitter\n",
      "  Downloading fitter-1.6.0.tar.gz (26 kB)\n",
      "  Installing build dependencies ... \u001b[?25ldone\n",
      "\u001b[?25h  Getting requirements to build wheel ... \u001b[?25ldone\n",
      "\u001b[?25h  Preparing metadata (pyproject.toml) ... \u001b[?25ldone\n",
      "\u001b[?25hCollecting click<9.0.0,>=8.1.6 (from fitter)\n",
      "  Obtaining dependency information for click<9.0.0,>=8.1.6 from https://files.pythonhosted.org/packages/00/2e/d53fa4befbf2cfa713304affc7ca780ce4fc1fd8710527771b58311a3229/click-8.1.7-py3-none-any.whl.metadata\n",
      "  Downloading click-8.1.7-py3-none-any.whl.metadata (3.0 kB)\n",
      "Collecting joblib<2.0.0,>=1.3.1 (from fitter)\n",
      "  Obtaining dependency information for joblib<2.0.0,>=1.3.1 from https://files.pythonhosted.org/packages/10/40/d551139c85db202f1f384ba8bcf96aca2f329440a844f924c8a0040b6d02/joblib-1.3.2-py3-none-any.whl.metadata\n",
      "  Downloading joblib-1.3.2-py3-none-any.whl.metadata (5.4 kB)\n",
      "Requirement already satisfied: matplotlib>=3.7.2 in /home/amit/railway/nature/lib/python3.8/site-packages (from fitter) (3.7.3)\n",
      "Requirement already satisfied: numpy>=1.20 in /home/amit/railway/nature/lib/python3.8/site-packages (from fitter) (1.24.4)\n",
      "Requirement already satisfied: pandas<3.0.0,>=2.0.3 in /home/amit/railway/nature/lib/python3.8/site-packages (from fitter) (2.0.3)\n",
      "Requirement already satisfied: scipy>=0.18 in /home/amit/railway/nature/lib/python3.8/site-packages (from fitter) (1.10.1)\n",
      "Collecting tqdm<5.0.0,>=4.65.1 (from fitter)\n",
      "  Obtaining dependency information for tqdm<5.0.0,>=4.65.1 from https://files.pythonhosted.org/packages/00/e5/f12a80907d0884e6dff9c16d0c0114d81b8cd07dc3ae54c5e962cc83037e/tqdm-4.66.1-py3-none-any.whl.metadata\n",
      "  Downloading tqdm-4.66.1-py3-none-any.whl.metadata (57 kB)\n",
      "\u001b[2K     \u001b[38;2;114;156;31m━━━━━━━━━━━━━━━━━━━━━━━━━━━━━━━━━━━━━━━━\u001b[0m \u001b[32m57.6/57.6 kB\u001b[0m \u001b[31m1.3 MB/s\u001b[0m eta \u001b[36m0:00:00\u001b[0m MB/s\u001b[0m eta \u001b[36m0:00:01\u001b[0m\n",
      "\u001b[?25hRequirement already satisfied: contourpy>=1.0.1 in /home/amit/railway/nature/lib/python3.8/site-packages (from matplotlib>=3.7.2->fitter) (1.1.1)\n",
      "Requirement already satisfied: cycler>=0.10 in /home/amit/railway/nature/lib/python3.8/site-packages (from matplotlib>=3.7.2->fitter) (0.11.0)\n",
      "Requirement already satisfied: fonttools>=4.22.0 in /home/amit/railway/nature/lib/python3.8/site-packages (from matplotlib>=3.7.2->fitter) (4.42.1)\n",
      "Requirement already satisfied: kiwisolver>=1.0.1 in /home/amit/railway/nature/lib/python3.8/site-packages (from matplotlib>=3.7.2->fitter) (1.4.5)\n",
      "Requirement already satisfied: packaging>=20.0 in /home/amit/railway/nature/lib/python3.8/site-packages (from matplotlib>=3.7.2->fitter) (23.1)\n",
      "Requirement already satisfied: pillow>=6.2.0 in /home/amit/railway/nature/lib/python3.8/site-packages (from matplotlib>=3.7.2->fitter) (10.0.1)\n",
      "Requirement already satisfied: pyparsing>=2.3.1 in /home/amit/railway/nature/lib/python3.8/site-packages (from matplotlib>=3.7.2->fitter) (3.1.1)\n",
      "Requirement already satisfied: python-dateutil>=2.7 in /home/amit/railway/nature/lib/python3.8/site-packages (from matplotlib>=3.7.2->fitter) (2.8.2)\n",
      "Requirement already satisfied: importlib-resources>=3.2.0 in /home/amit/railway/nature/lib/python3.8/site-packages (from matplotlib>=3.7.2->fitter) (6.0.1)\n",
      "Requirement already satisfied: pytz>=2020.1 in /home/amit/railway/nature/lib/python3.8/site-packages (from pandas<3.0.0,>=2.0.3->fitter) (2023.3.post1)\n",
      "Requirement already satisfied: tzdata>=2022.1 in /home/amit/railway/nature/lib/python3.8/site-packages (from pandas<3.0.0,>=2.0.3->fitter) (2023.3)\n",
      "Requirement already satisfied: zipp>=3.1.0 in /home/amit/railway/nature/lib/python3.8/site-packages (from importlib-resources>=3.2.0->matplotlib>=3.7.2->fitter) (3.17.0)\n",
      "Requirement already satisfied: six>=1.5 in /home/amit/railway/nature/lib/python3.8/site-packages (from python-dateutil>=2.7->matplotlib>=3.7.2->fitter) (1.16.0)\n",
      "Downloading click-8.1.7-py3-none-any.whl (97 kB)\n",
      "\u001b[2K   \u001b[38;2;114;156;31m━━━━━━━━━━━━━━━━━━━━━━━━━━━━━━━━━━━━━━━━\u001b[0m \u001b[32m97.9/97.9 kB\u001b[0m \u001b[31m5.9 MB/s\u001b[0m eta \u001b[36m0:00:00\u001b[0m\n",
      "\u001b[?25hDownloading joblib-1.3.2-py3-none-any.whl (302 kB)\n",
      "\u001b[2K   \u001b[38;2;114;156;31m━━━━━━━━━━━━━━━━━━━━━━━━━━━━━━━━━━━━━━━━\u001b[0m \u001b[32m302.2/302.2 kB\u001b[0m \u001b[31m6.2 MB/s\u001b[0m eta \u001b[36m0:00:00\u001b[0m[31m12.8 MB/s\u001b[0m eta \u001b[36m0:00:01\u001b[0m\n",
      "\u001b[?25hDownloading tqdm-4.66.1-py3-none-any.whl (78 kB)\n",
      "\u001b[2K   \u001b[38;2;114;156;31m━━━━━━━━━━━━━━━━━━━━━━━━━━━━━━━━━━━━━━━━\u001b[0m \u001b[32m78.3/78.3 kB\u001b[0m \u001b[31m15.3 MB/s\u001b[0m eta \u001b[36m0:00:00\u001b[0m\n",
      "\u001b[?25hBuilding wheels for collected packages: fitter\n",
      "  Building wheel for fitter (pyproject.toml) ... \u001b[?25ldone\n",
      "\u001b[?25h  Created wheel for fitter: filename=fitter-1.6.0-py3-none-any.whl size=26054 sha256=e087476e867dd92d680f1b32ab7a44771eb79bcba126eb8c35e1c0e3ce637e04\n",
      "  Stored in directory: /home/amit/.cache/pip/wheels/12/35/3c/9683e92185d8703007e11adba40af4d5152517b033286fef00\n",
      "Successfully built fitter\n",
      "Installing collected packages: tqdm, joblib, click, fitter\n",
      "Successfully installed click-8.1.7 fitter-1.6.0 joblib-1.3.2 tqdm-4.66.1\n"
     ]
    }
   ],
   "source": [
    "!pip install fitter"
   ]
  },
  {
   "cell_type": "code",
   "execution_count": 67,
   "id": "2cd2fd6a-2d7b-48c7-8b6a-68d3a08fd541",
   "metadata": {},
   "outputs": [
    {
     "name": "stdout",
     "output_type": "stream",
     "text": [
      "Collecting seaborn\n",
      "  Obtaining dependency information for seaborn from https://files.pythonhosted.org/packages/7b/e5/83fcd7e9db036c179e0352bfcd20f81d728197a16f883e7b90307a88e65e/seaborn-0.13.0-py3-none-any.whl.metadata\n",
      "  Downloading seaborn-0.13.0-py3-none-any.whl.metadata (5.3 kB)\n",
      "Requirement already satisfied: numpy!=1.24.0,>=1.20 in /home/amit/railway/nature/lib/python3.8/site-packages (from seaborn) (1.24.4)\n",
      "Requirement already satisfied: pandas>=1.2 in /home/amit/railway/nature/lib/python3.8/site-packages (from seaborn) (2.0.3)\n",
      "Requirement already satisfied: matplotlib!=3.6.1,>=3.3 in /home/amit/railway/nature/lib/python3.8/site-packages (from seaborn) (3.7.3)\n",
      "Requirement already satisfied: contourpy>=1.0.1 in /home/amit/railway/nature/lib/python3.8/site-packages (from matplotlib!=3.6.1,>=3.3->seaborn) (1.1.1)\n",
      "Requirement already satisfied: cycler>=0.10 in /home/amit/railway/nature/lib/python3.8/site-packages (from matplotlib!=3.6.1,>=3.3->seaborn) (0.11.0)\n",
      "Requirement already satisfied: fonttools>=4.22.0 in /home/amit/railway/nature/lib/python3.8/site-packages (from matplotlib!=3.6.1,>=3.3->seaborn) (4.42.1)\n",
      "Requirement already satisfied: kiwisolver>=1.0.1 in /home/amit/railway/nature/lib/python3.8/site-packages (from matplotlib!=3.6.1,>=3.3->seaborn) (1.4.5)\n",
      "Requirement already satisfied: packaging>=20.0 in /home/amit/railway/nature/lib/python3.8/site-packages (from matplotlib!=3.6.1,>=3.3->seaborn) (23.1)\n",
      "Requirement already satisfied: pillow>=6.2.0 in /home/amit/railway/nature/lib/python3.8/site-packages (from matplotlib!=3.6.1,>=3.3->seaborn) (10.0.1)\n",
      "Requirement already satisfied: pyparsing>=2.3.1 in /home/amit/railway/nature/lib/python3.8/site-packages (from matplotlib!=3.6.1,>=3.3->seaborn) (3.1.1)\n",
      "Requirement already satisfied: python-dateutil>=2.7 in /home/amit/railway/nature/lib/python3.8/site-packages (from matplotlib!=3.6.1,>=3.3->seaborn) (2.8.2)\n",
      "Requirement already satisfied: importlib-resources>=3.2.0 in /home/amit/railway/nature/lib/python3.8/site-packages (from matplotlib!=3.6.1,>=3.3->seaborn) (6.0.1)\n",
      "Requirement already satisfied: pytz>=2020.1 in /home/amit/railway/nature/lib/python3.8/site-packages (from pandas>=1.2->seaborn) (2023.3.post1)\n",
      "Requirement already satisfied: tzdata>=2022.1 in /home/amit/railway/nature/lib/python3.8/site-packages (from pandas>=1.2->seaborn) (2023.3)\n",
      "Requirement already satisfied: zipp>=3.1.0 in /home/amit/railway/nature/lib/python3.8/site-packages (from importlib-resources>=3.2.0->matplotlib!=3.6.1,>=3.3->seaborn) (3.17.0)\n",
      "Requirement already satisfied: six>=1.5 in /home/amit/railway/nature/lib/python3.8/site-packages (from python-dateutil>=2.7->matplotlib!=3.6.1,>=3.3->seaborn) (1.16.0)\n",
      "Downloading seaborn-0.13.0-py3-none-any.whl (294 kB)\n",
      "\u001b[2K   \u001b[38;2;114;156;31m━━━━━━━━━━━━━━━━━━━━━━━━━━━━━━━━━━━━━━━━\u001b[0m \u001b[32m294.6/294.6 kB\u001b[0m \u001b[31m3.1 MB/s\u001b[0m eta \u001b[36m0:00:00\u001b[0m MB/s\u001b[0m eta \u001b[36m0:00:01\u001b[0m\n",
      "\u001b[?25hInstalling collected packages: seaborn\n",
      "Successfully installed seaborn-0.13.0\n"
     ]
    }
   ],
   "source": [
    "!pip install seaborn"
   ]
  },
  {
   "cell_type": "code",
   "execution_count": 13,
   "id": "49d0dfb4-46bb-4d11-b0a1-a86abceb0251",
   "metadata": {},
   "outputs": [],
   "source": [
    "df = pd.read_excel('~/Downloads/RA data_1201 data points.xlsx')"
   ]
  },
  {
   "cell_type": "code",
   "execution_count": 14,
   "id": "00b72ecf-d53b-46de-8db5-df60254fa762",
   "metadata": {},
   "outputs": [
    {
     "data": {
      "text/html": [
       "<div>\n",
       "<style scoped>\n",
       "    .dataframe tbody tr th:only-of-type {\n",
       "        vertical-align: middle;\n",
       "    }\n",
       "\n",
       "    .dataframe tbody tr th {\n",
       "        vertical-align: top;\n",
       "    }\n",
       "\n",
       "    .dataframe thead th {\n",
       "        text-align: right;\n",
       "    }\n",
       "</style>\n",
       "<table border=\"1\" class=\"dataframe\">\n",
       "  <thead>\n",
       "    <tr style=\"text-align: right;\">\n",
       "      <th></th>\n",
       "      <th>Tender No</th>\n",
       "      <th>Tender Year</th>\n",
       "      <th>Cat Code</th>\n",
       "      <th>PO Cat</th>\n",
       "      <th>PL No</th>\n",
       "      <th>Railway Zone</th>\n",
       "      <th>Min BID Rate</th>\n",
       "      <th>Final RA Rate</th>\n",
       "      <th>Min PO Rate</th>\n",
       "      <th>Unnamed: 9</th>\n",
       "      <th>% Diff Final RA Rate-PO Rate</th>\n",
       "      <th>% Diff MinBid-Final RA Rate</th>\n",
       "      <th>Min. PO Value</th>\n",
       "      <th># Bidder Account</th>\n",
       "    </tr>\n",
       "  </thead>\n",
       "  <tbody>\n",
       "    <tr>\n",
       "      <th>0</th>\n",
       "      <td>01201874</td>\n",
       "      <td>2020</td>\n",
       "      <td>11</td>\n",
       "      <td>D</td>\n",
       "      <td>10992157</td>\n",
       "      <td>Patiala Locomotive Works</td>\n",
       "      <td>6963300.0</td>\n",
       "      <td>6619014.0</td>\n",
       "      <td>4386813.19</td>\n",
       "      <td>NaN</td>\n",
       "      <td>0.337241</td>\n",
       "      <td>0.049443</td>\n",
       "      <td>14754446.78</td>\n",
       "      <td>3</td>\n",
       "    </tr>\n",
       "    <tr>\n",
       "      <th>1</th>\n",
       "      <td>01202545</td>\n",
       "      <td>2020</td>\n",
       "      <td>11</td>\n",
       "      <td>D</td>\n",
       "      <td>10992169</td>\n",
       "      <td>Patiala Locomotive Works</td>\n",
       "      <td>250000.0</td>\n",
       "      <td>227989.0</td>\n",
       "      <td>200582.60</td>\n",
       "      <td>NaN</td>\n",
       "      <td>0.120209</td>\n",
       "      <td>0.088044</td>\n",
       "      <td>3453787.68</td>\n",
       "      <td>5</td>\n",
       "    </tr>\n",
       "    <tr>\n",
       "      <th>2</th>\n",
       "      <td>02213432</td>\n",
       "      <td>2022</td>\n",
       "      <td>11</td>\n",
       "      <td>R</td>\n",
       "      <td>25606049</td>\n",
       "      <td>Patiala Locomotive Works</td>\n",
       "      <td>335000.0</td>\n",
       "      <td>333631.0</td>\n",
       "      <td>332000.00</td>\n",
       "      <td>1631.0</td>\n",
       "      <td>0.004889</td>\n",
       "      <td>0.004087</td>\n",
       "      <td>23897360.00</td>\n",
       "      <td>2</td>\n",
       "    </tr>\n",
       "    <tr>\n",
       "      <th>3</th>\n",
       "      <td>10201137</td>\n",
       "      <td>2021</td>\n",
       "      <td>11</td>\n",
       "      <td>D</td>\n",
       "      <td>25607959</td>\n",
       "      <td>Eastern Railway</td>\n",
       "      <td>114975.0</td>\n",
       "      <td>114700.0</td>\n",
       "      <td>90000.00</td>\n",
       "      <td>NaN</td>\n",
       "      <td>0.215344</td>\n",
       "      <td>0.002392</td>\n",
       "      <td>9982800.00</td>\n",
       "      <td>2</td>\n",
       "    </tr>\n",
       "    <tr>\n",
       "      <th>4</th>\n",
       "      <td>10201137</td>\n",
       "      <td>2021</td>\n",
       "      <td>11</td>\n",
       "      <td>R</td>\n",
       "      <td>25607959</td>\n",
       "      <td>Eastern Railway</td>\n",
       "      <td>114975.0</td>\n",
       "      <td>114700.0</td>\n",
       "      <td>114700.00</td>\n",
       "      <td>0.0</td>\n",
       "      <td>0.000000</td>\n",
       "      <td>0.002392</td>\n",
       "      <td>20437246.00</td>\n",
       "      <td>2</td>\n",
       "    </tr>\n",
       "  </tbody>\n",
       "</table>\n",
       "</div>"
      ],
      "text/plain": [
       "  Tender No  Tender Year  Cat Code PO Cat     PL No              Railway Zone  \\\n",
       "0  01201874         2020        11      D  10992157  Patiala Locomotive Works   \n",
       "1  01202545         2020        11      D  10992169  Patiala Locomotive Works   \n",
       "2  02213432         2022        11      R  25606049  Patiala Locomotive Works   \n",
       "3  10201137         2021        11      D  25607959           Eastern Railway   \n",
       "4  10201137         2021        11      R  25607959           Eastern Railway   \n",
       "\n",
       "   Min BID Rate  Final RA Rate  Min PO Rate  Unnamed: 9  \\\n",
       "0     6963300.0      6619014.0   4386813.19         NaN   \n",
       "1      250000.0       227989.0    200582.60         NaN   \n",
       "2      335000.0       333631.0    332000.00      1631.0   \n",
       "3      114975.0       114700.0     90000.00         NaN   \n",
       "4      114975.0       114700.0    114700.00         0.0   \n",
       "\n",
       "   % Diff Final RA Rate-PO Rate  % Diff MinBid-Final RA Rate  Min. PO Value  \\\n",
       "0                      0.337241                     0.049443    14754446.78   \n",
       "1                      0.120209                     0.088044     3453787.68   \n",
       "2                      0.004889                     0.004087    23897360.00   \n",
       "3                      0.215344                     0.002392     9982800.00   \n",
       "4                      0.000000                     0.002392    20437246.00   \n",
       "\n",
       "   # Bidder Account  \n",
       "0                 3  \n",
       "1                 5  \n",
       "2                 2  \n",
       "3                 2  \n",
       "4                 2  "
      ]
     },
     "execution_count": 14,
     "metadata": {},
     "output_type": "execute_result"
    }
   ],
   "source": [
    "df.head()"
   ]
  },
  {
   "cell_type": "code",
   "execution_count": 15,
   "id": "30ff60af-da16-487e-85ac-45db0249fb21",
   "metadata": {},
   "outputs": [],
   "source": [
    "df['PL No'] = df['PL No'].astype(str)"
   ]
  },
  {
   "cell_type": "code",
   "execution_count": 16,
   "id": "be0938e2-9560-4cbb-9250-28208a49df9b",
   "metadata": {},
   "outputs": [
    {
     "name": "stdout",
     "output_type": "stream",
     "text": [
      "Tender No                        object\n",
      "Tender Year                       int64\n",
      "Cat Code                          int64\n",
      "PO Cat                           object\n",
      "PL No                            object\n",
      "Railway Zone                     object\n",
      "Min BID Rate                    float64\n",
      "Final RA Rate                   float64\n",
      "Min PO Rate                     float64\n",
      "Unnamed: 9                      float64\n",
      "% Diff Final RA Rate-PO Rate    float64\n",
      "% Diff MinBid-Final RA Rate     float64\n",
      "Min. PO Value                   float64\n",
      "# Bidder Account                  int64\n",
      "dtype: object\n"
     ]
    }
   ],
   "source": [
    "print(df.dtypes)"
   ]
  },
  {
   "cell_type": "code",
   "execution_count": 17,
   "id": "7197ac88-5d6b-48d4-8036-bc5ed25e9010",
   "metadata": {},
   "outputs": [],
   "source": [
    "def extr(s):\n",
    "    return s[:2]"
   ]
  },
  {
   "cell_type": "code",
   "execution_count": 18,
   "id": "1197e561-ff01-455c-9412-e3c68d5a5bab",
   "metadata": {},
   "outputs": [],
   "source": [
    "df['PL_Cat'] = df['PL No'].apply(extr)"
   ]
  },
  {
   "cell_type": "code",
   "execution_count": 19,
   "id": "9fc80ab4-e55d-4d89-9d67-9c4a0e864e86",
   "metadata": {},
   "outputs": [
    {
     "data": {
      "text/plain": [
       "0       10\n",
       "1       10\n",
       "2       25\n",
       "3       25\n",
       "4       25\n",
       "        ..\n",
       "1196    81\n",
       "1197    81\n",
       "1198    81\n",
       "1199    81\n",
       "1200    81\n",
       "Name: PL_Cat, Length: 1201, dtype: object"
      ]
     },
     "execution_count": 19,
     "metadata": {},
     "output_type": "execute_result"
    }
   ],
   "source": [
    "df['PL_Cat']"
   ]
  },
  {
   "cell_type": "code",
   "execution_count": 20,
   "id": "ad4227cc-51ca-48ec-8530-d0ebfc8b8b1b",
   "metadata": {},
   "outputs": [
    {
     "data": {
      "text/plain": [
       "PL_Cat\n",
       "33    708\n",
       "29    297\n",
       "38     43\n",
       "31     40\n",
       "30     30\n",
       "45     22\n",
       "56     14\n",
       "40     10\n",
       "75      8\n",
       "25      7\n",
       "81      5\n",
       "35      5\n",
       "47      4\n",
       "76      4\n",
       "10      2\n",
       "36      1\n",
       "77      1\n",
       "Name: count, dtype: int64"
      ]
     },
     "execution_count": 20,
     "metadata": {},
     "output_type": "execute_result"
    }
   ],
   "source": [
    "df['PL_Cat'].value_counts()"
   ]
  },
  {
   "cell_type": "code",
   "execution_count": 21,
   "id": "defc65bc-bda9-46dc-b0f7-a0019c1b60f8",
   "metadata": {},
   "outputs": [],
   "source": [
    "df['PL_Cat'] = df['PL_Cat'].astype(int)"
   ]
  },
  {
   "cell_type": "code",
   "execution_count": 22,
   "id": "85e9cd8e-ffcb-4fc7-a95b-ffd68e9b56a8",
   "metadata": {},
   "outputs": [],
   "source": [
    "df_10 = df[(df['PL_Cat']>=10) & (df['PL_Cat']<20)] \n"
   ]
  },
  {
   "cell_type": "code",
   "execution_count": 23,
   "id": "8c6fa97c-d51c-437e-bba9-ae18bef0bc6d",
   "metadata": {},
   "outputs": [
    {
     "data": {
      "text/html": [
       "<div>\n",
       "<style scoped>\n",
       "    .dataframe tbody tr th:only-of-type {\n",
       "        vertical-align: middle;\n",
       "    }\n",
       "\n",
       "    .dataframe tbody tr th {\n",
       "        vertical-align: top;\n",
       "    }\n",
       "\n",
       "    .dataframe thead th {\n",
       "        text-align: right;\n",
       "    }\n",
       "</style>\n",
       "<table border=\"1\" class=\"dataframe\">\n",
       "  <thead>\n",
       "    <tr style=\"text-align: right;\">\n",
       "      <th></th>\n",
       "      <th>Tender No</th>\n",
       "      <th>Tender Year</th>\n",
       "      <th>Cat Code</th>\n",
       "      <th>PO Cat</th>\n",
       "      <th>PL No</th>\n",
       "      <th>Railway Zone</th>\n",
       "      <th>Min BID Rate</th>\n",
       "      <th>Final RA Rate</th>\n",
       "      <th>Min PO Rate</th>\n",
       "      <th>Unnamed: 9</th>\n",
       "      <th>% Diff Final RA Rate-PO Rate</th>\n",
       "      <th>% Diff MinBid-Final RA Rate</th>\n",
       "      <th>Min. PO Value</th>\n",
       "      <th># Bidder Account</th>\n",
       "      <th>PL_Cat</th>\n",
       "    </tr>\n",
       "  </thead>\n",
       "  <tbody>\n",
       "    <tr>\n",
       "      <th>0</th>\n",
       "      <td>01201874</td>\n",
       "      <td>2020</td>\n",
       "      <td>11</td>\n",
       "      <td>D</td>\n",
       "      <td>10992157</td>\n",
       "      <td>Patiala Locomotive Works</td>\n",
       "      <td>6963300.0</td>\n",
       "      <td>6619014.0</td>\n",
       "      <td>4386813.19</td>\n",
       "      <td>NaN</td>\n",
       "      <td>0.337241</td>\n",
       "      <td>0.049443</td>\n",
       "      <td>14754446.78</td>\n",
       "      <td>3</td>\n",
       "      <td>10</td>\n",
       "    </tr>\n",
       "    <tr>\n",
       "      <th>1</th>\n",
       "      <td>01202545</td>\n",
       "      <td>2020</td>\n",
       "      <td>11</td>\n",
       "      <td>D</td>\n",
       "      <td>10992169</td>\n",
       "      <td>Patiala Locomotive Works</td>\n",
       "      <td>250000.0</td>\n",
       "      <td>227989.0</td>\n",
       "      <td>200582.60</td>\n",
       "      <td>NaN</td>\n",
       "      <td>0.120209</td>\n",
       "      <td>0.088044</td>\n",
       "      <td>3453787.68</td>\n",
       "      <td>5</td>\n",
       "      <td>10</td>\n",
       "    </tr>\n",
       "  </tbody>\n",
       "</table>\n",
       "</div>"
      ],
      "text/plain": [
       "  Tender No  Tender Year  Cat Code PO Cat     PL No              Railway Zone  \\\n",
       "0  01201874         2020        11      D  10992157  Patiala Locomotive Works   \n",
       "1  01202545         2020        11      D  10992169  Patiala Locomotive Works   \n",
       "\n",
       "   Min BID Rate  Final RA Rate  Min PO Rate  Unnamed: 9  \\\n",
       "0     6963300.0      6619014.0   4386813.19         NaN   \n",
       "1      250000.0       227989.0    200582.60         NaN   \n",
       "\n",
       "   % Diff Final RA Rate-PO Rate  % Diff MinBid-Final RA Rate  Min. PO Value  \\\n",
       "0                      0.337241                     0.049443    14754446.78   \n",
       "1                      0.120209                     0.088044     3453787.68   \n",
       "\n",
       "   # Bidder Account  PL_Cat  \n",
       "0                 3      10  \n",
       "1                 5      10  "
      ]
     },
     "execution_count": 23,
     "metadata": {},
     "output_type": "execute_result"
    }
   ],
   "source": [
    "df_10"
   ]
  },
  {
   "cell_type": "code",
   "execution_count": 24,
   "id": "b5929ec2-498a-4832-bd5b-1a1bbc02f384",
   "metadata": {},
   "outputs": [],
   "source": [
    "def custom_calc(x):\n",
    "    return (((x[0] - x[1]) / x[0]) * 100).round(6)\n"
   ]
  },
  {
   "cell_type": "code",
   "execution_count": 25,
   "id": "63337358-837d-4e92-ab0f-e23eab4fdcd1",
   "metadata": {},
   "outputs": [
    {
     "name": "stderr",
     "output_type": "stream",
     "text": [
      "/tmp/ipykernel_17042/1335430945.py:1: SettingWithCopyWarning: \n",
      "A value is trying to be set on a copy of a slice from a DataFrame.\n",
      "Try using .loc[row_indexer,col_indexer] = value instead\n",
      "\n",
      "See the caveats in the documentation: https://pandas.pydata.org/pandas-docs/stable/user_guide/indexing.html#returning-a-view-versus-a-copy\n",
      "  df_10['Percent_Change'] = df[['Min BID Rate', 'Final RA Rate', 'Min PO Rate']].apply(custom_calc, axis=1)\n"
     ]
    }
   ],
   "source": [
    "df_10['Percent_Change'] = df[['Min BID Rate', 'Final RA Rate', 'Min PO Rate']].apply(custom_calc, axis=1)"
   ]
  },
  {
   "cell_type": "code",
   "execution_count": 26,
   "id": "4c326cf9-0ef7-478d-a1e0-8e6561963671",
   "metadata": {},
   "outputs": [
    {
     "data": {
      "text/html": [
       "<div>\n",
       "<style scoped>\n",
       "    .dataframe tbody tr th:only-of-type {\n",
       "        vertical-align: middle;\n",
       "    }\n",
       "\n",
       "    .dataframe tbody tr th {\n",
       "        vertical-align: top;\n",
       "    }\n",
       "\n",
       "    .dataframe thead th {\n",
       "        text-align: right;\n",
       "    }\n",
       "</style>\n",
       "<table border=\"1\" class=\"dataframe\">\n",
       "  <thead>\n",
       "    <tr style=\"text-align: right;\">\n",
       "      <th></th>\n",
       "      <th>Tender No</th>\n",
       "      <th>Tender Year</th>\n",
       "      <th>Cat Code</th>\n",
       "      <th>PO Cat</th>\n",
       "      <th>PL No</th>\n",
       "      <th>Railway Zone</th>\n",
       "      <th>Min BID Rate</th>\n",
       "      <th>Final RA Rate</th>\n",
       "      <th>Min PO Rate</th>\n",
       "      <th>Unnamed: 9</th>\n",
       "      <th>% Diff Final RA Rate-PO Rate</th>\n",
       "      <th>% Diff MinBid-Final RA Rate</th>\n",
       "      <th>Min. PO Value</th>\n",
       "      <th># Bidder Account</th>\n",
       "      <th>PL_Cat</th>\n",
       "      <th>Percent_Change</th>\n",
       "    </tr>\n",
       "  </thead>\n",
       "  <tbody>\n",
       "    <tr>\n",
       "      <th>0</th>\n",
       "      <td>01201874</td>\n",
       "      <td>2020</td>\n",
       "      <td>11</td>\n",
       "      <td>D</td>\n",
       "      <td>10992157</td>\n",
       "      <td>Patiala Locomotive Works</td>\n",
       "      <td>6963300.0</td>\n",
       "      <td>6619014.0</td>\n",
       "      <td>4386813.19</td>\n",
       "      <td>NaN</td>\n",
       "      <td>0.337241</td>\n",
       "      <td>0.049443</td>\n",
       "      <td>14754446.78</td>\n",
       "      <td>3</td>\n",
       "      <td>10</td>\n",
       "      <td>4.944294</td>\n",
       "    </tr>\n",
       "    <tr>\n",
       "      <th>1</th>\n",
       "      <td>01202545</td>\n",
       "      <td>2020</td>\n",
       "      <td>11</td>\n",
       "      <td>D</td>\n",
       "      <td>10992169</td>\n",
       "      <td>Patiala Locomotive Works</td>\n",
       "      <td>250000.0</td>\n",
       "      <td>227989.0</td>\n",
       "      <td>200582.60</td>\n",
       "      <td>NaN</td>\n",
       "      <td>0.120209</td>\n",
       "      <td>0.088044</td>\n",
       "      <td>3453787.68</td>\n",
       "      <td>5</td>\n",
       "      <td>10</td>\n",
       "      <td>8.804400</td>\n",
       "    </tr>\n",
       "  </tbody>\n",
       "</table>\n",
       "</div>"
      ],
      "text/plain": [
       "  Tender No  Tender Year  Cat Code PO Cat     PL No              Railway Zone  \\\n",
       "0  01201874         2020        11      D  10992157  Patiala Locomotive Works   \n",
       "1  01202545         2020        11      D  10992169  Patiala Locomotive Works   \n",
       "\n",
       "   Min BID Rate  Final RA Rate  Min PO Rate  Unnamed: 9  \\\n",
       "0     6963300.0      6619014.0   4386813.19         NaN   \n",
       "1      250000.0       227989.0    200582.60         NaN   \n",
       "\n",
       "   % Diff Final RA Rate-PO Rate  % Diff MinBid-Final RA Rate  Min. PO Value  \\\n",
       "0                      0.337241                     0.049443    14754446.78   \n",
       "1                      0.120209                     0.088044     3453787.68   \n",
       "\n",
       "   # Bidder Account  PL_Cat  Percent_Change  \n",
       "0                 3      10        4.944294  \n",
       "1                 5      10        8.804400  "
      ]
     },
     "execution_count": 26,
     "metadata": {},
     "output_type": "execute_result"
    }
   ],
   "source": [
    "df_10"
   ]
  },
  {
   "cell_type": "code",
   "execution_count": 27,
   "id": "6774cd3e-89cb-4e9f-b515-e04cc2cbb8d1",
   "metadata": {},
   "outputs": [
    {
     "data": {
      "text/plain": [
       "PL_Cat\n",
       "10    2\n",
       "Name: count, dtype: int64"
      ]
     },
     "execution_count": 27,
     "metadata": {},
     "output_type": "execute_result"
    }
   ],
   "source": [
    "df_10['PL_Cat'].value_counts()"
   ]
  },
  {
   "cell_type": "code",
   "execution_count": 28,
   "id": "0ab0b39e-7115-49dd-9019-bfa479810d92",
   "metadata": {},
   "outputs": [
    {
     "data": {
      "text/plain": [
       "array([[<Axes: title={'center': 'Percent_Change'}>]], dtype=object)"
      ]
     },
     "execution_count": 28,
     "metadata": {},
     "output_type": "execute_result"
    },
    {
     "data": {
      "image/png": "[encoded data removed]",
      "text/plain": [
       "<Figure size 640x480 with 1 Axes>"
      ]
     },
     "metadata": {},
     "output_type": "display_data"
    }
   ],
   "source": [
    "df_10.hist(column='Percent_Change',bins=5)"
   ]
  },
  {
   "cell_type": "markdown",
   "id": "4c84916b-6493-4048-a7f2-a6f151e8343e",
   "metadata": {},
   "source": [
    "## For Category 20"
   ]
  },
  {
   "cell_type": "code",
   "execution_count": 29,
   "id": "7511fb1a-a22d-4511-84d7-a6dfabc1d157",
   "metadata": {},
   "outputs": [],
   "source": [
    "df_20 = df[(df['PL_Cat']>=20) & (df['PL_Cat']<30)] "
   ]
  },
  {
   "cell_type": "code",
   "execution_count": 30,
   "id": "4fdf9670-e9e6-4a34-a818-e42588123ca6",
   "metadata": {},
   "outputs": [
    {
     "data": {
      "text/html": [
       "<div>\n",
       "<style scoped>\n",
       "    .dataframe tbody tr th:only-of-type {\n",
       "        vertical-align: middle;\n",
       "    }\n",
       "\n",
       "    .dataframe tbody tr th {\n",
       "        vertical-align: top;\n",
       "    }\n",
       "\n",
       "    .dataframe thead th {\n",
       "        text-align: right;\n",
       "    }\n",
       "</style>\n",
       "<table border=\"1\" class=\"dataframe\">\n",
       "  <thead>\n",
       "    <tr style=\"text-align: right;\">\n",
       "      <th></th>\n",
       "      <th>Tender No</th>\n",
       "      <th>Tender Year</th>\n",
       "      <th>Cat Code</th>\n",
       "      <th>PO Cat</th>\n",
       "      <th>PL No</th>\n",
       "      <th>Railway Zone</th>\n",
       "      <th>Min BID Rate</th>\n",
       "      <th>Final RA Rate</th>\n",
       "      <th>Min PO Rate</th>\n",
       "      <th>Unnamed: 9</th>\n",
       "      <th>% Diff Final RA Rate-PO Rate</th>\n",
       "      <th>% Diff MinBid-Final RA Rate</th>\n",
       "      <th>Min. PO Value</th>\n",
       "      <th># Bidder Account</th>\n",
       "      <th>PL_Cat</th>\n",
       "    </tr>\n",
       "  </thead>\n",
       "  <tbody>\n",
       "    <tr>\n",
       "      <th>2</th>\n",
       "      <td>02213432</td>\n",
       "      <td>2022</td>\n",
       "      <td>11</td>\n",
       "      <td>R</td>\n",
       "      <td>25606049</td>\n",
       "      <td>Patiala Locomotive Works</td>\n",
       "      <td>335000.0</td>\n",
       "      <td>333631.0</td>\n",
       "      <td>332000.0</td>\n",
       "      <td>1631.0</td>\n",
       "      <td>0.004889</td>\n",
       "      <td>0.004087</td>\n",
       "      <td>2.389736e+07</td>\n",
       "      <td>2</td>\n",
       "      <td>25</td>\n",
       "    </tr>\n",
       "    <tr>\n",
       "      <th>3</th>\n",
       "      <td>10201137</td>\n",
       "      <td>2021</td>\n",
       "      <td>11</td>\n",
       "      <td>D</td>\n",
       "      <td>25607959</td>\n",
       "      <td>Eastern Railway</td>\n",
       "      <td>114975.0</td>\n",
       "      <td>114700.0</td>\n",
       "      <td>90000.0</td>\n",
       "      <td>NaN</td>\n",
       "      <td>0.215344</td>\n",
       "      <td>0.002392</td>\n",
       "      <td>9.982800e+06</td>\n",
       "      <td>2</td>\n",
       "      <td>25</td>\n",
       "    </tr>\n",
       "    <tr>\n",
       "      <th>4</th>\n",
       "      <td>10201137</td>\n",
       "      <td>2021</td>\n",
       "      <td>11</td>\n",
       "      <td>R</td>\n",
       "      <td>25607959</td>\n",
       "      <td>Eastern Railway</td>\n",
       "      <td>114975.0</td>\n",
       "      <td>114700.0</td>\n",
       "      <td>114700.0</td>\n",
       "      <td>0.0</td>\n",
       "      <td>0.000000</td>\n",
       "      <td>0.002392</td>\n",
       "      <td>2.043725e+07</td>\n",
       "      <td>2</td>\n",
       "      <td>25</td>\n",
       "    </tr>\n",
       "    <tr>\n",
       "      <th>5</th>\n",
       "      <td>02214320</td>\n",
       "      <td>2022</td>\n",
       "      <td>11</td>\n",
       "      <td>R</td>\n",
       "      <td>25940200</td>\n",
       "      <td>Patiala Locomotive Works</td>\n",
       "      <td>920000.0</td>\n",
       "      <td>920000.0</td>\n",
       "      <td>914480.0</td>\n",
       "      <td>5520.0</td>\n",
       "      <td>0.006000</td>\n",
       "      <td>0.000000</td>\n",
       "      <td>1.942356e+08</td>\n",
       "      <td>1</td>\n",
       "      <td>25</td>\n",
       "    </tr>\n",
       "    <tr>\n",
       "      <th>6</th>\n",
       "      <td>02214320</td>\n",
       "      <td>2022</td>\n",
       "      <td>13</td>\n",
       "      <td>R</td>\n",
       "      <td>25940200</td>\n",
       "      <td>Patiala Locomotive Works</td>\n",
       "      <td>930000.0</td>\n",
       "      <td>915000.0</td>\n",
       "      <td>914480.0</td>\n",
       "      <td>520.0</td>\n",
       "      <td>0.000568</td>\n",
       "      <td>0.016129</td>\n",
       "      <td>1.942356e+08</td>\n",
       "      <td>1</td>\n",
       "      <td>25</td>\n",
       "    </tr>\n",
       "    <tr>\n",
       "      <th>...</th>\n",
       "      <td>...</td>\n",
       "      <td>...</td>\n",
       "      <td>...</td>\n",
       "      <td>...</td>\n",
       "      <td>...</td>\n",
       "      <td>...</td>\n",
       "      <td>...</td>\n",
       "      <td>...</td>\n",
       "      <td>...</td>\n",
       "      <td>...</td>\n",
       "      <td>...</td>\n",
       "      <td>...</td>\n",
       "      <td>...</td>\n",
       "      <td>...</td>\n",
       "      <td>...</td>\n",
       "    </tr>\n",
       "    <tr>\n",
       "      <th>301</th>\n",
       "      <td>91200950</td>\n",
       "      <td>2020</td>\n",
       "      <td>13</td>\n",
       "      <td>D</td>\n",
       "      <td>29941362</td>\n",
       "      <td>CLW</td>\n",
       "      <td>44650.0</td>\n",
       "      <td>44605.0</td>\n",
       "      <td>44605.0</td>\n",
       "      <td>NaN</td>\n",
       "      <td>0.000000</td>\n",
       "      <td>0.001008</td>\n",
       "      <td>7.631916e+06</td>\n",
       "      <td>1</td>\n",
       "      <td>29</td>\n",
       "    </tr>\n",
       "    <tr>\n",
       "      <th>302</th>\n",
       "      <td>91210950</td>\n",
       "      <td>2021</td>\n",
       "      <td>11</td>\n",
       "      <td>D</td>\n",
       "      <td>29941362</td>\n",
       "      <td>CLW</td>\n",
       "      <td>80000.0</td>\n",
       "      <td>79200.0</td>\n",
       "      <td>53900.0</td>\n",
       "      <td>NaN</td>\n",
       "      <td>0.319444</td>\n",
       "      <td>0.010000</td>\n",
       "      <td>3.084697e+07</td>\n",
       "      <td>4</td>\n",
       "      <td>29</td>\n",
       "    </tr>\n",
       "    <tr>\n",
       "      <th>303</th>\n",
       "      <td>91210950</td>\n",
       "      <td>2021</td>\n",
       "      <td>11</td>\n",
       "      <td>R</td>\n",
       "      <td>29941362</td>\n",
       "      <td>CLW</td>\n",
       "      <td>80000.0</td>\n",
       "      <td>79200.0</td>\n",
       "      <td>79200.0</td>\n",
       "      <td>0.0</td>\n",
       "      <td>0.000000</td>\n",
       "      <td>0.010000</td>\n",
       "      <td>2.233598e+07</td>\n",
       "      <td>4</td>\n",
       "      <td>29</td>\n",
       "    </tr>\n",
       "    <tr>\n",
       "      <th>304</th>\n",
       "      <td>02212706</td>\n",
       "      <td>2021</td>\n",
       "      <td>11</td>\n",
       "      <td>D</td>\n",
       "      <td>29942007</td>\n",
       "      <td>Patiala Locomotive Works</td>\n",
       "      <td>2570000.0</td>\n",
       "      <td>2554610.5</td>\n",
       "      <td>1396202.0</td>\n",
       "      <td>NaN</td>\n",
       "      <td>0.453458</td>\n",
       "      <td>0.005988</td>\n",
       "      <td>2.971476e+07</td>\n",
       "      <td>3</td>\n",
       "      <td>29</td>\n",
       "    </tr>\n",
       "    <tr>\n",
       "      <th>305</th>\n",
       "      <td>02212706</td>\n",
       "      <td>2021</td>\n",
       "      <td>11</td>\n",
       "      <td>R</td>\n",
       "      <td>29942007</td>\n",
       "      <td>Patiala Locomotive Works</td>\n",
       "      <td>2570000.0</td>\n",
       "      <td>2554610.5</td>\n",
       "      <td>2554610.5</td>\n",
       "      <td>0.0</td>\n",
       "      <td>0.000000</td>\n",
       "      <td>0.005988</td>\n",
       "      <td>3.828339e+08</td>\n",
       "      <td>3</td>\n",
       "      <td>29</td>\n",
       "    </tr>\n",
       "  </tbody>\n",
       "</table>\n",
       "<p>304 rows × 15 columns</p>\n",
       "</div>"
      ],
      "text/plain": [
       "    Tender No  Tender Year  Cat Code PO Cat     PL No  \\\n",
       "2    02213432         2022        11      R  25606049   \n",
       "3    10201137         2021        11      D  25607959   \n",
       "4    10201137         2021        11      R  25607959   \n",
       "5    02214320         2022        11      R  25940200   \n",
       "6    02214320         2022        13      R  25940200   \n",
       "..        ...          ...       ...    ...       ...   \n",
       "301  91200950         2020        13      D  29941362   \n",
       "302  91210950         2021        11      D  29941362   \n",
       "303  91210950         2021        11      R  29941362   \n",
       "304  02212706         2021        11      D  29942007   \n",
       "305  02212706         2021        11      R  29942007   \n",
       "\n",
       "                 Railway Zone  Min BID Rate  Final RA Rate  Min PO Rate  \\\n",
       "2    Patiala Locomotive Works      335000.0       333631.0     332000.0   \n",
       "3             Eastern Railway      114975.0       114700.0      90000.0   \n",
       "4             Eastern Railway      114975.0       114700.0     114700.0   \n",
       "5    Patiala Locomotive Works      920000.0       920000.0     914480.0   \n",
       "6    Patiala Locomotive Works      930000.0       915000.0     914480.0   \n",
       "..                        ...           ...            ...          ...   \n",
       "301                       CLW       44650.0        44605.0      44605.0   \n",
       "302                       CLW       80000.0        79200.0      53900.0   \n",
       "303                       CLW       80000.0        79200.0      79200.0   \n",
       "304  Patiala Locomotive Works     2570000.0      2554610.5    1396202.0   \n",
       "305  Patiala Locomotive Works     2570000.0      2554610.5    2554610.5   \n",
       "\n",
       "     Unnamed: 9  % Diff Final RA Rate-PO Rate  % Diff MinBid-Final RA Rate  \\\n",
       "2        1631.0                      0.004889                     0.004087   \n",
       "3           NaN                      0.215344                     0.002392   \n",
       "4           0.0                      0.000000                     0.002392   \n",
       "5        5520.0                      0.006000                     0.000000   \n",
       "6         520.0                      0.000568                     0.016129   \n",
       "..          ...                           ...                          ...   \n",
       "301         NaN                      0.000000                     0.001008   \n",
       "302         NaN                      0.319444                     0.010000   \n",
       "303         0.0                      0.000000                     0.010000   \n",
       "304         NaN                      0.453458                     0.005988   \n",
       "305         0.0                      0.000000                     0.005988   \n",
       "\n",
       "     Min. PO Value  # Bidder Account  PL_Cat  \n",
       "2     2.389736e+07                 2      25  \n",
       "3     9.982800e+06                 2      25  \n",
       "4     2.043725e+07                 2      25  \n",
       "5     1.942356e+08                 1      25  \n",
       "6     1.942356e+08                 1      25  \n",
       "..             ...               ...     ...  \n",
       "301   7.631916e+06                 1      29  \n",
       "302   3.084697e+07                 4      29  \n",
       "303   2.233598e+07                 4      29  \n",
       "304   2.971476e+07                 3      29  \n",
       "305   3.828339e+08                 3      29  \n",
       "\n",
       "[304 rows x 15 columns]"
      ]
     },
     "execution_count": 30,
     "metadata": {},
     "output_type": "execute_result"
    }
   ],
   "source": [
    "df_20"
   ]
  },
  {
   "cell_type": "code",
   "execution_count": 31,
   "id": "0639b250-9a9a-40f2-aca8-9e2836d82060",
   "metadata": {},
   "outputs": [
    {
     "name": "stderr",
     "output_type": "stream",
     "text": [
      "/tmp/ipykernel_17042/3605028952.py:1: SettingWithCopyWarning: \n",
      "A value is trying to be set on a copy of a slice from a DataFrame.\n",
      "Try using .loc[row_indexer,col_indexer] = value instead\n",
      "\n",
      "See the caveats in the documentation: https://pandas.pydata.org/pandas-docs/stable/user_guide/indexing.html#returning-a-view-versus-a-copy\n",
      "  df_20['Percent_Change'] = df[['Min BID Rate', 'Final RA Rate', 'Min PO Rate']].apply(custom_calc, axis=1)\n"
     ]
    }
   ],
   "source": [
    "df_20['Percent_Change'] = df[['Min BID Rate', 'Final RA Rate', 'Min PO Rate']].apply(custom_calc, axis=1)"
   ]
  },
  {
   "cell_type": "code",
   "execution_count": 32,
   "id": "aa2804ca-f1cb-47a8-9fa0-3165e7194a0e",
   "metadata": {},
   "outputs": [
    {
     "data": {
      "text/html": [
       "<div>\n",
       "<style scoped>\n",
       "    .dataframe tbody tr th:only-of-type {\n",
       "        vertical-align: middle;\n",
       "    }\n",
       "\n",
       "    .dataframe tbody tr th {\n",
       "        vertical-align: top;\n",
       "    }\n",
       "\n",
       "    .dataframe thead th {\n",
       "        text-align: right;\n",
       "    }\n",
       "</style>\n",
       "<table border=\"1\" class=\"dataframe\">\n",
       "  <thead>\n",
       "    <tr style=\"text-align: right;\">\n",
       "      <th></th>\n",
       "      <th>Tender No</th>\n",
       "      <th>Tender Year</th>\n",
       "      <th>Cat Code</th>\n",
       "      <th>PO Cat</th>\n",
       "      <th>PL No</th>\n",
       "      <th>Railway Zone</th>\n",
       "      <th>Min BID Rate</th>\n",
       "      <th>Final RA Rate</th>\n",
       "      <th>Min PO Rate</th>\n",
       "      <th>Unnamed: 9</th>\n",
       "      <th>% Diff Final RA Rate-PO Rate</th>\n",
       "      <th>% Diff MinBid-Final RA Rate</th>\n",
       "      <th>Min. PO Value</th>\n",
       "      <th># Bidder Account</th>\n",
       "      <th>PL_Cat</th>\n",
       "      <th>Percent_Change</th>\n",
       "    </tr>\n",
       "  </thead>\n",
       "  <tbody>\n",
       "    <tr>\n",
       "      <th>2</th>\n",
       "      <td>02213432</td>\n",
       "      <td>2022</td>\n",
       "      <td>11</td>\n",
       "      <td>R</td>\n",
       "      <td>25606049</td>\n",
       "      <td>Patiala Locomotive Works</td>\n",
       "      <td>335000.0</td>\n",
       "      <td>333631.0</td>\n",
       "      <td>332000.0</td>\n",
       "      <td>1631.0</td>\n",
       "      <td>0.004889</td>\n",
       "      <td>0.004087</td>\n",
       "      <td>2.389736e+07</td>\n",
       "      <td>2</td>\n",
       "      <td>25</td>\n",
       "      <td>0.408657</td>\n",
       "    </tr>\n",
       "    <tr>\n",
       "      <th>3</th>\n",
       "      <td>10201137</td>\n",
       "      <td>2021</td>\n",
       "      <td>11</td>\n",
       "      <td>D</td>\n",
       "      <td>25607959</td>\n",
       "      <td>Eastern Railway</td>\n",
       "      <td>114975.0</td>\n",
       "      <td>114700.0</td>\n",
       "      <td>90000.0</td>\n",
       "      <td>NaN</td>\n",
       "      <td>0.215344</td>\n",
       "      <td>0.002392</td>\n",
       "      <td>9.982800e+06</td>\n",
       "      <td>2</td>\n",
       "      <td>25</td>\n",
       "      <td>0.239182</td>\n",
       "    </tr>\n",
       "    <tr>\n",
       "      <th>4</th>\n",
       "      <td>10201137</td>\n",
       "      <td>2021</td>\n",
       "      <td>11</td>\n",
       "      <td>R</td>\n",
       "      <td>25607959</td>\n",
       "      <td>Eastern Railway</td>\n",
       "      <td>114975.0</td>\n",
       "      <td>114700.0</td>\n",
       "      <td>114700.0</td>\n",
       "      <td>0.0</td>\n",
       "      <td>0.000000</td>\n",
       "      <td>0.002392</td>\n",
       "      <td>2.043725e+07</td>\n",
       "      <td>2</td>\n",
       "      <td>25</td>\n",
       "      <td>0.239182</td>\n",
       "    </tr>\n",
       "    <tr>\n",
       "      <th>5</th>\n",
       "      <td>02214320</td>\n",
       "      <td>2022</td>\n",
       "      <td>11</td>\n",
       "      <td>R</td>\n",
       "      <td>25940200</td>\n",
       "      <td>Patiala Locomotive Works</td>\n",
       "      <td>920000.0</td>\n",
       "      <td>920000.0</td>\n",
       "      <td>914480.0</td>\n",
       "      <td>5520.0</td>\n",
       "      <td>0.006000</td>\n",
       "      <td>0.000000</td>\n",
       "      <td>1.942356e+08</td>\n",
       "      <td>1</td>\n",
       "      <td>25</td>\n",
       "      <td>0.000000</td>\n",
       "    </tr>\n",
       "    <tr>\n",
       "      <th>6</th>\n",
       "      <td>02214320</td>\n",
       "      <td>2022</td>\n",
       "      <td>13</td>\n",
       "      <td>R</td>\n",
       "      <td>25940200</td>\n",
       "      <td>Patiala Locomotive Works</td>\n",
       "      <td>930000.0</td>\n",
       "      <td>915000.0</td>\n",
       "      <td>914480.0</td>\n",
       "      <td>520.0</td>\n",
       "      <td>0.000568</td>\n",
       "      <td>0.016129</td>\n",
       "      <td>1.942356e+08</td>\n",
       "      <td>1</td>\n",
       "      <td>25</td>\n",
       "      <td>1.612903</td>\n",
       "    </tr>\n",
       "    <tr>\n",
       "      <th>...</th>\n",
       "      <td>...</td>\n",
       "      <td>...</td>\n",
       "      <td>...</td>\n",
       "      <td>...</td>\n",
       "      <td>...</td>\n",
       "      <td>...</td>\n",
       "      <td>...</td>\n",
       "      <td>...</td>\n",
       "      <td>...</td>\n",
       "      <td>...</td>\n",
       "      <td>...</td>\n",
       "      <td>...</td>\n",
       "      <td>...</td>\n",
       "      <td>...</td>\n",
       "      <td>...</td>\n",
       "      <td>...</td>\n",
       "    </tr>\n",
       "    <tr>\n",
       "      <th>301</th>\n",
       "      <td>91200950</td>\n",
       "      <td>2020</td>\n",
       "      <td>13</td>\n",
       "      <td>D</td>\n",
       "      <td>29941362</td>\n",
       "      <td>CLW</td>\n",
       "      <td>44650.0</td>\n",
       "      <td>44605.0</td>\n",
       "      <td>44605.0</td>\n",
       "      <td>NaN</td>\n",
       "      <td>0.000000</td>\n",
       "      <td>0.001008</td>\n",
       "      <td>7.631916e+06</td>\n",
       "      <td>1</td>\n",
       "      <td>29</td>\n",
       "      <td>0.100784</td>\n",
       "    </tr>\n",
       "    <tr>\n",
       "      <th>302</th>\n",
       "      <td>91210950</td>\n",
       "      <td>2021</td>\n",
       "      <td>11</td>\n",
       "      <td>D</td>\n",
       "      <td>29941362</td>\n",
       "      <td>CLW</td>\n",
       "      <td>80000.0</td>\n",
       "      <td>79200.0</td>\n",
       "      <td>53900.0</td>\n",
       "      <td>NaN</td>\n",
       "      <td>0.319444</td>\n",
       "      <td>0.010000</td>\n",
       "      <td>3.084697e+07</td>\n",
       "      <td>4</td>\n",
       "      <td>29</td>\n",
       "      <td>1.000000</td>\n",
       "    </tr>\n",
       "    <tr>\n",
       "      <th>303</th>\n",
       "      <td>91210950</td>\n",
       "      <td>2021</td>\n",
       "      <td>11</td>\n",
       "      <td>R</td>\n",
       "      <td>29941362</td>\n",
       "      <td>CLW</td>\n",
       "      <td>80000.0</td>\n",
       "      <td>79200.0</td>\n",
       "      <td>79200.0</td>\n",
       "      <td>0.0</td>\n",
       "      <td>0.000000</td>\n",
       "      <td>0.010000</td>\n",
       "      <td>2.233598e+07</td>\n",
       "      <td>4</td>\n",
       "      <td>29</td>\n",
       "      <td>1.000000</td>\n",
       "    </tr>\n",
       "    <tr>\n",
       "      <th>304</th>\n",
       "      <td>02212706</td>\n",
       "      <td>2021</td>\n",
       "      <td>11</td>\n",
       "      <td>D</td>\n",
       "      <td>29942007</td>\n",
       "      <td>Patiala Locomotive Works</td>\n",
       "      <td>2570000.0</td>\n",
       "      <td>2554610.5</td>\n",
       "      <td>1396202.0</td>\n",
       "      <td>NaN</td>\n",
       "      <td>0.453458</td>\n",
       "      <td>0.005988</td>\n",
       "      <td>2.971476e+07</td>\n",
       "      <td>3</td>\n",
       "      <td>29</td>\n",
       "      <td>0.598813</td>\n",
       "    </tr>\n",
       "    <tr>\n",
       "      <th>305</th>\n",
       "      <td>02212706</td>\n",
       "      <td>2021</td>\n",
       "      <td>11</td>\n",
       "      <td>R</td>\n",
       "      <td>29942007</td>\n",
       "      <td>Patiala Locomotive Works</td>\n",
       "      <td>2570000.0</td>\n",
       "      <td>2554610.5</td>\n",
       "      <td>2554610.5</td>\n",
       "      <td>0.0</td>\n",
       "      <td>0.000000</td>\n",
       "      <td>0.005988</td>\n",
       "      <td>3.828339e+08</td>\n",
       "      <td>3</td>\n",
       "      <td>29</td>\n",
       "      <td>0.598813</td>\n",
       "    </tr>\n",
       "  </tbody>\n",
       "</table>\n",
       "<p>304 rows × 16 columns</p>\n",
       "</div>"
      ],
      "text/plain": [
       "    Tender No  Tender Year  Cat Code PO Cat     PL No  \\\n",
       "2    02213432         2022        11      R  25606049   \n",
       "3    10201137         2021        11      D  25607959   \n",
       "4    10201137         2021        11      R  25607959   \n",
       "5    02214320         2022        11      R  25940200   \n",
       "6    02214320         2022        13      R  25940200   \n",
       "..        ...          ...       ...    ...       ...   \n",
       "301  91200950         2020        13      D  29941362   \n",
       "302  91210950         2021        11      D  29941362   \n",
       "303  91210950         2021        11      R  29941362   \n",
       "304  02212706         2021        11      D  29942007   \n",
       "305  02212706         2021        11      R  29942007   \n",
       "\n",
       "                 Railway Zone  Min BID Rate  Final RA Rate  Min PO Rate  \\\n",
       "2    Patiala Locomotive Works      335000.0       333631.0     332000.0   \n",
       "3             Eastern Railway      114975.0       114700.0      90000.0   \n",
       "4             Eastern Railway      114975.0       114700.0     114700.0   \n",
       "5    Patiala Locomotive Works      920000.0       920000.0     914480.0   \n",
       "6    Patiala Locomotive Works      930000.0       915000.0     914480.0   \n",
       "..                        ...           ...            ...          ...   \n",
       "301                       CLW       44650.0        44605.0      44605.0   \n",
       "302                       CLW       80000.0        79200.0      53900.0   \n",
       "303                       CLW       80000.0        79200.0      79200.0   \n",
       "304  Patiala Locomotive Works     2570000.0      2554610.5    1396202.0   \n",
       "305  Patiala Locomotive Works     2570000.0      2554610.5    2554610.5   \n",
       "\n",
       "     Unnamed: 9  % Diff Final RA Rate-PO Rate  % Diff MinBid-Final RA Rate  \\\n",
       "2        1631.0                      0.004889                     0.004087   \n",
       "3           NaN                      0.215344                     0.002392   \n",
       "4           0.0                      0.000000                     0.002392   \n",
       "5        5520.0                      0.006000                     0.000000   \n",
       "6         520.0                      0.000568                     0.016129   \n",
       "..          ...                           ...                          ...   \n",
       "301         NaN                      0.000000                     0.001008   \n",
       "302         NaN                      0.319444                     0.010000   \n",
       "303         0.0                      0.000000                     0.010000   \n",
       "304         NaN                      0.453458                     0.005988   \n",
       "305         0.0                      0.000000                     0.005988   \n",
       "\n",
       "     Min. PO Value  # Bidder Account  PL_Cat  Percent_Change  \n",
       "2     2.389736e+07                 2      25        0.408657  \n",
       "3     9.982800e+06                 2      25        0.239182  \n",
       "4     2.043725e+07                 2      25        0.239182  \n",
       "5     1.942356e+08                 1      25        0.000000  \n",
       "6     1.942356e+08                 1      25        1.612903  \n",
       "..             ...               ...     ...             ...  \n",
       "301   7.631916e+06                 1      29        0.100784  \n",
       "302   3.084697e+07                 4      29        1.000000  \n",
       "303   2.233598e+07                 4      29        1.000000  \n",
       "304   2.971476e+07                 3      29        0.598813  \n",
       "305   3.828339e+08                 3      29        0.598813  \n",
       "\n",
       "[304 rows x 16 columns]"
      ]
     },
     "execution_count": 32,
     "metadata": {},
     "output_type": "execute_result"
    }
   ],
   "source": [
    "df_20"
   ]
  },
  {
   "cell_type": "code",
   "execution_count": 33,
   "id": "c2cd71af-d3b9-4360-86a2-b0ee581fc3ef",
   "metadata": {},
   "outputs": [
    {
     "data": {
      "text/plain": [
       "<Axes: ylabel='Density'>"
      ]
     },
     "execution_count": 33,
     "metadata": {},
     "output_type": "execute_result"
    },
    {
     "data": {
      "image/png": "[encoded data removed]",
      "text/plain": [
       "<Figure size 640x480 with 1 Axes>"
      ]
     },
     "metadata": {},
     "output_type": "display_data"
    }
   ],
   "source": [
    "df_20['Percent_Change'].plot(kind='kde')"
   ]
  },
  {
   "cell_type": "code",
   "execution_count": 39,
   "id": "4606b768-7013-4bd3-8c65-2a11262147b7",
   "metadata": {},
   "outputs": [
    {
     "data": {
      "text/plain": [
       "PL_Cat\n",
       "29    297\n",
       "25      7\n",
       "Name: count, dtype: int64"
      ]
     },
     "execution_count": 39,
     "metadata": {},
     "output_type": "execute_result"
    }
   ],
   "source": [
    "df_20['PL_Cat'].value_counts()"
   ]
  },
  {
   "cell_type": "code",
   "execution_count": 40,
   "id": "bef2676f-afce-4fb1-b0d6-1c30df5067ec",
   "metadata": {},
   "outputs": [],
   "source": [
    "ar_29 = df_20[df_20['PL_Cat'] == 29]\n",
    "ar_25 = df_20[df_20['PL_Cat'] == 25]"
   ]
  },
  {
   "cell_type": "code",
   "execution_count": 41,
   "id": "bfe14fef-9cc9-40fd-afa5-5d90c3286cce",
   "metadata": {},
   "outputs": [
    {
     "data": {
      "text/plain": [
       "KruskalResult(statistic=11.279563993921244, pvalue=0.000783649591216946)"
      ]
     },
     "execution_count": 41,
     "metadata": {},
     "output_type": "execute_result"
    }
   ],
   "source": [
    "st.kruskal(ar_29.Percent_Change,ar_25.Percent_Change)"
   ]
  },
  {
   "cell_type": "markdown",
   "id": "eef0f71a-ac05-461c-8c76-347fcad0a5b7",
   "metadata": {},
   "source": [
    "## since p value < alpha (0.05), Null Hypothesis is rejected. This implies that median percent change across categories is not the same."
   ]
  },
  {
   "cell_type": "code",
   "execution_count": 43,
   "id": "bbd1f5cd-a51b-49b9-946c-cf067398c1e0",
   "metadata": {},
   "outputs": [
    {
     "data": {
      "text/html": [
       "<div>\n",
       "<style scoped>\n",
       "    .dataframe tbody tr th:only-of-type {\n",
       "        vertical-align: middle;\n",
       "    }\n",
       "\n",
       "    .dataframe tbody tr th {\n",
       "        vertical-align: top;\n",
       "    }\n",
       "\n",
       "    .dataframe thead th {\n",
       "        text-align: right;\n",
       "    }\n",
       "</style>\n",
       "<table border=\"1\" class=\"dataframe\">\n",
       "  <thead>\n",
       "    <tr style=\"text-align: right;\">\n",
       "      <th></th>\n",
       "      <th>0</th>\n",
       "    </tr>\n",
       "  </thead>\n",
       "  <tbody>\n",
       "    <tr>\n",
       "      <th>PL_29</th>\n",
       "      <td>1.515225</td>\n",
       "    </tr>\n",
       "    <tr>\n",
       "      <th>PL_25</th>\n",
       "      <td>0.239182</td>\n",
       "    </tr>\n",
       "  </tbody>\n",
       "</table>\n",
       "</div>"
      ],
      "text/plain": [
       "              0\n",
       "PL_29  1.515225\n",
       "PL_25  0.239182"
      ]
     },
     "execution_count": 43,
     "metadata": {},
     "output_type": "execute_result"
    }
   ],
   "source": [
    "ind_20 = ['PL_29','PL_25']\n",
    "median_20 = pd.DataFrame([ar_29.Percent_Change.median(),ar_25.Percent_Change.median()], index=ind_20)\n",
    "median_20"
   ]
  },
  {
   "cell_type": "code",
   "execution_count": 44,
   "id": "5e15467e-aa64-4ca0-9f90-c4d837672e8d",
   "metadata": {},
   "outputs": [
    {
     "data": {
      "text/plain": [
       "array([[<Axes: title={'center': 'Percent_Change'}>]], dtype=object)"
      ]
     },
     "execution_count": 44,
     "metadata": {},
     "output_type": "execute_result"
    },
    {
     "data": {
      "image/png": "[encoded data removed]",
      "text/plain": [
       "<Figure size 640x480 with 1 Axes>"
      ]
     },
     "metadata": {},
     "output_type": "display_data"
    }
   ],
   "source": [
    "df_20.hist(column='Percent_Change', bins=4)"
   ]
  },
  {
   "cell_type": "code",
   "execution_count": 46,
   "id": "4d1af84f-a0bd-45a6-a91a-e69fd9603c24",
   "metadata": {},
   "outputs": [],
   "source": [
    "def calc_krus(arr1, arr2):\n",
    "      result = st.kruskal(arr1, arr2)\n",
    "      return result"
   ]
  },
  {
   "cell_type": "code",
   "execution_count": 47,
   "id": "f9049916-d9c8-408a-8303-c83bb1a9d891",
   "metadata": {},
   "outputs": [
    {
     "data": {
      "text/plain": [
       "KruskalResult(statistic=11.279563993921244, pvalue=0.000783649591216946)"
      ]
     },
     "execution_count": 47,
     "metadata": {},
     "output_type": "execute_result"
    }
   ],
   "source": [
    "calc_krus(ar_29.Percent_Change,ar_25.Percent_Change)"
   ]
  },
  {
   "cell_type": "markdown",
   "id": "80f2fdea-72bb-4bc7-a852-1e75bd0bff8e",
   "metadata": {},
   "source": [
    "## KW Test between Category 10 and Category 20"
   ]
  },
  {
   "cell_type": "code",
   "execution_count": 50,
   "id": "f683b225-b625-40f3-b74e-20f9e0b8bf6c",
   "metadata": {},
   "outputs": [],
   "source": [
    "ar_20_29 = df_20['Percent_Change']\n",
    "ar_10 =df_10['Percent_Change']"
   ]
  },
  {
   "cell_type": "code",
   "execution_count": 51,
   "id": "1eb6cd64-6fba-4c3e-97bb-409422418847",
   "metadata": {},
   "outputs": [
    {
     "data": {
      "text/plain": [
       "KruskalResult(statistic=2.419763635139304, pvalue=0.11981300737940304)"
      ]
     },
     "execution_count": 51,
     "metadata": {},
     "output_type": "execute_result"
    }
   ],
   "source": [
    "calc_krus(ar_10, ar_20_29)"
   ]
  },
  {
   "cell_type": "markdown",
   "id": "0bf77d7f-4a7c-419c-8703-10e8b5d5fc3a",
   "metadata": {},
   "source": [
    "### since p value > 0.05 , Null Hypothesis accepted "
   ]
  },
  {
   "cell_type": "code",
   "execution_count": 66,
   "id": "c70c28b3-c0f7-4a89-96ec-fc803e593583",
   "metadata": {},
   "outputs": [
    {
     "data": {
      "text/plain": [
       "KruskalResult(statistic=0.6092262565261373, pvalue=0.4350792870367852)"
      ]
     },
     "execution_count": 66,
     "metadata": {},
     "output_type": "execute_result"
    }
   ],
   "source": [
    "calc_krus(ar_10, ar_30_39)"
   ]
  },
  {
   "cell_type": "markdown",
   "id": "fe2f7c06-c67b-4686-ba20-47c7bf7b3b89",
   "metadata": {},
   "source": [
    "### since p value > 0.05 , Null Hypothesis accepted"
   ]
  },
  {
   "cell_type": "code",
   "execution_count": null,
   "id": "befa33c7-efd8-466b-a7d1-4b23bcf94496",
   "metadata": {},
   "outputs": [],
   "source": []
  },
  {
   "cell_type": "markdown",
   "id": "dc1a6290-1d15-4bce-9143-ff11b65e3740",
   "metadata": {},
   "source": [
    "## For Category 30"
   ]
  },
  {
   "cell_type": "code",
   "execution_count": 54,
   "id": "b1d15f41-76a8-4492-8dd2-cbe014c279ad",
   "metadata": {},
   "outputs": [],
   "source": [
    "df_30 = df[(df['PL_Cat']>=30) & (df['PL_Cat']<40)] "
   ]
  },
  {
   "cell_type": "code",
   "execution_count": 55,
   "id": "f0ad6806-272b-44f8-82f2-368ed829fb30",
   "metadata": {},
   "outputs": [
    {
     "data": {
      "text/html": [
       "<div>\n",
       "<style scoped>\n",
       "    .dataframe tbody tr th:only-of-type {\n",
       "        vertical-align: middle;\n",
       "    }\n",
       "\n",
       "    .dataframe tbody tr th {\n",
       "        vertical-align: top;\n",
       "    }\n",
       "\n",
       "    .dataframe thead th {\n",
       "        text-align: right;\n",
       "    }\n",
       "</style>\n",
       "<table border=\"1\" class=\"dataframe\">\n",
       "  <thead>\n",
       "    <tr style=\"text-align: right;\">\n",
       "      <th></th>\n",
       "      <th>Tender No</th>\n",
       "      <th>Tender Year</th>\n",
       "      <th>Cat Code</th>\n",
       "      <th>PO Cat</th>\n",
       "      <th>PL No</th>\n",
       "      <th>Railway Zone</th>\n",
       "      <th>Min BID Rate</th>\n",
       "      <th>Final RA Rate</th>\n",
       "      <th>Min PO Rate</th>\n",
       "      <th>Unnamed: 9</th>\n",
       "      <th>% Diff Final RA Rate-PO Rate</th>\n",
       "      <th>% Diff MinBid-Final RA Rate</th>\n",
       "      <th>Min. PO Value</th>\n",
       "      <th># Bidder Account</th>\n",
       "      <th>PL_Cat</th>\n",
       "    </tr>\n",
       "  </thead>\n",
       "  <tbody>\n",
       "    <tr>\n",
       "      <th>306</th>\n",
       "      <td>04210119</td>\n",
       "      <td>2021</td>\n",
       "      <td>11</td>\n",
       "      <td>R</td>\n",
       "      <td>30056068</td>\n",
       "      <td>Southern Railway</td>\n",
       "      <td>5199.0</td>\n",
       "      <td>5172.00</td>\n",
       "      <td>5172.00</td>\n",
       "      <td>0.0</td>\n",
       "      <td>0.000000</td>\n",
       "      <td>0.005193</td>\n",
       "      <td>10073400.96</td>\n",
       "      <td>3</td>\n",
       "      <td>30</td>\n",
       "    </tr>\n",
       "    <tr>\n",
       "      <th>307</th>\n",
       "      <td>03192083</td>\n",
       "      <td>2020</td>\n",
       "      <td>11</td>\n",
       "      <td>R</td>\n",
       "      <td>30057309</td>\n",
       "      <td>ICF</td>\n",
       "      <td>424000.0</td>\n",
       "      <td>327479.25</td>\n",
       "      <td>327479.25</td>\n",
       "      <td>0.0</td>\n",
       "      <td>0.000000</td>\n",
       "      <td>0.227643</td>\n",
       "      <td>47680978.80</td>\n",
       "      <td>4</td>\n",
       "      <td>30</td>\n",
       "    </tr>\n",
       "    <tr>\n",
       "      <th>308</th>\n",
       "      <td>03201766</td>\n",
       "      <td>2021</td>\n",
       "      <td>11</td>\n",
       "      <td>R</td>\n",
       "      <td>30057309</td>\n",
       "      <td>ICF</td>\n",
       "      <td>421000.0</td>\n",
       "      <td>412500.00</td>\n",
       "      <td>387849.00</td>\n",
       "      <td>24651.0</td>\n",
       "      <td>0.059760</td>\n",
       "      <td>0.020190</td>\n",
       "      <td>10859772.00</td>\n",
       "      <td>3</td>\n",
       "      <td>30</td>\n",
       "    </tr>\n",
       "    <tr>\n",
       "      <th>309</th>\n",
       "      <td>03211450</td>\n",
       "      <td>2021</td>\n",
       "      <td>11</td>\n",
       "      <td>R</td>\n",
       "      <td>30057309</td>\n",
       "      <td>ICF</td>\n",
       "      <td>390000.0</td>\n",
       "      <td>387849.00</td>\n",
       "      <td>387849.00</td>\n",
       "      <td>0.0</td>\n",
       "      <td>0.000000</td>\n",
       "      <td>0.005515</td>\n",
       "      <td>12814530.96</td>\n",
       "      <td>3</td>\n",
       "      <td>30</td>\n",
       "    </tr>\n",
       "    <tr>\n",
       "      <th>310</th>\n",
       "      <td>02190192</td>\n",
       "      <td>2019</td>\n",
       "      <td>11</td>\n",
       "      <td>D</td>\n",
       "      <td>30107660</td>\n",
       "      <td>ICF</td>\n",
       "      <td>171720.0</td>\n",
       "      <td>161901.00</td>\n",
       "      <td>134684.00</td>\n",
       "      <td>NaN</td>\n",
       "      <td>0.168109</td>\n",
       "      <td>0.057180</td>\n",
       "      <td>12056247.00</td>\n",
       "      <td>2</td>\n",
       "      <td>30</td>\n",
       "    </tr>\n",
       "    <tr>\n",
       "      <th>...</th>\n",
       "      <td>...</td>\n",
       "      <td>...</td>\n",
       "      <td>...</td>\n",
       "      <td>...</td>\n",
       "      <td>...</td>\n",
       "      <td>...</td>\n",
       "      <td>...</td>\n",
       "      <td>...</td>\n",
       "      <td>...</td>\n",
       "      <td>...</td>\n",
       "      <td>...</td>\n",
       "      <td>...</td>\n",
       "      <td>...</td>\n",
       "      <td>...</td>\n",
       "      <td>...</td>\n",
       "    </tr>\n",
       "    <tr>\n",
       "      <th>1128</th>\n",
       "      <td>03211373</td>\n",
       "      <td>2021</td>\n",
       "      <td>13</td>\n",
       "      <td>R</td>\n",
       "      <td>38134305</td>\n",
       "      <td>South East Central Railway</td>\n",
       "      <td>7350.0</td>\n",
       "      <td>5585.00</td>\n",
       "      <td>5194.80</td>\n",
       "      <td>390.2</td>\n",
       "      <td>0.069866</td>\n",
       "      <td>0.240136</td>\n",
       "      <td>95417463.02</td>\n",
       "      <td>1</td>\n",
       "      <td>38</td>\n",
       "    </tr>\n",
       "    <tr>\n",
       "      <th>1129</th>\n",
       "      <td>44210242</td>\n",
       "      <td>2021</td>\n",
       "      <td>11</td>\n",
       "      <td>R</td>\n",
       "      <td>38134305</td>\n",
       "      <td>Southern Railway</td>\n",
       "      <td>6990.0</td>\n",
       "      <td>6243.75</td>\n",
       "      <td>6243.75</td>\n",
       "      <td>0.0</td>\n",
       "      <td>0.000000</td>\n",
       "      <td>0.106760</td>\n",
       "      <td>27978111.00</td>\n",
       "      <td>1</td>\n",
       "      <td>38</td>\n",
       "    </tr>\n",
       "    <tr>\n",
       "      <th>1130</th>\n",
       "      <td>21201300</td>\n",
       "      <td>2021</td>\n",
       "      <td>11</td>\n",
       "      <td>R</td>\n",
       "      <td>38407620</td>\n",
       "      <td>Eastern Railway</td>\n",
       "      <td>109219.0</td>\n",
       "      <td>105933.21</td>\n",
       "      <td>105933.21</td>\n",
       "      <td>0.0</td>\n",
       "      <td>0.000000</td>\n",
       "      <td>0.030084</td>\n",
       "      <td>16610327.33</td>\n",
       "      <td>4</td>\n",
       "      <td>38</td>\n",
       "    </tr>\n",
       "    <tr>\n",
       "      <th>1131</th>\n",
       "      <td>03212304</td>\n",
       "      <td>2021</td>\n",
       "      <td>11</td>\n",
       "      <td>D</td>\n",
       "      <td>38452534</td>\n",
       "      <td>South East Central Railway</td>\n",
       "      <td>8700.0</td>\n",
       "      <td>7849.10</td>\n",
       "      <td>7370.00</td>\n",
       "      <td>NaN</td>\n",
       "      <td>0.061039</td>\n",
       "      <td>0.097805</td>\n",
       "      <td>6708193.80</td>\n",
       "      <td>1</td>\n",
       "      <td>38</td>\n",
       "    </tr>\n",
       "    <tr>\n",
       "      <th>1132</th>\n",
       "      <td>03212304</td>\n",
       "      <td>2021</td>\n",
       "      <td>11</td>\n",
       "      <td>R</td>\n",
       "      <td>38452534</td>\n",
       "      <td>South East Central Railway</td>\n",
       "      <td>8700.0</td>\n",
       "      <td>7849.10</td>\n",
       "      <td>7849.10</td>\n",
       "      <td>0.0</td>\n",
       "      <td>0.000000</td>\n",
       "      <td>0.097805</td>\n",
       "      <td>70316633.29</td>\n",
       "      <td>1</td>\n",
       "      <td>38</td>\n",
       "    </tr>\n",
       "  </tbody>\n",
       "</table>\n",
       "<p>827 rows × 15 columns</p>\n",
       "</div>"
      ],
      "text/plain": [
       "     Tender No  Tender Year  Cat Code PO Cat     PL No  \\\n",
       "306   04210119         2021        11      R  30056068   \n",
       "307   03192083         2020        11      R  30057309   \n",
       "308   03201766         2021        11      R  30057309   \n",
       "309   03211450         2021        11      R  30057309   \n",
       "310   02190192         2019        11      D  30107660   \n",
       "...        ...          ...       ...    ...       ...   \n",
       "1128  03211373         2021        13      R  38134305   \n",
       "1129  44210242         2021        11      R  38134305   \n",
       "1130  21201300         2021        11      R  38407620   \n",
       "1131  03212304         2021        11      D  38452534   \n",
       "1132  03212304         2021        11      R  38452534   \n",
       "\n",
       "                    Railway Zone  Min BID Rate  Final RA Rate  Min PO Rate  \\\n",
       "306             Southern Railway        5199.0        5172.00      5172.00   \n",
       "307                          ICF      424000.0      327479.25    327479.25   \n",
       "308                          ICF      421000.0      412500.00    387849.00   \n",
       "309                          ICF      390000.0      387849.00    387849.00   \n",
       "310                          ICF      171720.0      161901.00    134684.00   \n",
       "...                          ...           ...            ...          ...   \n",
       "1128  South East Central Railway        7350.0        5585.00      5194.80   \n",
       "1129            Southern Railway        6990.0        6243.75      6243.75   \n",
       "1130             Eastern Railway      109219.0      105933.21    105933.21   \n",
       "1131  South East Central Railway        8700.0        7849.10      7370.00   \n",
       "1132  South East Central Railway        8700.0        7849.10      7849.10   \n",
       "\n",
       "      Unnamed: 9  % Diff Final RA Rate-PO Rate  % Diff MinBid-Final RA Rate  \\\n",
       "306          0.0                      0.000000                     0.005193   \n",
       "307          0.0                      0.000000                     0.227643   \n",
       "308      24651.0                      0.059760                     0.020190   \n",
       "309          0.0                      0.000000                     0.005515   \n",
       "310          NaN                      0.168109                     0.057180   \n",
       "...          ...                           ...                          ...   \n",
       "1128       390.2                      0.069866                     0.240136   \n",
       "1129         0.0                      0.000000                     0.106760   \n",
       "1130         0.0                      0.000000                     0.030084   \n",
       "1131         NaN                      0.061039                     0.097805   \n",
       "1132         0.0                      0.000000                     0.097805   \n",
       "\n",
       "      Min. PO Value  # Bidder Account  PL_Cat  \n",
       "306     10073400.96                 3      30  \n",
       "307     47680978.80                 4      30  \n",
       "308     10859772.00                 3      30  \n",
       "309     12814530.96                 3      30  \n",
       "310     12056247.00                 2      30  \n",
       "...             ...               ...     ...  \n",
       "1128    95417463.02                 1      38  \n",
       "1129    27978111.00                 1      38  \n",
       "1130    16610327.33                 4      38  \n",
       "1131     6708193.80                 1      38  \n",
       "1132    70316633.29                 1      38  \n",
       "\n",
       "[827 rows x 15 columns]"
      ]
     },
     "execution_count": 55,
     "metadata": {},
     "output_type": "execute_result"
    }
   ],
   "source": [
    "df_30"
   ]
  },
  {
   "cell_type": "code",
   "execution_count": 56,
   "id": "436e6fd6-d226-4e25-9334-34c4dbbe860c",
   "metadata": {},
   "outputs": [
    {
     "name": "stderr",
     "output_type": "stream",
     "text": [
      "/tmp/ipykernel_17042/824696920.py:1: SettingWithCopyWarning: \n",
      "A value is trying to be set on a copy of a slice from a DataFrame.\n",
      "Try using .loc[row_indexer,col_indexer] = value instead\n",
      "\n",
      "See the caveats in the documentation: https://pandas.pydata.org/pandas-docs/stable/user_guide/indexing.html#returning-a-view-versus-a-copy\n",
      "  df_30['Percent_Change'] = df[['Min BID Rate', 'Final RA Rate', 'Min PO Rate']].apply(custom_calc, axis=1)\n"
     ]
    }
   ],
   "source": [
    "df_30['Percent_Change'] = df[['Min BID Rate', 'Final RA Rate', 'Min PO Rate']].apply(custom_calc, axis=1)"
   ]
  },
  {
   "cell_type": "code",
   "execution_count": 57,
   "id": "9a1948b2-2e64-4365-bb6b-794d9301206d",
   "metadata": {},
   "outputs": [
    {
     "data": {
      "text/html": [
       "<div>\n",
       "<style scoped>\n",
       "    .dataframe tbody tr th:only-of-type {\n",
       "        vertical-align: middle;\n",
       "    }\n",
       "\n",
       "    .dataframe tbody tr th {\n",
       "        vertical-align: top;\n",
       "    }\n",
       "\n",
       "    .dataframe thead th {\n",
       "        text-align: right;\n",
       "    }\n",
       "</style>\n",
       "<table border=\"1\" class=\"dataframe\">\n",
       "  <thead>\n",
       "    <tr style=\"text-align: right;\">\n",
       "      <th></th>\n",
       "      <th>Tender No</th>\n",
       "      <th>Tender Year</th>\n",
       "      <th>Cat Code</th>\n",
       "      <th>PO Cat</th>\n",
       "      <th>PL No</th>\n",
       "      <th>Railway Zone</th>\n",
       "      <th>Min BID Rate</th>\n",
       "      <th>Final RA Rate</th>\n",
       "      <th>Min PO Rate</th>\n",
       "      <th>Unnamed: 9</th>\n",
       "      <th>% Diff Final RA Rate-PO Rate</th>\n",
       "      <th>% Diff MinBid-Final RA Rate</th>\n",
       "      <th>Min. PO Value</th>\n",
       "      <th># Bidder Account</th>\n",
       "      <th>PL_Cat</th>\n",
       "      <th>Percent_Change</th>\n",
       "    </tr>\n",
       "  </thead>\n",
       "  <tbody>\n",
       "    <tr>\n",
       "      <th>306</th>\n",
       "      <td>04210119</td>\n",
       "      <td>2021</td>\n",
       "      <td>11</td>\n",
       "      <td>R</td>\n",
       "      <td>30056068</td>\n",
       "      <td>Southern Railway</td>\n",
       "      <td>5199.0</td>\n",
       "      <td>5172.00</td>\n",
       "      <td>5172.00</td>\n",
       "      <td>0.0</td>\n",
       "      <td>0.000000</td>\n",
       "      <td>0.005193</td>\n",
       "      <td>10073400.96</td>\n",
       "      <td>3</td>\n",
       "      <td>30</td>\n",
       "      <td>0.519331</td>\n",
       "    </tr>\n",
       "    <tr>\n",
       "      <th>307</th>\n",
       "      <td>03192083</td>\n",
       "      <td>2020</td>\n",
       "      <td>11</td>\n",
       "      <td>R</td>\n",
       "      <td>30057309</td>\n",
       "      <td>ICF</td>\n",
       "      <td>424000.0</td>\n",
       "      <td>327479.25</td>\n",
       "      <td>327479.25</td>\n",
       "      <td>0.0</td>\n",
       "      <td>0.000000</td>\n",
       "      <td>0.227643</td>\n",
       "      <td>47680978.80</td>\n",
       "      <td>4</td>\n",
       "      <td>30</td>\n",
       "      <td>22.764328</td>\n",
       "    </tr>\n",
       "    <tr>\n",
       "      <th>308</th>\n",
       "      <td>03201766</td>\n",
       "      <td>2021</td>\n",
       "      <td>11</td>\n",
       "      <td>R</td>\n",
       "      <td>30057309</td>\n",
       "      <td>ICF</td>\n",
       "      <td>421000.0</td>\n",
       "      <td>412500.00</td>\n",
       "      <td>387849.00</td>\n",
       "      <td>24651.0</td>\n",
       "      <td>0.059760</td>\n",
       "      <td>0.020190</td>\n",
       "      <td>10859772.00</td>\n",
       "      <td>3</td>\n",
       "      <td>30</td>\n",
       "      <td>2.019002</td>\n",
       "    </tr>\n",
       "    <tr>\n",
       "      <th>309</th>\n",
       "      <td>03211450</td>\n",
       "      <td>2021</td>\n",
       "      <td>11</td>\n",
       "      <td>R</td>\n",
       "      <td>30057309</td>\n",
       "      <td>ICF</td>\n",
       "      <td>390000.0</td>\n",
       "      <td>387849.00</td>\n",
       "      <td>387849.00</td>\n",
       "      <td>0.0</td>\n",
       "      <td>0.000000</td>\n",
       "      <td>0.005515</td>\n",
       "      <td>12814530.96</td>\n",
       "      <td>3</td>\n",
       "      <td>30</td>\n",
       "      <td>0.551538</td>\n",
       "    </tr>\n",
       "    <tr>\n",
       "      <th>310</th>\n",
       "      <td>02190192</td>\n",
       "      <td>2019</td>\n",
       "      <td>11</td>\n",
       "      <td>D</td>\n",
       "      <td>30107660</td>\n",
       "      <td>ICF</td>\n",
       "      <td>171720.0</td>\n",
       "      <td>161901.00</td>\n",
       "      <td>134684.00</td>\n",
       "      <td>NaN</td>\n",
       "      <td>0.168109</td>\n",
       "      <td>0.057180</td>\n",
       "      <td>12056247.00</td>\n",
       "      <td>2</td>\n",
       "      <td>30</td>\n",
       "      <td>5.718029</td>\n",
       "    </tr>\n",
       "    <tr>\n",
       "      <th>...</th>\n",
       "      <td>...</td>\n",
       "      <td>...</td>\n",
       "      <td>...</td>\n",
       "      <td>...</td>\n",
       "      <td>...</td>\n",
       "      <td>...</td>\n",
       "      <td>...</td>\n",
       "      <td>...</td>\n",
       "      <td>...</td>\n",
       "      <td>...</td>\n",
       "      <td>...</td>\n",
       "      <td>...</td>\n",
       "      <td>...</td>\n",
       "      <td>...</td>\n",
       "      <td>...</td>\n",
       "      <td>...</td>\n",
       "    </tr>\n",
       "    <tr>\n",
       "      <th>1128</th>\n",
       "      <td>03211373</td>\n",
       "      <td>2021</td>\n",
       "      <td>13</td>\n",
       "      <td>R</td>\n",
       "      <td>38134305</td>\n",
       "      <td>South East Central Railway</td>\n",
       "      <td>7350.0</td>\n",
       "      <td>5585.00</td>\n",
       "      <td>5194.80</td>\n",
       "      <td>390.2</td>\n",
       "      <td>0.069866</td>\n",
       "      <td>0.240136</td>\n",
       "      <td>95417463.02</td>\n",
       "      <td>1</td>\n",
       "      <td>38</td>\n",
       "      <td>24.013605</td>\n",
       "    </tr>\n",
       "    <tr>\n",
       "      <th>1129</th>\n",
       "      <td>44210242</td>\n",
       "      <td>2021</td>\n",
       "      <td>11</td>\n",
       "      <td>R</td>\n",
       "      <td>38134305</td>\n",
       "      <td>Southern Railway</td>\n",
       "      <td>6990.0</td>\n",
       "      <td>6243.75</td>\n",
       "      <td>6243.75</td>\n",
       "      <td>0.0</td>\n",
       "      <td>0.000000</td>\n",
       "      <td>0.106760</td>\n",
       "      <td>27978111.00</td>\n",
       "      <td>1</td>\n",
       "      <td>38</td>\n",
       "      <td>10.675966</td>\n",
       "    </tr>\n",
       "    <tr>\n",
       "      <th>1130</th>\n",
       "      <td>21201300</td>\n",
       "      <td>2021</td>\n",
       "      <td>11</td>\n",
       "      <td>R</td>\n",
       "      <td>38407620</td>\n",
       "      <td>Eastern Railway</td>\n",
       "      <td>109219.0</td>\n",
       "      <td>105933.21</td>\n",
       "      <td>105933.21</td>\n",
       "      <td>0.0</td>\n",
       "      <td>0.000000</td>\n",
       "      <td>0.030084</td>\n",
       "      <td>16610327.33</td>\n",
       "      <td>4</td>\n",
       "      <td>38</td>\n",
       "      <td>3.008442</td>\n",
       "    </tr>\n",
       "    <tr>\n",
       "      <th>1131</th>\n",
       "      <td>03212304</td>\n",
       "      <td>2021</td>\n",
       "      <td>11</td>\n",
       "      <td>D</td>\n",
       "      <td>38452534</td>\n",
       "      <td>South East Central Railway</td>\n",
       "      <td>8700.0</td>\n",
       "      <td>7849.10</td>\n",
       "      <td>7370.00</td>\n",
       "      <td>NaN</td>\n",
       "      <td>0.061039</td>\n",
       "      <td>0.097805</td>\n",
       "      <td>6708193.80</td>\n",
       "      <td>1</td>\n",
       "      <td>38</td>\n",
       "      <td>9.780460</td>\n",
       "    </tr>\n",
       "    <tr>\n",
       "      <th>1132</th>\n",
       "      <td>03212304</td>\n",
       "      <td>2021</td>\n",
       "      <td>11</td>\n",
       "      <td>R</td>\n",
       "      <td>38452534</td>\n",
       "      <td>South East Central Railway</td>\n",
       "      <td>8700.0</td>\n",
       "      <td>7849.10</td>\n",
       "      <td>7849.10</td>\n",
       "      <td>0.0</td>\n",
       "      <td>0.000000</td>\n",
       "      <td>0.097805</td>\n",
       "      <td>70316633.29</td>\n",
       "      <td>1</td>\n",
       "      <td>38</td>\n",
       "      <td>9.780460</td>\n",
       "    </tr>\n",
       "  </tbody>\n",
       "</table>\n",
       "<p>827 rows × 16 columns</p>\n",
       "</div>"
      ],
      "text/plain": [
       "     Tender No  Tender Year  Cat Code PO Cat     PL No  \\\n",
       "306   04210119         2021        11      R  30056068   \n",
       "307   03192083         2020        11      R  30057309   \n",
       "308   03201766         2021        11      R  30057309   \n",
       "309   03211450         2021        11      R  30057309   \n",
       "310   02190192         2019        11      D  30107660   \n",
       "...        ...          ...       ...    ...       ...   \n",
       "1128  03211373         2021        13      R  38134305   \n",
       "1129  44210242         2021        11      R  38134305   \n",
       "1130  21201300         2021        11      R  38407620   \n",
       "1131  03212304         2021        11      D  38452534   \n",
       "1132  03212304         2021        11      R  38452534   \n",
       "\n",
       "                    Railway Zone  Min BID Rate  Final RA Rate  Min PO Rate  \\\n",
       "306             Southern Railway        5199.0        5172.00      5172.00   \n",
       "307                          ICF      424000.0      327479.25    327479.25   \n",
       "308                          ICF      421000.0      412500.00    387849.00   \n",
       "309                          ICF      390000.0      387849.00    387849.00   \n",
       "310                          ICF      171720.0      161901.00    134684.00   \n",
       "...                          ...           ...            ...          ...   \n",
       "1128  South East Central Railway        7350.0        5585.00      5194.80   \n",
       "1129            Southern Railway        6990.0        6243.75      6243.75   \n",
       "1130             Eastern Railway      109219.0      105933.21    105933.21   \n",
       "1131  South East Central Railway        8700.0        7849.10      7370.00   \n",
       "1132  South East Central Railway        8700.0        7849.10      7849.10   \n",
       "\n",
       "      Unnamed: 9  % Diff Final RA Rate-PO Rate  % Diff MinBid-Final RA Rate  \\\n",
       "306          0.0                      0.000000                     0.005193   \n",
       "307          0.0                      0.000000                     0.227643   \n",
       "308      24651.0                      0.059760                     0.020190   \n",
       "309          0.0                      0.000000                     0.005515   \n",
       "310          NaN                      0.168109                     0.057180   \n",
       "...          ...                           ...                          ...   \n",
       "1128       390.2                      0.069866                     0.240136   \n",
       "1129         0.0                      0.000000                     0.106760   \n",
       "1130         0.0                      0.000000                     0.030084   \n",
       "1131         NaN                      0.061039                     0.097805   \n",
       "1132         0.0                      0.000000                     0.097805   \n",
       "\n",
       "      Min. PO Value  # Bidder Account  PL_Cat  Percent_Change  \n",
       "306     10073400.96                 3      30        0.519331  \n",
       "307     47680978.80                 4      30       22.764328  \n",
       "308     10859772.00                 3      30        2.019002  \n",
       "309     12814530.96                 3      30        0.551538  \n",
       "310     12056247.00                 2      30        5.718029  \n",
       "...             ...               ...     ...             ...  \n",
       "1128    95417463.02                 1      38       24.013605  \n",
       "1129    27978111.00                 1      38       10.675966  \n",
       "1130    16610327.33                 4      38        3.008442  \n",
       "1131     6708193.80                 1      38        9.780460  \n",
       "1132    70316633.29                 1      38        9.780460  \n",
       "\n",
       "[827 rows x 16 columns]"
      ]
     },
     "execution_count": 57,
     "metadata": {},
     "output_type": "execute_result"
    }
   ],
   "source": [
    "df_30"
   ]
  },
  {
   "cell_type": "code",
   "execution_count": 58,
   "id": "f817f7f0-58f1-4ec7-a0d0-92f87bf5e104",
   "metadata": {
    "scrolled": true
   },
   "outputs": [
    {
     "data": {
      "text/plain": [
       "PL_Cat\n",
       "33    708\n",
       "38     43\n",
       "31     40\n",
       "30     30\n",
       "35      5\n",
       "36      1\n",
       "Name: count, dtype: int64"
      ]
     },
     "execution_count": 58,
     "metadata": {},
     "output_type": "execute_result"
    }
   ],
   "source": [
    "df_30['PL_Cat'].value_counts()"
   ]
  },
  {
   "cell_type": "code",
   "execution_count": 59,
   "id": "8d567239-0f99-47a9-b7f3-48486cf0fc74",
   "metadata": {},
   "outputs": [],
   "source": [
    "ar_33 = df_30[df_30['PL_Cat'] == 33]\n",
    "ar_38 = df_30[df_30['PL_Cat'] == 38]\n",
    "ar_31 = df_30[df_30['PL_Cat'] == 31]\n",
    "ar_30 = df_30[df_30['PL_Cat'] == 30]\n",
    "ar_35 = df_30[df_30['PL_Cat'] == 35]\n",
    "ar_36 = df_30[df_30['PL_Cat'] == 36]"
   ]
  },
  {
   "cell_type": "code",
   "execution_count": 61,
   "id": "9e1ca52d-05a3-46d5-8cef-892bf28c5550",
   "metadata": {},
   "outputs": [
    {
     "data": {
      "text/plain": [
       "KruskalResult(statistic=0.32689654211545227, pvalue=0.9548930825097625)"
      ]
     },
     "execution_count": 61,
     "metadata": {},
     "output_type": "execute_result"
    }
   ],
   "source": [
    "st.kruskal(ar_33.Percent_Change,ar_38.Percent_Change,ar_31.Percent_Change, ar_30.Percent_Change)"
   ]
  },
  {
   "cell_type": "code",
   "execution_count": 62,
   "id": "57753713-200c-4a11-aab8-120227cd0374",
   "metadata": {},
   "outputs": [
    {
     "data": {
      "text/plain": [
       "KruskalResult(statistic=6.6387786750062325, pvalue=0.24892020042954846)"
      ]
     },
     "execution_count": 62,
     "metadata": {},
     "output_type": "execute_result"
    }
   ],
   "source": [
    "st.kruskal(ar_33.Percent_Change,ar_38.Percent_Change,ar_31.Percent_Change, ar_30.Percent_Change,ar_35.Percent_Change, ar_36.Percent_Change)"
   ]
  },
  {
   "cell_type": "code",
   "execution_count": 63,
   "id": "4fd8729e-f4ac-4207-aa32-14545e9d7951",
   "metadata": {},
   "outputs": [
    {
     "data": {
      "text/plain": [
       "KruskalResult(statistic=2.272727272727272, pvalue=0.13166801602281455)"
      ]
     },
     "execution_count": 63,
     "metadata": {},
     "output_type": "execute_result"
    }
   ],
   "source": [
    "st.kruskal(ar_35.Percent_Change, ar_36.Percent_Change)"
   ]
  },
  {
   "cell_type": "code",
   "execution_count": 64,
   "id": "82f1858b-e864-43b8-adca-86e23ffc3ac6",
   "metadata": {},
   "outputs": [
    {
     "data": {
      "text/html": [
       "<div>\n",
       "<style scoped>\n",
       "    .dataframe tbody tr th:only-of-type {\n",
       "        vertical-align: middle;\n",
       "    }\n",
       "\n",
       "    .dataframe tbody tr th {\n",
       "        vertical-align: top;\n",
       "    }\n",
       "\n",
       "    .dataframe thead th {\n",
       "        text-align: right;\n",
       "    }\n",
       "</style>\n",
       "<table border=\"1\" class=\"dataframe\">\n",
       "  <thead>\n",
       "    <tr style=\"text-align: right;\">\n",
       "      <th></th>\n",
       "      <th>0</th>\n",
       "    </tr>\n",
       "  </thead>\n",
       "  <tbody>\n",
       "    <tr>\n",
       "      <th>PL_33</th>\n",
       "      <td>3.445557</td>\n",
       "    </tr>\n",
       "    <tr>\n",
       "      <th>PL_38</th>\n",
       "      <td>3.235294</td>\n",
       "    </tr>\n",
       "    <tr>\n",
       "      <th>PL_31</th>\n",
       "      <td>3.703448</td>\n",
       "    </tr>\n",
       "    <tr>\n",
       "      <th>PL_30</th>\n",
       "      <td>3.413257</td>\n",
       "    </tr>\n",
       "    <tr>\n",
       "      <th>PL_35</th>\n",
       "      <td>12.045780</td>\n",
       "    </tr>\n",
       "    <tr>\n",
       "      <th>PL_36</th>\n",
       "      <td>4.273792</td>\n",
       "    </tr>\n",
       "  </tbody>\n",
       "</table>\n",
       "</div>"
      ],
      "text/plain": [
       "               0\n",
       "PL_33   3.445557\n",
       "PL_38   3.235294\n",
       "PL_31   3.703448\n",
       "PL_30   3.413257\n",
       "PL_35  12.045780\n",
       "PL_36   4.273792"
      ]
     },
     "execution_count": 64,
     "metadata": {},
     "output_type": "execute_result"
    }
   ],
   "source": [
    "ind = ['PL_33','PL_38','PL_31','PL_30','PL_35','PL_36']\n",
    "median_30 = pd.DataFrame([ar_33.Percent_Change.median(),ar_38.Percent_Change.median(),ar_31.Percent_Change.median(),ar_30.Percent_Change.median(),ar_35.Percent_Change.median(),ar_36.Percent_Change.median()], index=ind)\n",
    "median_30\n"
   ]
  },
  {
   "cell_type": "code",
   "execution_count": null,
   "id": "3ae43665-ed12-4d92-a37e-163d25c2a1ea",
   "metadata": {},
   "outputs": [],
   "source": []
  },
  {
   "cell_type": "code",
   "execution_count": 65,
   "id": "0db85692-c429-4b04-b403-86e10c784153",
   "metadata": {},
   "outputs": [],
   "source": [
    "ar_30_39 = df_30['Percent_Change']"
   ]
  },
  {
   "cell_type": "code",
   "execution_count": 67,
   "id": "7dbc01b2-5c1a-46f4-b277-e95676ac461e",
   "metadata": {},
   "outputs": [
    {
     "data": {
      "text/plain": [
       "KruskalResult(statistic=59.92478685716444, pvalue=9.85524442198461e-15)"
      ]
     },
     "execution_count": 67,
     "metadata": {},
     "output_type": "execute_result"
    }
   ],
   "source": [
    "calc_krus(ar_20_29, ar_30_39)"
   ]
  },
  {
   "cell_type": "markdown",
   "id": "b29a059f-d9d8-4552-82b4-67d9ae79735e",
   "metadata": {},
   "source": [
    "### since p value < 0.05 , Null hypothesis is rejected."
   ]
  },
  {
   "cell_type": "code",
   "execution_count": 70,
   "id": "bf6f87fa-f66e-4553-93d2-64d5b9c65dba",
   "metadata": {},
   "outputs": [
    {
     "data": {
      "text/plain": [
       "array([[<Axes: title={'center': 'Percent_Change'}>]], dtype=object)"
      ]
     },
     "execution_count": 70,
     "metadata": {},
     "output_type": "execute_result"
    },
    {
     "data": {
      "image/png": "[encoded data removed]",
      "text/plain": [
       "<Figure size 640x480 with 1 Axes>"
      ]
     },
     "metadata": {},
     "output_type": "display_data"
    }
   ],
   "source": [
    "df_30.hist(column='Percent_Change')"
   ]
  },
  {
   "cell_type": "code",
   "execution_count": null,
   "id": "ade80478-8651-4d84-9f2c-cb8d725bde6c",
   "metadata": {},
   "outputs": [],
   "source": []
  },
  {
   "cell_type": "code",
   "execution_count": null,
   "id": "3724af76-00a9-44ee-a77f-1efb40fdaaf4",
   "metadata": {},
   "outputs": [],
   "source": []
  },
  {
   "cell_type": "markdown",
   "id": "46e37dec-4f2e-4b4e-9c01-6197bb995405",
   "metadata": {},
   "source": [
    "# For Category 40"
   ]
  },
  {
   "cell_type": "code",
   "execution_count": 73,
   "id": "1fa94bef-3820-486f-b3e8-edac81d094c2",
   "metadata": {},
   "outputs": [],
   "source": [
    "df_40 = df[(df['PL_Cat']>=40) & (df['PL_Cat']<50)] "
   ]
  },
  {
   "cell_type": "code",
   "execution_count": 74,
   "id": "b52cb8a2-b340-4baf-861a-2516a3c4fa8b",
   "metadata": {},
   "outputs": [
    {
     "name": "stderr",
     "output_type": "stream",
     "text": [
      "/tmp/ipykernel_17042/537519879.py:1: SettingWithCopyWarning: \n",
      "A value is trying to be set on a copy of a slice from a DataFrame.\n",
      "Try using .loc[row_indexer,col_indexer] = value instead\n",
      "\n",
      "See the caveats in the documentation: https://pandas.pydata.org/pandas-docs/stable/user_guide/indexing.html#returning-a-view-versus-a-copy\n",
      "  df_40['Percent_Change'] = df[['Min BID Rate', 'Final RA Rate', 'Min PO Rate']].apply(custom_calc, axis=1)\n"
     ]
    }
   ],
   "source": [
    "df_40['Percent_Change'] = df[['Min BID Rate', 'Final RA Rate', 'Min PO Rate']].apply(custom_calc, axis=1)"
   ]
  },
  {
   "cell_type": "code",
   "execution_count": 75,
   "id": "1a702303-15ec-4ca7-8f3a-91b1204a1013",
   "metadata": {},
   "outputs": [
    {
     "data": {
      "text/plain": [
       "array([[<Axes: title={'center': 'Percent_Change'}>]], dtype=object)"
      ]
     },
     "execution_count": 75,
     "metadata": {},
     "output_type": "execute_result"
    },
    {
     "data": {
      "image/png": "[encoded data removed]",
      "text/plain": [
       "<Figure size 640x480 with 1 Axes>"
      ]
     },
     "metadata": {},
     "output_type": "display_data"
    }
   ],
   "source": [
    "df_40.hist(column='Percent_Change',bins=6)"
   ]
  },
  {
   "cell_type": "code",
   "execution_count": 76,
   "id": "fc3840e0-7f6c-4bf2-bbfb-8e328e7f8c83",
   "metadata": {},
   "outputs": [
    {
     "data": {
      "text/plain": [
       "PL_Cat\n",
       "45    22\n",
       "40    10\n",
       "47     4\n",
       "Name: count, dtype: int64"
      ]
     },
     "execution_count": 76,
     "metadata": {},
     "output_type": "execute_result"
    }
   ],
   "source": [
    "df_40['PL_Cat'].value_counts()"
   ]
  },
  {
   "cell_type": "code",
   "execution_count": 77,
   "id": "de8384df-b04b-4534-af02-f0368cebcba5",
   "metadata": {},
   "outputs": [],
   "source": [
    "ar_45 = df_40[df_40['PL_Cat'] == 45]\n",
    "ar_40 = df_40[df_40['PL_Cat'] == 40]\n",
    "ar_47 = df_40[df_40['PL_Cat'] == 47]"
   ]
  },
  {
   "cell_type": "code",
   "execution_count": 79,
   "id": "cec44d5d-34b4-45a9-917d-1dc3993383b9",
   "metadata": {},
   "outputs": [
    {
     "data": {
      "text/html": [
       "<div>\n",
       "<style scoped>\n",
       "    .dataframe tbody tr th:only-of-type {\n",
       "        vertical-align: middle;\n",
       "    }\n",
       "\n",
       "    .dataframe tbody tr th {\n",
       "        vertical-align: top;\n",
       "    }\n",
       "\n",
       "    .dataframe thead th {\n",
       "        text-align: right;\n",
       "    }\n",
       "</style>\n",
       "<table border=\"1\" class=\"dataframe\">\n",
       "  <thead>\n",
       "    <tr style=\"text-align: right;\">\n",
       "      <th></th>\n",
       "      <th>0</th>\n",
       "    </tr>\n",
       "  </thead>\n",
       "  <tbody>\n",
       "    <tr>\n",
       "      <th>PL_45</th>\n",
       "      <td>0.993319</td>\n",
       "    </tr>\n",
       "    <tr>\n",
       "      <th>PL_40</th>\n",
       "      <td>3.197548</td>\n",
       "    </tr>\n",
       "    <tr>\n",
       "      <th>PL_47</th>\n",
       "      <td>9.449447</td>\n",
       "    </tr>\n",
       "  </tbody>\n",
       "</table>\n",
       "</div>"
      ],
      "text/plain": [
       "              0\n",
       "PL_45  0.993319\n",
       "PL_40  3.197548\n",
       "PL_47  9.449447"
      ]
     },
     "execution_count": 79,
     "metadata": {},
     "output_type": "execute_result"
    }
   ],
   "source": [
    "ind_40 = ['PL_45','PL_40','PL_47']\n",
    "median_40 = pd.DataFrame([ar_45.Percent_Change.median(),ar_40.Percent_Change.median(),ar_47.Percent_Change.median()], index=ind_40)\n",
    "median_40"
   ]
  },
  {
   "cell_type": "code",
   "execution_count": 80,
   "id": "24c8ea5e-921a-4a61-84d6-97ce994b3917",
   "metadata": {},
   "outputs": [
    {
     "data": {
      "text/plain": [
       "KruskalResult(statistic=11.633343478566252, pvalue=0.002977498563212762)"
      ]
     },
     "execution_count": 80,
     "metadata": {},
     "output_type": "execute_result"
    }
   ],
   "source": [
    "st.kruskal(ar_45.Percent_Change,ar_40.Percent_Change, ar_47.Percent_Change)"
   ]
  },
  {
   "cell_type": "markdown",
   "id": "4194bec5-20a2-48ae-a418-ae7df0ba2644",
   "metadata": {},
   "source": [
    "## since p value < alpha (0.05), Null Hypothesis is rejected. This implies that median percent change across categories is not the same"
   ]
  },
  {
   "cell_type": "code",
   "execution_count": 81,
   "id": "d41adf37-dd84-4f6a-a6dd-5e08641198b3",
   "metadata": {},
   "outputs": [
    {
     "data": {
      "text/plain": [
       "<Axes: ylabel='Density'>"
      ]
     },
     "execution_count": 81,
     "metadata": {},
     "output_type": "execute_result"
    },
    {
     "data": {
      "image/png": "[encoded data removed]",
      "text/plain": [
       "<Figure size 640x480 with 1 Axes>"
      ]
     },
     "metadata": {},
     "output_type": "display_data"
    }
   ],
   "source": [
    "df_40['Percent_Change'].plot(kind='kde')"
   ]
  },
  {
   "cell_type": "code",
   "execution_count": 83,
   "id": "942deded-ac99-4671-9ab1-2b6d0f13f6fa",
   "metadata": {},
   "outputs": [],
   "source": [
    "ar_40_49 = df_40['Percent_Change']"
   ]
  },
  {
   "cell_type": "code",
   "execution_count": 84,
   "id": "2362eb69-2cb4-4cc0-a9ea-1f8ceb5f41da",
   "metadata": {},
   "outputs": [
    {
     "data": {
      "text/plain": [
       "KruskalResult(statistic=1.5434105698473548, pvalue=0.21411086176204316)"
      ]
     },
     "execution_count": 84,
     "metadata": {},
     "output_type": "execute_result"
    }
   ],
   "source": [
    "calc_krus(ar_10, ar_40_49)"
   ]
  },
  {
   "cell_type": "markdown",
   "id": "5b88bdec-d3e1-4381-81ee-14c786def10f",
   "metadata": {},
   "source": [
    "### since p value > 0.05, Null Hypothesis is accepted"
   ]
  },
  {
   "cell_type": "code",
   "execution_count": 85,
   "id": "3af825d5-83f0-452a-b60f-e56a5b628186",
   "metadata": {},
   "outputs": [
    {
     "data": {
      "text/plain": [
       "KruskalResult(statistic=2.9635722912227593, pvalue=0.08515960341770162)"
      ]
     },
     "execution_count": 85,
     "metadata": {},
     "output_type": "execute_result"
    }
   ],
   "source": [
    "calc_krus(ar_20_29, ar_40_49)"
   ]
  },
  {
   "cell_type": "markdown",
   "id": "51484bc3-d59c-42d8-bd3a-0db76cecac60",
   "metadata": {},
   "source": [
    "### since p value > 0.05, Null Hypothesis is accepted"
   ]
  },
  {
   "cell_type": "code",
   "execution_count": 86,
   "id": "99098891-0094-4630-8562-588845e46ae0",
   "metadata": {},
   "outputs": [
    {
     "data": {
      "text/plain": [
       "KruskalResult(statistic=2.547884231976419, pvalue=0.11044206477116411)"
      ]
     },
     "execution_count": 86,
     "metadata": {},
     "output_type": "execute_result"
    }
   ],
   "source": [
    "calc_krus(ar_30_39, ar_40_49)"
   ]
  },
  {
   "cell_type": "code",
   "execution_count": null,
   "id": "b8453c17-7be0-4f3d-8dd6-9399cd523dcf",
   "metadata": {},
   "outputs": [],
   "source": []
  },
  {
   "cell_type": "markdown",
   "id": "17e8c398-c927-4839-93d8-485b96db1933",
   "metadata": {},
   "source": [
    "## For Category 50"
   ]
  },
  {
   "cell_type": "code",
   "execution_count": 92,
   "id": "57c41f65-1df4-4248-b66c-9723639ed297",
   "metadata": {},
   "outputs": [],
   "source": [
    "df_50_90 = df[df['PL_Cat']>=50] "
   ]
  },
  {
   "cell_type": "code",
   "execution_count": 94,
   "id": "ae6cf68a-155d-4082-ab51-9016b60e93e4",
   "metadata": {},
   "outputs": [
    {
     "data": {
      "text/plain": [
       "(32, 15)"
      ]
     },
     "execution_count": 94,
     "metadata": {},
     "output_type": "execute_result"
    }
   ],
   "source": [
    "df_50_90.shape"
   ]
  },
  {
   "cell_type": "code",
   "execution_count": 95,
   "id": "ed6cb099-7be8-474c-81ef-7b486e52cbac",
   "metadata": {},
   "outputs": [
    {
     "name": "stderr",
     "output_type": "stream",
     "text": [
      "/tmp/ipykernel_17042/2545784608.py:1: SettingWithCopyWarning: \n",
      "A value is trying to be set on a copy of a slice from a DataFrame.\n",
      "Try using .loc[row_indexer,col_indexer] = value instead\n",
      "\n",
      "See the caveats in the documentation: https://pandas.pydata.org/pandas-docs/stable/user_guide/indexing.html#returning-a-view-versus-a-copy\n",
      "  df_50_90['Percent_Change'] = df[['Min BID Rate', 'Final RA Rate', 'Min PO Rate']].apply(custom_calc, axis=1)\n"
     ]
    }
   ],
   "source": [
    "df_50_90['Percent_Change'] = df[['Min BID Rate', 'Final RA Rate', 'Min PO Rate']].apply(custom_calc, axis=1)"
   ]
  },
  {
   "cell_type": "code",
   "execution_count": 96,
   "id": "01baed13-648e-4cbc-9808-1eaa5ac6ec92",
   "metadata": {},
   "outputs": [],
   "source": [
    "ar_50_90 = df_50_90['Percent_Change']"
   ]
  },
  {
   "cell_type": "code",
   "execution_count": null,
   "id": "68a8caa8-712e-442c-bacc-fe38e9eecfb2",
   "metadata": {},
   "outputs": [],
   "source": []
  },
  {
   "cell_type": "code",
   "execution_count": 97,
   "id": "acc7588e-03dd-4b43-8b7c-e4390054d65a",
   "metadata": {},
   "outputs": [
    {
     "data": {
      "text/plain": [
       "KruskalResult(statistic=1.2122099723417434, pvalue=0.2708948837854325)"
      ]
     },
     "execution_count": 97,
     "metadata": {},
     "output_type": "execute_result"
    }
   ],
   "source": [
    "calc_krus(ar_10, ar_50_90)"
   ]
  },
  {
   "cell_type": "markdown",
   "id": "68a79aa6-fdcf-4058-94fb-6bab994d7bcc",
   "metadata": {},
   "source": [
    "## since p value > 0.05, Null Hypothesis is accepted."
   ]
  },
  {
   "cell_type": "code",
   "execution_count": 98,
   "id": "5a73fd4a-e6e4-4d2a-bbda-56db8a085007",
   "metadata": {},
   "outputs": [
    {
     "data": {
      "text/plain": [
       "KruskalResult(statistic=6.215011887550033, pvalue=0.012667150166006603)"
      ]
     },
     "execution_count": 98,
     "metadata": {},
     "output_type": "execute_result"
    }
   ],
   "source": [
    "calc_krus(ar_20_29, ar_50_90)"
   ]
  },
  {
   "cell_type": "markdown",
   "id": "b951fe49-d1d9-44f8-9116-da129f9cc736",
   "metadata": {},
   "source": [
    "## since p value < 0.05 , Null Hypothesis is rejected "
   ]
  },
  {
   "cell_type": "code",
   "execution_count": 99,
   "id": "9b9ba924-95e4-49cc-b61f-d1a423c6903b",
   "metadata": {},
   "outputs": [
    {
     "data": {
      "text/plain": [
       "KruskalResult(statistic=0.43662946443945544, pvalue=0.5087537717474351)"
      ]
     },
     "execution_count": 99,
     "metadata": {},
     "output_type": "execute_result"
    }
   ],
   "source": [
    "calc_krus(ar_30_39, ar_50_90)"
   ]
  },
  {
   "cell_type": "markdown",
   "id": "dcfe55e0-83cb-4ff5-9668-b0fcccbab1f8",
   "metadata": {},
   "source": [
    "## since p value > 0.05 , Null Hypothesis is accepted"
   ]
  },
  {
   "cell_type": "code",
   "execution_count": 100,
   "id": "150a1232-012a-4ba3-8d09-1b0706d152ee",
   "metadata": {},
   "outputs": [
    {
     "data": {
      "text/plain": [
       "KruskalResult(statistic=0.7403136188736039, pvalue=0.38956043333226775)"
      ]
     },
     "execution_count": 100,
     "metadata": {},
     "output_type": "execute_result"
    }
   ],
   "source": [
    "calc_krus(ar_40_49, ar_50_90)"
   ]
  },
  {
   "cell_type": "markdown",
   "id": "eb0acecd-43b2-4ae8-9667-39399bb782cd",
   "metadata": {},
   "source": [
    "## since p value > 0.05 , Null Hypothesis is accepted"
   ]
  },
  {
   "cell_type": "code",
   "execution_count": null,
   "id": "40ce691c-aed9-4bff-aa39-78e3855db8e9",
   "metadata": {},
   "outputs": [],
   "source": []
  },
  {
   "cell_type": "code",
   "execution_count": 102,
   "id": "d0aef528-7aaf-403c-8b0d-dde4f6e47b71",
   "metadata": {},
   "outputs": [],
   "source": [
    "col_list = ['10_19','20_29','30_39','40_49','50_90']"
   ]
  },
  {
   "cell_type": "code",
   "execution_count": 103,
   "id": "1409a48b-b975-47bf-ab92-6baa109f97cf",
   "metadata": {},
   "outputs": [],
   "source": [
    "index_list = ['10_19','20_29','30_39','40_49','50_90']"
   ]
  },
  {
   "cell_type": "code",
   "execution_count": 104,
   "id": "8c687cc5-10f3-4b9d-96a3-58fe40eb9eba",
   "metadata": {},
   "outputs": [],
   "source": [
    "new_df = pd.DataFrame(columns=col_list, index=index_list)"
   ]
  },
  {
   "cell_type": "code",
   "execution_count": 105,
   "id": "7de66736-91d6-4fc1-94f1-f2a5e2c3c6e7",
   "metadata": {},
   "outputs": [
    {
     "data": {
      "text/html": [
       "<div>\n",
       "<style scoped>\n",
       "    .dataframe tbody tr th:only-of-type {\n",
       "        vertical-align: middle;\n",
       "    }\n",
       "\n",
       "    .dataframe tbody tr th {\n",
       "        vertical-align: top;\n",
       "    }\n",
       "\n",
       "    .dataframe thead th {\n",
       "        text-align: right;\n",
       "    }\n",
       "</style>\n",
       "<table border=\"1\" class=\"dataframe\">\n",
       "  <thead>\n",
       "    <tr style=\"text-align: right;\">\n",
       "      <th></th>\n",
       "      <th>10_19</th>\n",
       "      <th>20_29</th>\n",
       "      <th>30_39</th>\n",
       "      <th>40_49</th>\n",
       "      <th>50_90</th>\n",
       "    </tr>\n",
       "  </thead>\n",
       "  <tbody>\n",
       "    <tr>\n",
       "      <th>10_19</th>\n",
       "      <td>NaN</td>\n",
       "      <td>NaN</td>\n",
       "      <td>NaN</td>\n",
       "      <td>NaN</td>\n",
       "      <td>NaN</td>\n",
       "    </tr>\n",
       "    <tr>\n",
       "      <th>20_29</th>\n",
       "      <td>NaN</td>\n",
       "      <td>NaN</td>\n",
       "      <td>NaN</td>\n",
       "      <td>NaN</td>\n",
       "      <td>NaN</td>\n",
       "    </tr>\n",
       "    <tr>\n",
       "      <th>30_39</th>\n",
       "      <td>NaN</td>\n",
       "      <td>NaN</td>\n",
       "      <td>NaN</td>\n",
       "      <td>NaN</td>\n",
       "      <td>NaN</td>\n",
       "    </tr>\n",
       "    <tr>\n",
       "      <th>40_49</th>\n",
       "      <td>NaN</td>\n",
       "      <td>NaN</td>\n",
       "      <td>NaN</td>\n",
       "      <td>NaN</td>\n",
       "      <td>NaN</td>\n",
       "    </tr>\n",
       "    <tr>\n",
       "      <th>50_90</th>\n",
       "      <td>NaN</td>\n",
       "      <td>NaN</td>\n",
       "      <td>NaN</td>\n",
       "      <td>NaN</td>\n",
       "      <td>NaN</td>\n",
       "    </tr>\n",
       "  </tbody>\n",
       "</table>\n",
       "</div>"
      ],
      "text/plain": [
       "      10_19 20_29 30_39 40_49 50_90\n",
       "10_19   NaN   NaN   NaN   NaN   NaN\n",
       "20_29   NaN   NaN   NaN   NaN   NaN\n",
       "30_39   NaN   NaN   NaN   NaN   NaN\n",
       "40_49   NaN   NaN   NaN   NaN   NaN\n",
       "50_90   NaN   NaN   NaN   NaN   NaN"
      ]
     },
     "execution_count": 105,
     "metadata": {},
     "output_type": "execute_result"
    }
   ],
   "source": [
    "new_df"
   ]
  },
  {
   "cell_type": "code",
   "execution_count": 143,
   "id": "64a90338-d211-45fc-b9c6-116cea0b587b",
   "metadata": {},
   "outputs": [
    {
     "data": {
      "text/plain": [
       "KruskalResult(statistic=0.0, pvalue=1.0)"
      ]
     },
     "execution_count": 143,
     "metadata": {},
     "output_type": "execute_result"
    }
   ],
   "source": [
    "calc_krus(ar_50_90, ar_50_90)"
   ]
  },
  {
   "cell_type": "code",
   "execution_count": 113,
   "id": "e8585973-8a51-43f6-96dc-ffc4904dbf6f",
   "metadata": {},
   "outputs": [
    {
     "data": {
      "text/plain": [
       "KruskalResult(statistic=1.2122099723417434, pvalue=0.2708948837854325)"
      ]
     },
     "execution_count": 113,
     "metadata": {},
     "output_type": "execute_result"
    }
   ],
   "source": [
    "calc_krus(ar_50_90, ar_10)"
   ]
  },
  {
   "cell_type": "code",
   "execution_count": 144,
   "id": "dbe16619-b361-401a-b88e-0c30cb2e8dc4",
   "metadata": {},
   "outputs": [],
   "source": [
    "col1 = [1, 0.11, 0.43, 0.21, 0.27]\n",
    "col2 = [0.11, 1, 9.85e-15, 0.08, 0.01]\n",
    "col3 = [0.43, 9.85e-15, 1, 0.11, 0.50]\n",
    "col4 = [0.21, 0.08, 0.11, 1, 0.38]\n",
    "col5 = [0.27, 0.01, 0.5, 0.38, 1]\n"
   ]
  },
  {
   "cell_type": "code",
   "execution_count": 146,
   "id": "0daddc35-38fd-4528-85d2-16916ee07e40",
   "metadata": {},
   "outputs": [],
   "source": [
    "new_df['10_19'] = col1\n",
    "new_df['20_29'] = col2\n",
    "new_df['30_39'] = col3\n",
    "new_df['40_49'] = col4\n",
    "new_df['50_90'] = col5"
   ]
  },
  {
   "cell_type": "code",
   "execution_count": 147,
   "id": "481f8632-daff-4fbc-9081-17b18572f8b6",
   "metadata": {},
   "outputs": [
    {
     "data": {
      "text/html": [
       "<div>\n",
       "<style scoped>\n",
       "    .dataframe tbody tr th:only-of-type {\n",
       "        vertical-align: middle;\n",
       "    }\n",
       "\n",
       "    .dataframe tbody tr th {\n",
       "        vertical-align: top;\n",
       "    }\n",
       "\n",
       "    .dataframe thead th {\n",
       "        text-align: right;\n",
       "    }\n",
       "</style>\n",
       "<table border=\"1\" class=\"dataframe\">\n",
       "  <thead>\n",
       "    <tr style=\"text-align: right;\">\n",
       "      <th></th>\n",
       "      <th>10_19</th>\n",
       "      <th>20_29</th>\n",
       "      <th>30_39</th>\n",
       "      <th>40_49</th>\n",
       "      <th>50_90</th>\n",
       "    </tr>\n",
       "  </thead>\n",
       "  <tbody>\n",
       "    <tr>\n",
       "      <th>10_19</th>\n",
       "      <td>1.00</td>\n",
       "      <td>1.100000e-01</td>\n",
       "      <td>4.300000e-01</td>\n",
       "      <td>0.21</td>\n",
       "      <td>0.27</td>\n",
       "    </tr>\n",
       "    <tr>\n",
       "      <th>20_29</th>\n",
       "      <td>0.11</td>\n",
       "      <td>1.000000e+00</td>\n",
       "      <td>9.850000e-15</td>\n",
       "      <td>0.08</td>\n",
       "      <td>0.01</td>\n",
       "    </tr>\n",
       "    <tr>\n",
       "      <th>30_39</th>\n",
       "      <td>0.43</td>\n",
       "      <td>9.850000e-15</td>\n",
       "      <td>1.000000e+00</td>\n",
       "      <td>0.11</td>\n",
       "      <td>0.50</td>\n",
       "    </tr>\n",
       "    <tr>\n",
       "      <th>40_49</th>\n",
       "      <td>0.21</td>\n",
       "      <td>8.000000e-02</td>\n",
       "      <td>1.100000e-01</td>\n",
       "      <td>1.00</td>\n",
       "      <td>0.38</td>\n",
       "    </tr>\n",
       "    <tr>\n",
       "      <th>50_90</th>\n",
       "      <td>0.27</td>\n",
       "      <td>1.000000e-02</td>\n",
       "      <td>5.000000e-01</td>\n",
       "      <td>0.38</td>\n",
       "      <td>1.00</td>\n",
       "    </tr>\n",
       "  </tbody>\n",
       "</table>\n",
       "</div>"
      ],
      "text/plain": [
       "       10_19         20_29         30_39  40_49  50_90\n",
       "10_19   1.00  1.100000e-01  4.300000e-01   0.21   0.27\n",
       "20_29   0.11  1.000000e+00  9.850000e-15   0.08   0.01\n",
       "30_39   0.43  9.850000e-15  1.000000e+00   0.11   0.50\n",
       "40_49   0.21  8.000000e-02  1.100000e-01   1.00   0.38\n",
       "50_90   0.27  1.000000e-02  5.000000e-01   0.38   1.00"
      ]
     },
     "execution_count": 147,
     "metadata": {},
     "output_type": "execute_result"
    }
   ],
   "source": [
    "new_df"
   ]
  },
  {
   "cell_type": "code",
   "execution_count": 148,
   "id": "0b00183b-69ae-4415-b980-2d9f66a6cd2e",
   "metadata": {},
   "outputs": [],
   "source": [
    "results = new_df.copy(deep=True)"
   ]
  },
  {
   "cell_type": "code",
   "execution_count": 149,
   "id": "b72504ce-d57b-47e7-95a9-9eced84cbfa4",
   "metadata": {},
   "outputs": [
    {
     "data": {
      "text/html": [
       "<div>\n",
       "<style scoped>\n",
       "    .dataframe tbody tr th:only-of-type {\n",
       "        vertical-align: middle;\n",
       "    }\n",
       "\n",
       "    .dataframe tbody tr th {\n",
       "        vertical-align: top;\n",
       "    }\n",
       "\n",
       "    .dataframe thead th {\n",
       "        text-align: right;\n",
       "    }\n",
       "</style>\n",
       "<table border=\"1\" class=\"dataframe\">\n",
       "  <thead>\n",
       "    <tr style=\"text-align: right;\">\n",
       "      <th></th>\n",
       "      <th>10_19</th>\n",
       "      <th>20_29</th>\n",
       "      <th>30_39</th>\n",
       "      <th>40_49</th>\n",
       "      <th>50_90</th>\n",
       "    </tr>\n",
       "  </thead>\n",
       "  <tbody>\n",
       "    <tr>\n",
       "      <th>10_19</th>\n",
       "      <td>1.00</td>\n",
       "      <td>1.100000e-01</td>\n",
       "      <td>4.300000e-01</td>\n",
       "      <td>0.21</td>\n",
       "      <td>0.27</td>\n",
       "    </tr>\n",
       "    <tr>\n",
       "      <th>20_29</th>\n",
       "      <td>0.11</td>\n",
       "      <td>1.000000e+00</td>\n",
       "      <td>9.850000e-15</td>\n",
       "      <td>0.08</td>\n",
       "      <td>0.01</td>\n",
       "    </tr>\n",
       "    <tr>\n",
       "      <th>30_39</th>\n",
       "      <td>0.43</td>\n",
       "      <td>9.850000e-15</td>\n",
       "      <td>1.000000e+00</td>\n",
       "      <td>0.11</td>\n",
       "      <td>0.50</td>\n",
       "    </tr>\n",
       "    <tr>\n",
       "      <th>40_49</th>\n",
       "      <td>0.21</td>\n",
       "      <td>8.000000e-02</td>\n",
       "      <td>1.100000e-01</td>\n",
       "      <td>1.00</td>\n",
       "      <td>0.38</td>\n",
       "    </tr>\n",
       "    <tr>\n",
       "      <th>50_90</th>\n",
       "      <td>0.27</td>\n",
       "      <td>1.000000e-02</td>\n",
       "      <td>5.000000e-01</td>\n",
       "      <td>0.38</td>\n",
       "      <td>1.00</td>\n",
       "    </tr>\n",
       "  </tbody>\n",
       "</table>\n",
       "</div>"
      ],
      "text/plain": [
       "       10_19         20_29         30_39  40_49  50_90\n",
       "10_19   1.00  1.100000e-01  4.300000e-01   0.21   0.27\n",
       "20_29   0.11  1.000000e+00  9.850000e-15   0.08   0.01\n",
       "30_39   0.43  9.850000e-15  1.000000e+00   0.11   0.50\n",
       "40_49   0.21  8.000000e-02  1.100000e-01   1.00   0.38\n",
       "50_90   0.27  1.000000e-02  5.000000e-01   0.38   1.00"
      ]
     },
     "execution_count": 149,
     "metadata": {},
     "output_type": "execute_result"
    }
   ],
   "source": [
    "results"
   ]
  },
  {
   "cell_type": "code",
   "execution_count": 157,
   "id": "b5f747ed-5777-4c78-9d0a-e4e320eaf2c4",
   "metadata": {},
   "outputs": [],
   "source": [
    "newresult = results.applymap(lambda val: 'Yes' if val > 0.05 else \"No\")"
   ]
  },
  {
   "cell_type": "code",
   "execution_count": 158,
   "id": "9b63532c-c6af-4b37-9b60-97ab2dfce832",
   "metadata": {},
   "outputs": [
    {
     "data": {
      "text/html": [
       "<div>\n",
       "<style scoped>\n",
       "    .dataframe tbody tr th:only-of-type {\n",
       "        vertical-align: middle;\n",
       "    }\n",
       "\n",
       "    .dataframe tbody tr th {\n",
       "        vertical-align: top;\n",
       "    }\n",
       "\n",
       "    .dataframe thead th {\n",
       "        text-align: right;\n",
       "    }\n",
       "</style>\n",
       "<table border=\"1\" class=\"dataframe\">\n",
       "  <thead>\n",
       "    <tr style=\"text-align: right;\">\n",
       "      <th></th>\n",
       "      <th>10_19</th>\n",
       "      <th>20_29</th>\n",
       "      <th>30_39</th>\n",
       "      <th>40_49</th>\n",
       "      <th>50_90</th>\n",
       "    </tr>\n",
       "  </thead>\n",
       "  <tbody>\n",
       "    <tr>\n",
       "      <th>10_19</th>\n",
       "      <td>Yes</td>\n",
       "      <td>Yes</td>\n",
       "      <td>Yes</td>\n",
       "      <td>Yes</td>\n",
       "      <td>Yes</td>\n",
       "    </tr>\n",
       "    <tr>\n",
       "      <th>20_29</th>\n",
       "      <td>Yes</td>\n",
       "      <td>Yes</td>\n",
       "      <td>No</td>\n",
       "      <td>Yes</td>\n",
       "      <td>No</td>\n",
       "    </tr>\n",
       "    <tr>\n",
       "      <th>30_39</th>\n",
       "      <td>Yes</td>\n",
       "      <td>No</td>\n",
       "      <td>Yes</td>\n",
       "      <td>Yes</td>\n",
       "      <td>Yes</td>\n",
       "    </tr>\n",
       "    <tr>\n",
       "      <th>40_49</th>\n",
       "      <td>Yes</td>\n",
       "      <td>Yes</td>\n",
       "      <td>Yes</td>\n",
       "      <td>Yes</td>\n",
       "      <td>Yes</td>\n",
       "    </tr>\n",
       "    <tr>\n",
       "      <th>50_90</th>\n",
       "      <td>Yes</td>\n",
       "      <td>No</td>\n",
       "      <td>Yes</td>\n",
       "      <td>Yes</td>\n",
       "      <td>Yes</td>\n",
       "    </tr>\n",
       "  </tbody>\n",
       "</table>\n",
       "</div>"
      ],
      "text/plain": [
       "      10_19 20_29 30_39 40_49 50_90\n",
       "10_19   Yes   Yes   Yes   Yes   Yes\n",
       "20_29   Yes   Yes    No   Yes    No\n",
       "30_39   Yes    No   Yes   Yes   Yes\n",
       "40_49   Yes   Yes   Yes   Yes   Yes\n",
       "50_90   Yes    No   Yes   Yes   Yes"
      ]
     },
     "execution_count": 158,
     "metadata": {},
     "output_type": "execute_result"
    }
   ],
   "source": [
    "newresult"
   ]
  },
  {
   "cell_type": "markdown",
   "id": "10318c14-5175-4dfe-90b6-10d058b27519",
   "metadata": {},
   "source": [
    "### Null Hypothesis is rejected for these two categories\n",
    "    - For Category 30_39 and 20_29   \n",
    "    - For Category 20_29 and 50_90 \n",
    "\n",
    "### For rest of the combinations Null Hypothesis is accepted\n"
   ]
  },
  {
   "cell_type": "code",
   "execution_count": null,
   "id": "2d505609-9aeb-49b3-85b4-28e8d71d87d1",
   "metadata": {},
   "outputs": [],
   "source": []
  },
  {
   "cell_type": "code",
   "execution_count": null,
   "id": "0a451c4c-9823-4deb-96f7-91410a82462c",
   "metadata": {},
   "outputs": [],
   "source": []
  },
  {
   "cell_type": "code",
   "execution_count": null,
   "id": "44a61bef-1479-4465-9367-f08b33a4ced2",
   "metadata": {},
   "outputs": [],
   "source": []
  },
  {
   "cell_type": "code",
   "execution_count": null,
   "id": "4915f4c7-6d40-4fe4-b786-bbf72c2ce5c0",
   "metadata": {},
   "outputs": [],
   "source": []
  },
  {
   "cell_type": "code",
   "execution_count": null,
   "id": "d6bd85ef-1b88-4d0c-9844-dd422d0e6562",
   "metadata": {},
   "outputs": [],
   "source": []
  },
  {
   "cell_type": "markdown",
   "id": "e5c7ce59-e2d3-4083-9b94-6e5d42f6bf53",
   "metadata": {},
   "source": [
    "## For Categories 50 - 90 Individually"
   ]
  },
  {
   "cell_type": "code",
   "execution_count": 52,
   "id": "063a5abe-cef2-4bd3-a65f-733b3204b8b6",
   "metadata": {},
   "outputs": [],
   "source": [
    "df_50 = df[(df['PL_Cat']>=50) & (df['PL_Cat']<60)] "
   ]
  },
  {
   "cell_type": "code",
   "execution_count": 53,
   "id": "9a35caea-d8b5-41a3-accf-d9d017ce4e33",
   "metadata": {},
   "outputs": [
    {
     "name": "stderr",
     "output_type": "stream",
     "text": [
      "/tmp/ipykernel_10741/958263476.py:1: SettingWithCopyWarning: \n",
      "A value is trying to be set on a copy of a slice from a DataFrame.\n",
      "Try using .loc[row_indexer,col_indexer] = value instead\n",
      "\n",
      "See the caveats in the documentation: https://pandas.pydata.org/pandas-docs/stable/user_guide/indexing.html#returning-a-view-versus-a-copy\n",
      "  df_50['Percent_Change'] = df[['Min BID Rate', 'Final RA Rate', 'Min PO Rate']].apply(custom_calc, axis=1)\n"
     ]
    }
   ],
   "source": [
    "df_50['Percent_Change'] = df[['Min BID Rate', 'Final RA Rate', 'Min PO Rate']].apply(custom_calc, axis=1)"
   ]
  },
  {
   "cell_type": "code",
   "execution_count": 54,
   "id": "857e118d-1a73-4a2c-8b8e-1d2b3b2c4b7f",
   "metadata": {},
   "outputs": [
    {
     "data": {
      "text/plain": [
       "<Axes: ylabel='Density'>"
      ]
     },
     "execution_count": 54,
     "metadata": {},
     "output_type": "execute_result"
    },
    {
     "data": {
      "image/png": "[encoded data removed]",
      "text/plain": [
       "<Figure size 640x480 with 1 Axes>"
      ]
     },
     "metadata": {},
     "output_type": "display_data"
    }
   ],
   "source": [
    "df_50['Percent_Change'].plot(kind='kde')"
   ]
  },
  {
   "cell_type": "code",
   "execution_count": 56,
   "id": "957f111a-0563-4849-ba9c-89300968f052",
   "metadata": {},
   "outputs": [
    {
     "data": {
      "text/html": [
       "<div>\n",
       "<style scoped>\n",
       "    .dataframe tbody tr th:only-of-type {\n",
       "        vertical-align: middle;\n",
       "    }\n",
       "\n",
       "    .dataframe tbody tr th {\n",
       "        vertical-align: top;\n",
       "    }\n",
       "\n",
       "    .dataframe thead th {\n",
       "        text-align: right;\n",
       "    }\n",
       "</style>\n",
       "<table border=\"1\" class=\"dataframe\">\n",
       "  <thead>\n",
       "    <tr style=\"text-align: right;\">\n",
       "      <th></th>\n",
       "      <th>Tender No</th>\n",
       "      <th>Tender Year</th>\n",
       "      <th>Cat Code</th>\n",
       "      <th>PO Cat</th>\n",
       "      <th>PL No</th>\n",
       "      <th>Railway Zone</th>\n",
       "      <th>Min BID Rate</th>\n",
       "      <th>Final RA Rate</th>\n",
       "      <th>Min PO Rate</th>\n",
       "      <th>Unnamed: 9</th>\n",
       "      <th>% Diff Final RA Rate-PO Rate</th>\n",
       "      <th>% Diff MinBid-Final RA Rate</th>\n",
       "      <th>Min. PO Value</th>\n",
       "      <th># Bidder Account</th>\n",
       "      <th>PL_Cat</th>\n",
       "      <th>Percent_Change</th>\n",
       "    </tr>\n",
       "  </thead>\n",
       "  <tbody>\n",
       "    <tr>\n",
       "      <th>1169</th>\n",
       "      <td>56191098</td>\n",
       "      <td>2019</td>\n",
       "      <td>11</td>\n",
       "      <td>R</td>\n",
       "      <td>56119008</td>\n",
       "      <td>South Western Railway</td>\n",
       "      <td>262000.0</td>\n",
       "      <td>234250.00</td>\n",
       "      <td>208732.00</td>\n",
       "      <td>25518.0</td>\n",
       "      <td>0.108935</td>\n",
       "      <td>0.105916</td>\n",
       "      <td>1290802.00</td>\n",
       "      <td>2</td>\n",
       "      <td>56</td>\n",
       "      <td>10.591603</td>\n",
       "    </tr>\n",
       "    <tr>\n",
       "      <th>1170</th>\n",
       "      <td>08195298</td>\n",
       "      <td>2019</td>\n",
       "      <td>11</td>\n",
       "      <td>R</td>\n",
       "      <td>56119550</td>\n",
       "      <td>Northern Railway</td>\n",
       "      <td>245500.0</td>\n",
       "      <td>240484.00</td>\n",
       "      <td>233200.00</td>\n",
       "      <td>7284.0</td>\n",
       "      <td>0.030289</td>\n",
       "      <td>0.020432</td>\n",
       "      <td>38992392.00</td>\n",
       "      <td>6</td>\n",
       "      <td>56</td>\n",
       "      <td>2.043177</td>\n",
       "    </tr>\n",
       "    <tr>\n",
       "      <th>1171</th>\n",
       "      <td>50185172B</td>\n",
       "      <td>2019</td>\n",
       "      <td>11</td>\n",
       "      <td>R</td>\n",
       "      <td>56119550</td>\n",
       "      <td>West Central Railway</td>\n",
       "      <td>247500.0</td>\n",
       "      <td>235000.00</td>\n",
       "      <td>225000.00</td>\n",
       "      <td>10000.0</td>\n",
       "      <td>0.042553</td>\n",
       "      <td>0.050505</td>\n",
       "      <td>3982500.00</td>\n",
       "      <td>3</td>\n",
       "      <td>56</td>\n",
       "      <td>5.050505</td>\n",
       "    </tr>\n",
       "    <tr>\n",
       "      <th>1172</th>\n",
       "      <td>50185172B</td>\n",
       "      <td>2019</td>\n",
       "      <td>13</td>\n",
       "      <td>R</td>\n",
       "      <td>56119550</td>\n",
       "      <td>West Central Railway</td>\n",
       "      <td>255446.0</td>\n",
       "      <td>229000.00</td>\n",
       "      <td>225000.00</td>\n",
       "      <td>4000.0</td>\n",
       "      <td>0.017467</td>\n",
       "      <td>0.103529</td>\n",
       "      <td>3982500.00</td>\n",
       "      <td>1</td>\n",
       "      <td>56</td>\n",
       "      <td>10.352873</td>\n",
       "    </tr>\n",
       "    <tr>\n",
       "      <th>1173</th>\n",
       "      <td>29201064</td>\n",
       "      <td>2020</td>\n",
       "      <td>11</td>\n",
       "      <td>R</td>\n",
       "      <td>56300270</td>\n",
       "      <td>North East Railway</td>\n",
       "      <td>28786.0</td>\n",
       "      <td>25062.00</td>\n",
       "      <td>25062.00</td>\n",
       "      <td>0.0</td>\n",
       "      <td>0.000000</td>\n",
       "      <td>0.129368</td>\n",
       "      <td>27059441.40</td>\n",
       "      <td>1</td>\n",
       "      <td>56</td>\n",
       "      <td>12.936844</td>\n",
       "    </tr>\n",
       "    <tr>\n",
       "      <th>1174</th>\n",
       "      <td>08205413</td>\n",
       "      <td>2021</td>\n",
       "      <td>11</td>\n",
       "      <td>D</td>\n",
       "      <td>56468039</td>\n",
       "      <td>Northern Railway</td>\n",
       "      <td>7600.0</td>\n",
       "      <td>7432.00</td>\n",
       "      <td>7300.00</td>\n",
       "      <td>NaN</td>\n",
       "      <td>0.017761</td>\n",
       "      <td>0.022105</td>\n",
       "      <td>8321124.00</td>\n",
       "      <td>4</td>\n",
       "      <td>56</td>\n",
       "      <td>2.210526</td>\n",
       "    </tr>\n",
       "    <tr>\n",
       "      <th>1175</th>\n",
       "      <td>08201517</td>\n",
       "      <td>2021</td>\n",
       "      <td>11</td>\n",
       "      <td>D</td>\n",
       "      <td>56468040</td>\n",
       "      <td>Northern Railway</td>\n",
       "      <td>8610.0</td>\n",
       "      <td>8400.00</td>\n",
       "      <td>7749.00</td>\n",
       "      <td>NaN</td>\n",
       "      <td>0.077500</td>\n",
       "      <td>0.024390</td>\n",
       "      <td>3675815.64</td>\n",
       "      <td>4</td>\n",
       "      <td>56</td>\n",
       "      <td>2.439024</td>\n",
       "    </tr>\n",
       "    <tr>\n",
       "      <th>1176</th>\n",
       "      <td>08201517</td>\n",
       "      <td>2021</td>\n",
       "      <td>13</td>\n",
       "      <td>D</td>\n",
       "      <td>56468040</td>\n",
       "      <td>Northern Railway</td>\n",
       "      <td>7765.0</td>\n",
       "      <td>7749.00</td>\n",
       "      <td>7749.00</td>\n",
       "      <td>NaN</td>\n",
       "      <td>0.000000</td>\n",
       "      <td>0.002061</td>\n",
       "      <td>3675815.64</td>\n",
       "      <td>2</td>\n",
       "      <td>56</td>\n",
       "      <td>0.206053</td>\n",
       "    </tr>\n",
       "    <tr>\n",
       "      <th>1177</th>\n",
       "      <td>29211025</td>\n",
       "      <td>2021</td>\n",
       "      <td>11</td>\n",
       "      <td>D</td>\n",
       "      <td>56488117</td>\n",
       "      <td>North East Railway</td>\n",
       "      <td>13699.0</td>\n",
       "      <td>13400.50</td>\n",
       "      <td>12500.00</td>\n",
       "      <td>NaN</td>\n",
       "      <td>0.067199</td>\n",
       "      <td>0.021790</td>\n",
       "      <td>10836000.00</td>\n",
       "      <td>2</td>\n",
       "      <td>56</td>\n",
       "      <td>2.178991</td>\n",
       "    </tr>\n",
       "    <tr>\n",
       "      <th>1178</th>\n",
       "      <td>29211025</td>\n",
       "      <td>2021</td>\n",
       "      <td>11</td>\n",
       "      <td>R</td>\n",
       "      <td>56488117</td>\n",
       "      <td>North East Railway</td>\n",
       "      <td>13699.0</td>\n",
       "      <td>13400.50</td>\n",
       "      <td>13400.50</td>\n",
       "      <td>0.0</td>\n",
       "      <td>0.000000</td>\n",
       "      <td>0.021790</td>\n",
       "      <td>20383125.28</td>\n",
       "      <td>2</td>\n",
       "      <td>56</td>\n",
       "      <td>2.178991</td>\n",
       "    </tr>\n",
       "    <tr>\n",
       "      <th>1179</th>\n",
       "      <td>50195062</td>\n",
       "      <td>2021</td>\n",
       "      <td>11</td>\n",
       "      <td>D</td>\n",
       "      <td>56509959</td>\n",
       "      <td>West Central Railway</td>\n",
       "      <td>165600.0</td>\n",
       "      <td>153400.00</td>\n",
       "      <td>149726.76</td>\n",
       "      <td>NaN</td>\n",
       "      <td>0.023946</td>\n",
       "      <td>0.073671</td>\n",
       "      <td>494697.22</td>\n",
       "      <td>5</td>\n",
       "      <td>56</td>\n",
       "      <td>7.367150</td>\n",
       "    </tr>\n",
       "    <tr>\n",
       "      <th>1180</th>\n",
       "      <td>50215031</td>\n",
       "      <td>2021</td>\n",
       "      <td>11</td>\n",
       "      <td>D</td>\n",
       "      <td>56509959</td>\n",
       "      <td>West Central Railway</td>\n",
       "      <td>198000.0</td>\n",
       "      <td>187470.51</td>\n",
       "      <td>173800.00</td>\n",
       "      <td>NaN</td>\n",
       "      <td>0.072921</td>\n",
       "      <td>0.053179</td>\n",
       "      <td>4752473.60</td>\n",
       "      <td>6</td>\n",
       "      <td>56</td>\n",
       "      <td>5.317924</td>\n",
       "    </tr>\n",
       "    <tr>\n",
       "      <th>1181</th>\n",
       "      <td>50215031</td>\n",
       "      <td>2021</td>\n",
       "      <td>13</td>\n",
       "      <td>D</td>\n",
       "      <td>56509959</td>\n",
       "      <td>West Central Railway</td>\n",
       "      <td>175800.0</td>\n",
       "      <td>174487.65</td>\n",
       "      <td>173800.00</td>\n",
       "      <td>NaN</td>\n",
       "      <td>0.003941</td>\n",
       "      <td>0.007465</td>\n",
       "      <td>4752473.60</td>\n",
       "      <td>3</td>\n",
       "      <td>56</td>\n",
       "      <td>0.746502</td>\n",
       "    </tr>\n",
       "    <tr>\n",
       "      <th>1182</th>\n",
       "      <td>56211007</td>\n",
       "      <td>2021</td>\n",
       "      <td>11</td>\n",
       "      <td>R</td>\n",
       "      <td>56509959</td>\n",
       "      <td>South Central Railway</td>\n",
       "      <td>164000.0</td>\n",
       "      <td>160004.40</td>\n",
       "      <td>160004.40</td>\n",
       "      <td>0.0</td>\n",
       "      <td>0.000000</td>\n",
       "      <td>0.024363</td>\n",
       "      <td>11898444.10</td>\n",
       "      <td>9</td>\n",
       "      <td>56</td>\n",
       "      <td>2.436341</td>\n",
       "    </tr>\n",
       "  </tbody>\n",
       "</table>\n",
       "</div>"
      ],
      "text/plain": [
       "      Tender No  Tender Year  Cat Code PO Cat     PL No  \\\n",
       "1169   56191098         2019        11      R  56119008   \n",
       "1170   08195298         2019        11      R  56119550   \n",
       "1171  50185172B         2019        11      R  56119550   \n",
       "1172  50185172B         2019        13      R  56119550   \n",
       "1173   29201064         2020        11      R  56300270   \n",
       "1174   08205413         2021        11      D  56468039   \n",
       "1175   08201517         2021        11      D  56468040   \n",
       "1176   08201517         2021        13      D  56468040   \n",
       "1177   29211025         2021        11      D  56488117   \n",
       "1178   29211025         2021        11      R  56488117   \n",
       "1179   50195062         2021        11      D  56509959   \n",
       "1180   50215031         2021        11      D  56509959   \n",
       "1181   50215031         2021        13      D  56509959   \n",
       "1182   56211007         2021        11      R  56509959   \n",
       "\n",
       "               Railway Zone  Min BID Rate  Final RA Rate  Min PO Rate  \\\n",
       "1169  South Western Railway      262000.0      234250.00    208732.00   \n",
       "1170       Northern Railway      245500.0      240484.00    233200.00   \n",
       "1171   West Central Railway      247500.0      235000.00    225000.00   \n",
       "1172   West Central Railway      255446.0      229000.00    225000.00   \n",
       "1173     North East Railway       28786.0       25062.00     25062.00   \n",
       "1174       Northern Railway        7600.0        7432.00      7300.00   \n",
       "1175       Northern Railway        8610.0        8400.00      7749.00   \n",
       "1176       Northern Railway        7765.0        7749.00      7749.00   \n",
       "1177     North East Railway       13699.0       13400.50     12500.00   \n",
       "1178     North East Railway       13699.0       13400.50     13400.50   \n",
       "1179   West Central Railway      165600.0      153400.00    149726.76   \n",
       "1180   West Central Railway      198000.0      187470.51    173800.00   \n",
       "1181   West Central Railway      175800.0      174487.65    173800.00   \n",
       "1182  South Central Railway      164000.0      160004.40    160004.40   \n",
       "\n",
       "      Unnamed: 9  % Diff Final RA Rate-PO Rate  % Diff MinBid-Final RA Rate  \\\n",
       "1169     25518.0                      0.108935                     0.105916   \n",
       "1170      7284.0                      0.030289                     0.020432   \n",
       "1171     10000.0                      0.042553                     0.050505   \n",
       "1172      4000.0                      0.017467                     0.103529   \n",
       "1173         0.0                      0.000000                     0.129368   \n",
       "1174         NaN                      0.017761                     0.022105   \n",
       "1175         NaN                      0.077500                     0.024390   \n",
       "1176         NaN                      0.000000                     0.002061   \n",
       "1177         NaN                      0.067199                     0.021790   \n",
       "1178         0.0                      0.000000                     0.021790   \n",
       "1179         NaN                      0.023946                     0.073671   \n",
       "1180         NaN                      0.072921                     0.053179   \n",
       "1181         NaN                      0.003941                     0.007465   \n",
       "1182         0.0                      0.000000                     0.024363   \n",
       "\n",
       "      Min. PO Value  # Bidder Account  PL_Cat  Percent_Change  \n",
       "1169     1290802.00                 2      56       10.591603  \n",
       "1170    38992392.00                 6      56        2.043177  \n",
       "1171     3982500.00                 3      56        5.050505  \n",
       "1172     3982500.00                 1      56       10.352873  \n",
       "1173    27059441.40                 1      56       12.936844  \n",
       "1174     8321124.00                 4      56        2.210526  \n",
       "1175     3675815.64                 4      56        2.439024  \n",
       "1176     3675815.64                 2      56        0.206053  \n",
       "1177    10836000.00                 2      56        2.178991  \n",
       "1178    20383125.28                 2      56        2.178991  \n",
       "1179      494697.22                 5      56        7.367150  \n",
       "1180     4752473.60                 6      56        5.317924  \n",
       "1181     4752473.60                 3      56        0.746502  \n",
       "1182    11898444.10                 9      56        2.436341  "
      ]
     },
     "execution_count": 56,
     "metadata": {},
     "output_type": "execute_result"
    }
   ],
   "source": [
    "df_50"
   ]
  },
  {
   "cell_type": "code",
   "execution_count": 55,
   "id": "fa5e4178-9ae4-4fe1-b2d9-1b2cb55dc8cf",
   "metadata": {},
   "outputs": [
    {
     "data": {
      "text/plain": [
       "PL_Cat\n",
       "56    14\n",
       "Name: count, dtype: int64"
      ]
     },
     "execution_count": 55,
     "metadata": {},
     "output_type": "execute_result"
    }
   ],
   "source": [
    "df_50['PL_Cat'].value_counts()"
   ]
  },
  {
   "cell_type": "code",
   "execution_count": null,
   "id": "d360d6be-e47a-43fa-a6a6-f96e9d066873",
   "metadata": {},
   "outputs": [],
   "source": []
  },
  {
   "cell_type": "markdown",
   "id": "3498d7a8-001f-44da-aaea-40c41d381a1e",
   "metadata": {},
   "source": [
    "## For Category 60"
   ]
  },
  {
   "cell_type": "code",
   "execution_count": 61,
   "id": "7cf25e93-9e79-4cd9-8d3e-f393c69a39f2",
   "metadata": {},
   "outputs": [],
   "source": [
    "df_60 = df[(df['PL_Cat']>=60) & (df['PL_Cat']<70)] "
   ]
  },
  {
   "cell_type": "code",
   "execution_count": 65,
   "id": "626368fb-1176-4121-9897-9ae093238128",
   "metadata": {},
   "outputs": [
    {
     "name": "stderr",
     "output_type": "stream",
     "text": [
      "/tmp/ipykernel_10741/1433501733.py:1: SettingWithCopyWarning: \n",
      "A value is trying to be set on a copy of a slice from a DataFrame.\n",
      "Try using .loc[row_indexer,col_indexer] = value instead\n",
      "\n",
      "See the caveats in the documentation: https://pandas.pydata.org/pandas-docs/stable/user_guide/indexing.html#returning-a-view-versus-a-copy\n",
      "  df_60['Percent_Change'] = df[['Min BID Rate', 'Final RA Rate', 'Min PO Rate']].apply(custom_calc, axis=1)\n"
     ]
    }
   ],
   "source": [
    "df_60['Percent_Change'] = df[['Min BID Rate', 'Final RA Rate', 'Min PO Rate']].apply(custom_calc, axis=1)"
   ]
  },
  {
   "cell_type": "code",
   "execution_count": 64,
   "id": "904377fb-96b5-4d58-b185-74cf551eb822",
   "metadata": {},
   "outputs": [
    {
     "data": {
      "text/plain": [
       "Series([], Name: count, dtype: int64)"
      ]
     },
     "execution_count": 64,
     "metadata": {},
     "output_type": "execute_result"
    }
   ],
   "source": [
    "df_60['PL_Cat'].value_counts()"
   ]
  },
  {
   "cell_type": "code",
   "execution_count": null,
   "id": "64920be5-799d-4894-97a4-7574f06e96d8",
   "metadata": {},
   "outputs": [],
   "source": []
  },
  {
   "cell_type": "markdown",
   "id": "563a48f8-5a82-4480-9ca1-7fc127275b05",
   "metadata": {},
   "source": [
    "## For Category 70"
   ]
  },
  {
   "cell_type": "code",
   "execution_count": 68,
   "id": "c9259b17-c77d-49a2-9768-e4d9b2a9b1cf",
   "metadata": {},
   "outputs": [],
   "source": [
    "df_70 = df[(df['PL_Cat']>=70) & (df['PL_Cat']<80)] "
   ]
  },
  {
   "cell_type": "code",
   "execution_count": 69,
   "id": "eb5b170c-f6ae-4ec9-bccc-8cef9d39c113",
   "metadata": {},
   "outputs": [
    {
     "name": "stderr",
     "output_type": "stream",
     "text": [
      "/tmp/ipykernel_10741/2578725714.py:1: SettingWithCopyWarning: \n",
      "A value is trying to be set on a copy of a slice from a DataFrame.\n",
      "Try using .loc[row_indexer,col_indexer] = value instead\n",
      "\n",
      "See the caveats in the documentation: https://pandas.pydata.org/pandas-docs/stable/user_guide/indexing.html#returning-a-view-versus-a-copy\n",
      "  df_70['Percent_Change'] = df[['Min BID Rate', 'Final RA Rate', 'Min PO Rate']].apply(custom_calc, axis=1)\n"
     ]
    }
   ],
   "source": [
    "df_70['Percent_Change'] = df[['Min BID Rate', 'Final RA Rate', 'Min PO Rate']].apply(custom_calc, axis=1)"
   ]
  },
  {
   "cell_type": "code",
   "execution_count": 70,
   "id": "383d180a-791e-4f55-8321-90917dffbed9",
   "metadata": {},
   "outputs": [
    {
     "data": {
      "text/plain": [
       "<Axes: ylabel='Density'>"
      ]
     },
     "execution_count": 70,
     "metadata": {},
     "output_type": "execute_result"
    },
    {
     "data": {
      "image/png": "[encoded data removed]",
      "text/plain": [
       "<Figure size 640x480 with 1 Axes>"
      ]
     },
     "metadata": {},
     "output_type": "display_data"
    }
   ],
   "source": [
    "df_70['Percent_Change'].plot(kind='kde')"
   ]
  },
  {
   "cell_type": "code",
   "execution_count": 71,
   "id": "c709f735-5b6d-457a-81e4-be80f931411e",
   "metadata": {},
   "outputs": [
    {
     "data": {
      "text/plain": [
       "PL_Cat\n",
       "75    8\n",
       "76    4\n",
       "77    1\n",
       "Name: count, dtype: int64"
      ]
     },
     "execution_count": 71,
     "metadata": {},
     "output_type": "execute_result"
    }
   ],
   "source": [
    "df_70['PL_Cat'].value_counts()"
   ]
  },
  {
   "cell_type": "code",
   "execution_count": 72,
   "id": "5b206796-2f06-4caa-a449-e044250630ea",
   "metadata": {},
   "outputs": [],
   "source": [
    "ar_75 = df_70[df_70['PL_Cat'] == 75]\n",
    "ar_76 = df_70[df_70['PL_Cat'] == 76]\n",
    "ar_77 = df_70[df_70['PL_Cat'] == 77]"
   ]
  },
  {
   "cell_type": "code",
   "execution_count": 73,
   "id": "6da98f29-06b3-4027-b1dc-fc46e87edcc5",
   "metadata": {},
   "outputs": [
    {
     "data": {
      "text/html": [
       "<div>\n",
       "<style scoped>\n",
       "    .dataframe tbody tr th:only-of-type {\n",
       "        vertical-align: middle;\n",
       "    }\n",
       "\n",
       "    .dataframe tbody tr th {\n",
       "        vertical-align: top;\n",
       "    }\n",
       "\n",
       "    .dataframe thead th {\n",
       "        text-align: right;\n",
       "    }\n",
       "</style>\n",
       "<table border=\"1\" class=\"dataframe\">\n",
       "  <thead>\n",
       "    <tr style=\"text-align: right;\">\n",
       "      <th></th>\n",
       "      <th>0</th>\n",
       "    </tr>\n",
       "  </thead>\n",
       "  <tbody>\n",
       "    <tr>\n",
       "      <th>PL_75</th>\n",
       "      <td>1.799163</td>\n",
       "    </tr>\n",
       "    <tr>\n",
       "      <th>PL_76</th>\n",
       "      <td>6.072874</td>\n",
       "    </tr>\n",
       "    <tr>\n",
       "      <th>PL_77</th>\n",
       "      <td>0.425083</td>\n",
       "    </tr>\n",
       "  </tbody>\n",
       "</table>\n",
       "</div>"
      ],
      "text/plain": [
       "              0\n",
       "PL_75  1.799163\n",
       "PL_76  6.072874\n",
       "PL_77  0.425083"
      ]
     },
     "execution_count": 73,
     "metadata": {},
     "output_type": "execute_result"
    }
   ],
   "source": [
    "ind_70 = ['PL_75','PL_76','PL_77']\n",
    "median_70 = pd.DataFrame([ar_75.Percent_Change.median(),ar_76.Percent_Change.median(),ar_77.Percent_Change.median()], index=ind_70)\n",
    "median_70"
   ]
  },
  {
   "cell_type": "code",
   "execution_count": 74,
   "id": "4e459f07-ed52-405d-8e0e-9b40d0573495",
   "metadata": {},
   "outputs": [
    {
     "data": {
      "text/plain": [
       "KruskalResult(statistic=3.4573170731707292, pvalue=0.1775223901049724)"
      ]
     },
     "execution_count": 74,
     "metadata": {},
     "output_type": "execute_result"
    }
   ],
   "source": [
    "st.kruskal(ar_75.Percent_Change,ar_76.Percent_Change, ar_77.Percent_Change)"
   ]
  },
  {
   "cell_type": "code",
   "execution_count": null,
   "id": "aaa2e647-53c7-41e8-9b02-4c293e455ad6",
   "metadata": {},
   "outputs": [],
   "source": []
  },
  {
   "cell_type": "code",
   "execution_count": null,
   "id": "16cf9bc3-1a62-41ec-b16d-48bdd1ce71ca",
   "metadata": {},
   "outputs": [],
   "source": []
  },
  {
   "cell_type": "markdown",
   "id": "1f2de5a8-d7b9-4037-83b3-9467351c05ed",
   "metadata": {},
   "source": [
    "## For Category 80"
   ]
  },
  {
   "cell_type": "code",
   "execution_count": 77,
   "id": "d2bfa844-f386-4dc7-ad35-d09a40db00eb",
   "metadata": {},
   "outputs": [],
   "source": [
    "df_80 = df[(df['PL_Cat']>=80) & (df['PL_Cat']<90)] "
   ]
  },
  {
   "cell_type": "code",
   "execution_count": 78,
   "id": "fa16d874-86ad-425f-9625-7c29b86b9ed5",
   "metadata": {},
   "outputs": [
    {
     "name": "stderr",
     "output_type": "stream",
     "text": [
      "/tmp/ipykernel_10741/23554464.py:1: SettingWithCopyWarning: \n",
      "A value is trying to be set on a copy of a slice from a DataFrame.\n",
      "Try using .loc[row_indexer,col_indexer] = value instead\n",
      "\n",
      "See the caveats in the documentation: https://pandas.pydata.org/pandas-docs/stable/user_guide/indexing.html#returning-a-view-versus-a-copy\n",
      "  df_80['Percent_Change'] = df[['Min BID Rate', 'Final RA Rate', 'Min PO Rate']].apply(custom_calc, axis=1)\n"
     ]
    }
   ],
   "source": [
    "df_80['Percent_Change'] = df[['Min BID Rate', 'Final RA Rate', 'Min PO Rate']].apply(custom_calc, axis=1)"
   ]
  },
  {
   "cell_type": "code",
   "execution_count": 79,
   "id": "745c7c62-6398-4546-a32e-777ce5c0f847",
   "metadata": {},
   "outputs": [
    {
     "data": {
      "text/plain": [
       "<Axes: ylabel='Density'>"
      ]
     },
     "execution_count": 79,
     "metadata": {},
     "output_type": "execute_result"
    },
    {
     "data": {
      "image/png": "[encoded data removed]",
      "text/plain": [
       "<Figure size 640x480 with 1 Axes>"
      ]
     },
     "metadata": {},
     "output_type": "display_data"
    }
   ],
   "source": [
    "df_80['Percent_Change'].plot(kind='kde')"
   ]
  },
  {
   "cell_type": "code",
   "execution_count": 80,
   "id": "425c9736-cb66-4b60-9974-c7ead3995bf5",
   "metadata": {},
   "outputs": [
    {
     "data": {
      "text/html": [
       "<div>\n",
       "<style scoped>\n",
       "    .dataframe tbody tr th:only-of-type {\n",
       "        vertical-align: middle;\n",
       "    }\n",
       "\n",
       "    .dataframe tbody tr th {\n",
       "        vertical-align: top;\n",
       "    }\n",
       "\n",
       "    .dataframe thead th {\n",
       "        text-align: right;\n",
       "    }\n",
       "</style>\n",
       "<table border=\"1\" class=\"dataframe\">\n",
       "  <thead>\n",
       "    <tr style=\"text-align: right;\">\n",
       "      <th></th>\n",
       "      <th>Tender No</th>\n",
       "      <th>Tender Year</th>\n",
       "      <th>Cat Code</th>\n",
       "      <th>PO Cat</th>\n",
       "      <th>PL No</th>\n",
       "      <th>Railway Zone</th>\n",
       "      <th>Min BID Rate</th>\n",
       "      <th>Final RA Rate</th>\n",
       "      <th>Min PO Rate</th>\n",
       "      <th>Unnamed: 9</th>\n",
       "      <th>% Diff Final RA Rate-PO Rate</th>\n",
       "      <th>% Diff MinBid-Final RA Rate</th>\n",
       "      <th>Min. PO Value</th>\n",
       "      <th># Bidder Account</th>\n",
       "      <th>PL_Cat</th>\n",
       "      <th>Percent_Change</th>\n",
       "    </tr>\n",
       "  </thead>\n",
       "  <tbody>\n",
       "    <tr>\n",
       "      <th>1196</th>\n",
       "      <td>05191176</td>\n",
       "      <td>2019</td>\n",
       "      <td>11</td>\n",
       "      <td>D</td>\n",
       "      <td>81040015</td>\n",
       "      <td>Eastern Railway</td>\n",
       "      <td>213.0</td>\n",
       "      <td>205.00</td>\n",
       "      <td>154.00</td>\n",
       "      <td>NaN</td>\n",
       "      <td>0.248780</td>\n",
       "      <td>0.037559</td>\n",
       "      <td>3232752.46</td>\n",
       "      <td>3</td>\n",
       "      <td>81</td>\n",
       "      <td>3.755869</td>\n",
       "    </tr>\n",
       "    <tr>\n",
       "      <th>1197</th>\n",
       "      <td>05191176</td>\n",
       "      <td>2019</td>\n",
       "      <td>13</td>\n",
       "      <td>D</td>\n",
       "      <td>81040015</td>\n",
       "      <td>Eastern Railway</td>\n",
       "      <td>165.0</td>\n",
       "      <td>154.00</td>\n",
       "      <td>154.00</td>\n",
       "      <td>NaN</td>\n",
       "      <td>0.000000</td>\n",
       "      <td>0.066667</td>\n",
       "      <td>3232752.46</td>\n",
       "      <td>2</td>\n",
       "      <td>81</td>\n",
       "      <td>6.666667</td>\n",
       "    </tr>\n",
       "    <tr>\n",
       "      <th>1198</th>\n",
       "      <td>05201176A</td>\n",
       "      <td>2020</td>\n",
       "      <td>11</td>\n",
       "      <td>D</td>\n",
       "      <td>81040015</td>\n",
       "      <td>Eastern Railway</td>\n",
       "      <td>264.0</td>\n",
       "      <td>261.00</td>\n",
       "      <td>229.02</td>\n",
       "      <td>NaN</td>\n",
       "      <td>0.122529</td>\n",
       "      <td>0.011364</td>\n",
       "      <td>8041990.12</td>\n",
       "      <td>3</td>\n",
       "      <td>81</td>\n",
       "      <td>1.136364</td>\n",
       "    </tr>\n",
       "    <tr>\n",
       "      <th>1199</th>\n",
       "      <td>05201176A</td>\n",
       "      <td>2020</td>\n",
       "      <td>13</td>\n",
       "      <td>D</td>\n",
       "      <td>81040015</td>\n",
       "      <td>Eastern Railway</td>\n",
       "      <td>250.0</td>\n",
       "      <td>229.02</td>\n",
       "      <td>229.02</td>\n",
       "      <td>NaN</td>\n",
       "      <td>0.000000</td>\n",
       "      <td>0.083920</td>\n",
       "      <td>8041990.12</td>\n",
       "      <td>3</td>\n",
       "      <td>81</td>\n",
       "      <td>8.392000</td>\n",
       "    </tr>\n",
       "    <tr>\n",
       "      <th>1200</th>\n",
       "      <td>07201039</td>\n",
       "      <td>2020</td>\n",
       "      <td>11</td>\n",
       "      <td>R</td>\n",
       "      <td>81040118</td>\n",
       "      <td>MCF RBL</td>\n",
       "      <td>54.9</td>\n",
       "      <td>40.50</td>\n",
       "      <td>40.50</td>\n",
       "      <td>0.0</td>\n",
       "      <td>0.000000</td>\n",
       "      <td>0.262295</td>\n",
       "      <td>28913475.69</td>\n",
       "      <td>1</td>\n",
       "      <td>81</td>\n",
       "      <td>26.229508</td>\n",
       "    </tr>\n",
       "  </tbody>\n",
       "</table>\n",
       "</div>"
      ],
      "text/plain": [
       "      Tender No  Tender Year  Cat Code PO Cat     PL No     Railway Zone  \\\n",
       "1196   05191176         2019        11      D  81040015  Eastern Railway   \n",
       "1197   05191176         2019        13      D  81040015  Eastern Railway   \n",
       "1198  05201176A         2020        11      D  81040015  Eastern Railway   \n",
       "1199  05201176A         2020        13      D  81040015  Eastern Railway   \n",
       "1200   07201039         2020        11      R  81040118          MCF RBL   \n",
       "\n",
       "      Min BID Rate  Final RA Rate  Min PO Rate  Unnamed: 9  \\\n",
       "1196         213.0         205.00       154.00         NaN   \n",
       "1197         165.0         154.00       154.00         NaN   \n",
       "1198         264.0         261.00       229.02         NaN   \n",
       "1199         250.0         229.02       229.02         NaN   \n",
       "1200          54.9          40.50        40.50         0.0   \n",
       "\n",
       "      % Diff Final RA Rate-PO Rate  % Diff MinBid-Final RA Rate  \\\n",
       "1196                      0.248780                     0.037559   \n",
       "1197                      0.000000                     0.066667   \n",
       "1198                      0.122529                     0.011364   \n",
       "1199                      0.000000                     0.083920   \n",
       "1200                      0.000000                     0.262295   \n",
       "\n",
       "      Min. PO Value  # Bidder Account  PL_Cat  Percent_Change  \n",
       "1196     3232752.46                 3      81        3.755869  \n",
       "1197     3232752.46                 2      81        6.666667  \n",
       "1198     8041990.12                 3      81        1.136364  \n",
       "1199     8041990.12                 3      81        8.392000  \n",
       "1200    28913475.69                 1      81       26.229508  "
      ]
     },
     "execution_count": 80,
     "metadata": {},
     "output_type": "execute_result"
    }
   ],
   "source": [
    "df_80"
   ]
  },
  {
   "cell_type": "code",
   "execution_count": 81,
   "id": "948f473f-d3fb-40fa-b7b2-16f0d1523693",
   "metadata": {},
   "outputs": [
    {
     "data": {
      "text/plain": [
       "PL_Cat\n",
       "81    5\n",
       "Name: count, dtype: int64"
      ]
     },
     "execution_count": 81,
     "metadata": {},
     "output_type": "execute_result"
    }
   ],
   "source": [
    "df_80['PL_Cat'].value_counts()"
   ]
  },
  {
   "cell_type": "code",
   "execution_count": 82,
   "id": "6d59d892-2702-4476-81b5-afa94f07c7ef",
   "metadata": {},
   "outputs": [
    {
     "data": {
      "text/plain": [
       "array([[<Axes: title={'center': 'Percent_Change'}>]], dtype=object)"
      ]
     },
     "execution_count": 82,
     "metadata": {},
     "output_type": "execute_result"
    },
    {
     "data": {
      "image/png": "[encoded data removed]",
      "text/plain": [
       "<Figure size 640x480 with 1 Axes>"
      ]
     },
     "metadata": {},
     "output_type": "display_data"
    }
   ],
   "source": [
    "df_80.hist(column='Percent_Change', bins=8)"
   ]
  },
  {
   "cell_type": "code",
   "execution_count": null,
   "id": "91f6bae6-f1e0-4937-9de3-49842657d848",
   "metadata": {},
   "outputs": [],
   "source": []
  },
  {
   "cell_type": "markdown",
   "id": "1f0eb4b1-6947-4de7-9f55-1ab9237161a1",
   "metadata": {},
   "source": [
    "# Fitting Distributions to data"
   ]
  },
  {
   "cell_type": "markdown",
   "id": "fa3d8844-b53f-4a95-adfd-7e98acd7c7d4",
   "metadata": {},
   "source": [
    "## For Category 20"
   ]
  },
  {
   "cell_type": "code",
   "execution_count": 89,
   "id": "b96c439c-44a4-4b94-89bd-d718ec3ec794",
   "metadata": {},
   "outputs": [],
   "source": [
    "dec_20 = df_20[\"Percent_Change\"].values"
   ]
  },
  {
   "cell_type": "code",
   "execution_count": 90,
   "id": "dd2dcb4e-09bc-4f72-83e6-f1166f1ee06b",
   "metadata": {},
   "outputs": [
    {
     "data": {
      "text/html": [
       "<div>\n",
       "<style scoped>\n",
       "    .dataframe tbody tr th:only-of-type {\n",
       "        vertical-align: middle;\n",
       "    }\n",
       "\n",
       "    .dataframe tbody tr th {\n",
       "        vertical-align: top;\n",
       "    }\n",
       "\n",
       "    .dataframe thead th {\n",
       "        text-align: right;\n",
       "    }\n",
       "</style>\n",
       "<table border=\"1\" class=\"dataframe\">\n",
       "  <thead>\n",
       "    <tr style=\"text-align: right;\">\n",
       "      <th></th>\n",
       "      <th>sumsquare_error</th>\n",
       "      <th>aic</th>\n",
       "      <th>bic</th>\n",
       "      <th>kl_div</th>\n",
       "      <th>ks_statistic</th>\n",
       "      <th>ks_pvalue</th>\n",
       "    </tr>\n",
       "  </thead>\n",
       "  <tbody>\n",
       "    <tr>\n",
       "      <th>lognorm</th>\n",
       "      <td>0.049475</td>\n",
       "      <td>1107.506736</td>\n",
       "      <td>1118.657819</td>\n",
       "      <td>inf</td>\n",
       "      <td>0.059579</td>\n",
       "      <td>2.217297e-01</td>\n",
       "    </tr>\n",
       "    <tr>\n",
       "      <th>beta</th>\n",
       "      <td>0.101989</td>\n",
       "      <td>1131.996043</td>\n",
       "      <td>1146.864154</td>\n",
       "      <td>inf</td>\n",
       "      <td>0.130700</td>\n",
       "      <td>5.474750e-05</td>\n",
       "    </tr>\n",
       "    <tr>\n",
       "      <th>expon</th>\n",
       "      <td>0.143501</td>\n",
       "      <td>1313.998474</td>\n",
       "      <td>1321.432529</td>\n",
       "      <td>inf</td>\n",
       "      <td>0.215266</td>\n",
       "      <td>7.617235e-13</td>\n",
       "    </tr>\n",
       "    <tr>\n",
       "      <th>norm</th>\n",
       "      <td>0.428546</td>\n",
       "      <td>1625.584230</td>\n",
       "      <td>1633.018285</td>\n",
       "      <td>inf</td>\n",
       "      <td>0.287651</td>\n",
       "      <td>9.190547e-23</td>\n",
       "    </tr>\n",
       "  </tbody>\n",
       "</table>\n",
       "</div>"
      ],
      "text/plain": [
       "         sumsquare_error          aic          bic  kl_div  ks_statistic  \\\n",
       "lognorm         0.049475  1107.506736  1118.657819     inf      0.059579   \n",
       "beta            0.101989  1131.996043  1146.864154     inf      0.130700   \n",
       "expon           0.143501  1313.998474  1321.432529     inf      0.215266   \n",
       "norm            0.428546  1625.584230  1633.018285     inf      0.287651   \n",
       "\n",
       "            ks_pvalue  \n",
       "lognorm  2.217297e-01  \n",
       "beta     5.474750e-05  \n",
       "expon    7.617235e-13  \n",
       "norm     9.190547e-23  "
      ]
     },
     "execution_count": 90,
     "metadata": {},
     "output_type": "execute_result"
    },
    {
     "data": {
      "image/png": "[encoded data removed]",
      "text/plain": [
       "<Figure size 640x480 with 1 Axes>"
      ]
     },
     "metadata": {},
     "output_type": "display_data"
    }
   ],
   "source": [
    "f = Fitter(dec_20,\n",
    "           distributions=['expon',\n",
    "                          'lognorm',\n",
    "                          \"beta\",\n",
    "                          \"norm\"])\n",
    "f.fit()\n",
    "f.summary()"
   ]
  },
  {
   "cell_type": "code",
   "execution_count": 91,
   "id": "956d69c7-b824-4aee-80c6-94af25c960fc",
   "metadata": {},
   "outputs": [
    {
     "data": {
      "text/plain": [
       "{'lognorm': {'s': 1.3590300431250237,\n",
       "  'loc': -0.04839124947195496,\n",
       "  'scale': 1.5685518292984855}}"
      ]
     },
     "execution_count": 91,
     "metadata": {},
     "output_type": "execute_result"
    }
   ],
   "source": [
    "f.get_best(method = 'sumsquare_error')"
   ]
  },
  {
   "cell_type": "code",
   "execution_count": null,
   "id": "0fe5cf8a-bbeb-406e-85c1-364bbed1817e",
   "metadata": {},
   "outputs": [],
   "source": []
  },
  {
   "cell_type": "markdown",
   "id": "689fcaf2-ac9c-4cf2-8170-b276fa1cc500",
   "metadata": {},
   "source": [
    "## For Category 10"
   ]
  },
  {
   "cell_type": "code",
   "execution_count": 93,
   "id": "dca27047-2ffb-4af6-86f8-2c56c2123b34",
   "metadata": {},
   "outputs": [],
   "source": [
    "dec_10 = df_10[\"Percent_Change\"].values"
   ]
  },
  {
   "cell_type": "code",
   "execution_count": 94,
   "id": "5e07f98f-46c2-467f-a5e3-548c716de7ab",
   "metadata": {},
   "outputs": [
    {
     "data": {
      "text/html": [
       "<div>\n",
       "<style scoped>\n",
       "    .dataframe tbody tr th:only-of-type {\n",
       "        vertical-align: middle;\n",
       "    }\n",
       "\n",
       "    .dataframe tbody tr th {\n",
       "        vertical-align: top;\n",
       "    }\n",
       "\n",
       "    .dataframe thead th {\n",
       "        text-align: right;\n",
       "    }\n",
       "</style>\n",
       "<table border=\"1\" class=\"dataframe\">\n",
       "  <thead>\n",
       "    <tr style=\"text-align: right;\">\n",
       "      <th></th>\n",
       "      <th>sumsquare_error</th>\n",
       "      <th>aic</th>\n",
       "      <th>bic</th>\n",
       "      <th>kl_div</th>\n",
       "      <th>ks_statistic</th>\n",
       "      <th>ks_pvalue</th>\n",
       "    </tr>\n",
       "  </thead>\n",
       "  <tbody>\n",
       "    <tr>\n",
       "      <th>exponpow</th>\n",
       "      <td>244.511969</td>\n",
       "      <td>796.655120</td>\n",
       "      <td>792.734561</td>\n",
       "      <td>inf</td>\n",
       "      <td>0.495085</td>\n",
       "      <td>0.519467</td>\n",
       "    </tr>\n",
       "    <tr>\n",
       "      <th>chi2</th>\n",
       "      <td>281.472219</td>\n",
       "      <td>415.485608</td>\n",
       "      <td>411.565049</td>\n",
       "      <td>inf</td>\n",
       "      <td>0.500000</td>\n",
       "      <td>0.500000</td>\n",
       "    </tr>\n",
       "    <tr>\n",
       "      <th>powerlaw</th>\n",
       "      <td>285.533229</td>\n",
       "      <td>666.020505</td>\n",
       "      <td>662.099946</td>\n",
       "      <td>inf</td>\n",
       "      <td>0.500000</td>\n",
       "      <td>0.500000</td>\n",
       "    </tr>\n",
       "    <tr>\n",
       "      <th>lognorm</th>\n",
       "      <td>314.914117</td>\n",
       "      <td>901.741488</td>\n",
       "      <td>897.820929</td>\n",
       "      <td>inf</td>\n",
       "      <td>0.485436</td>\n",
       "      <td>0.556560</td>\n",
       "    </tr>\n",
       "    <tr>\n",
       "      <th>expon</th>\n",
       "      <td>327.025237</td>\n",
       "      <td>335.509493</td>\n",
       "      <td>332.895787</td>\n",
       "      <td>inf</td>\n",
       "      <td>0.500000</td>\n",
       "      <td>0.500000</td>\n",
       "    </tr>\n",
       "  </tbody>\n",
       "</table>\n",
       "</div>"
      ],
      "text/plain": [
       "          sumsquare_error         aic         bic  kl_div  ks_statistic  \\\n",
       "exponpow       244.511969  796.655120  792.734561     inf      0.495085   \n",
       "chi2           281.472219  415.485608  411.565049     inf      0.500000   \n",
       "powerlaw       285.533229  666.020505  662.099946     inf      0.500000   \n",
       "lognorm        314.914117  901.741488  897.820929     inf      0.485436   \n",
       "expon          327.025237  335.509493  332.895787     inf      0.500000   \n",
       "\n",
       "          ks_pvalue  \n",
       "exponpow   0.519467  \n",
       "chi2       0.500000  \n",
       "powerlaw   0.500000  \n",
       "lognorm    0.556560  \n",
       "expon      0.500000  "
      ]
     },
     "execution_count": 94,
     "metadata": {},
     "output_type": "execute_result"
    },
    {
     "data": {
      "image/png": "[encoded data removed]",
      "text/plain": [
       "<Figure size 640x480 with 1 Axes>"
      ]
     },
     "metadata": {},
     "output_type": "display_data"
    }
   ],
   "source": [
    "f_10 = Fitter(dec_10,\n",
    "           distributions= get_common_distributions())\n",
    "f_10.fit()\n",
    "f_10.summary()"
   ]
  },
  {
   "cell_type": "code",
   "execution_count": null,
   "id": "213772b4-e7d4-4a83-9efb-74902f1bba2b",
   "metadata": {},
   "outputs": [],
   "source": []
  },
  {
   "cell_type": "markdown",
   "id": "bd5cc85c-d277-4b51-aa54-40b558cd259d",
   "metadata": {},
   "source": [
    "## For Category 30"
   ]
  },
  {
   "cell_type": "code",
   "execution_count": 95,
   "id": "3789a013-813e-45dc-9b50-114c692e42e3",
   "metadata": {},
   "outputs": [],
   "source": [
    "dec_30 = df_30[\"Percent_Change\"].values"
   ]
  },
  {
   "cell_type": "code",
   "execution_count": 96,
   "id": "0389ff03-9b44-413b-84e1-78f49cc762b4",
   "metadata": {},
   "outputs": [
    {
     "data": {
      "text/html": [
       "<div>\n",
       "<style scoped>\n",
       "    .dataframe tbody tr th:only-of-type {\n",
       "        vertical-align: middle;\n",
       "    }\n",
       "\n",
       "    .dataframe tbody tr th {\n",
       "        vertical-align: top;\n",
       "    }\n",
       "\n",
       "    .dataframe thead th {\n",
       "        text-align: right;\n",
       "    }\n",
       "</style>\n",
       "<table border=\"1\" class=\"dataframe\">\n",
       "  <thead>\n",
       "    <tr style=\"text-align: right;\">\n",
       "      <th></th>\n",
       "      <th>sumsquare_error</th>\n",
       "      <th>aic</th>\n",
       "      <th>bic</th>\n",
       "      <th>kl_div</th>\n",
       "      <th>ks_statistic</th>\n",
       "      <th>ks_pvalue</th>\n",
       "    </tr>\n",
       "  </thead>\n",
       "  <tbody>\n",
       "    <tr>\n",
       "      <th>lognorm</th>\n",
       "      <td>0.004128</td>\n",
       "      <td>1298.355035</td>\n",
       "      <td>1312.508449</td>\n",
       "      <td>inf</td>\n",
       "      <td>0.057173</td>\n",
       "      <td>8.617884e-03</td>\n",
       "    </tr>\n",
       "    <tr>\n",
       "      <th>chi2</th>\n",
       "      <td>0.009733</td>\n",
       "      <td>1607.709749</td>\n",
       "      <td>1621.863163</td>\n",
       "      <td>inf</td>\n",
       "      <td>0.095466</td>\n",
       "      <td>5.189264e-07</td>\n",
       "    </tr>\n",
       "    <tr>\n",
       "      <th>expon</th>\n",
       "      <td>0.016085</td>\n",
       "      <td>1660.725161</td>\n",
       "      <td>1670.160770</td>\n",
       "      <td>inf</td>\n",
       "      <td>0.140251</td>\n",
       "      <td>1.180248e-14</td>\n",
       "    </tr>\n",
       "    <tr>\n",
       "      <th>exponpow</th>\n",
       "      <td>0.024001</td>\n",
       "      <td>1146.980683</td>\n",
       "      <td>1161.134097</td>\n",
       "      <td>inf</td>\n",
       "      <td>0.229010</td>\n",
       "      <td>1.316255e-38</td>\n",
       "    </tr>\n",
       "    <tr>\n",
       "      <th>cauchy</th>\n",
       "      <td>0.035868</td>\n",
       "      <td>1422.448532</td>\n",
       "      <td>1431.884142</td>\n",
       "      <td>inf</td>\n",
       "      <td>0.249476</td>\n",
       "      <td>7.813965e-46</td>\n",
       "    </tr>\n",
       "  </tbody>\n",
       "</table>\n",
       "</div>"
      ],
      "text/plain": [
       "          sumsquare_error          aic          bic  kl_div  ks_statistic  \\\n",
       "lognorm          0.004128  1298.355035  1312.508449     inf      0.057173   \n",
       "chi2             0.009733  1607.709749  1621.863163     inf      0.095466   \n",
       "expon            0.016085  1660.725161  1670.160770     inf      0.140251   \n",
       "exponpow         0.024001  1146.980683  1161.134097     inf      0.229010   \n",
       "cauchy           0.035868  1422.448532  1431.884142     inf      0.249476   \n",
       "\n",
       "             ks_pvalue  \n",
       "lognorm   8.617884e-03  \n",
       "chi2      5.189264e-07  \n",
       "expon     1.180248e-14  \n",
       "exponpow  1.316255e-38  \n",
       "cauchy    7.813965e-46  "
      ]
     },
     "execution_count": 96,
     "metadata": {},
     "output_type": "execute_result"
    },
    {
     "data": {
      "image/png": "[encoded data removed]",
      "text/plain": [
       "<Figure size 640x480 with 1 Axes>"
      ]
     },
     "metadata": {},
     "output_type": "display_data"
    }
   ],
   "source": [
    "f_30 = Fitter(dec_30,\n",
    "           distributions= get_common_distributions())\n",
    "f_30.fit()\n",
    "f_30.summary()"
   ]
  },
  {
   "cell_type": "code",
   "execution_count": null,
   "id": "1c89787e-6406-4475-8c6f-0dded1ac80d3",
   "metadata": {},
   "outputs": [],
   "source": []
  },
  {
   "cell_type": "markdown",
   "id": "469169d4-e7fb-4a24-b3d0-321e358f90a0",
   "metadata": {},
   "source": [
    "## For Category 40"
   ]
  },
  {
   "cell_type": "code",
   "execution_count": 99,
   "id": "51a310a4-e8ff-44f4-a5bb-6188d4359db1",
   "metadata": {},
   "outputs": [],
   "source": [
    "dec_40 = df_40[\"Percent_Change\"].values"
   ]
  },
  {
   "cell_type": "code",
   "execution_count": 100,
   "id": "0e8795e0-3588-473d-98ef-2de5ccb1ac9d",
   "metadata": {},
   "outputs": [
    {
     "data": {
      "text/html": [
       "<div>\n",
       "<style scoped>\n",
       "    .dataframe tbody tr th:only-of-type {\n",
       "        vertical-align: middle;\n",
       "    }\n",
       "\n",
       "    .dataframe tbody tr th {\n",
       "        vertical-align: top;\n",
       "    }\n",
       "\n",
       "    .dataframe thead th {\n",
       "        text-align: right;\n",
       "    }\n",
       "</style>\n",
       "<table border=\"1\" class=\"dataframe\">\n",
       "  <thead>\n",
       "    <tr style=\"text-align: right;\">\n",
       "      <th></th>\n",
       "      <th>sumsquare_error</th>\n",
       "      <th>aic</th>\n",
       "      <th>bic</th>\n",
       "      <th>kl_div</th>\n",
       "      <th>ks_statistic</th>\n",
       "      <th>ks_pvalue</th>\n",
       "    </tr>\n",
       "  </thead>\n",
       "  <tbody>\n",
       "    <tr>\n",
       "      <th>lognorm</th>\n",
       "      <td>1.410443</td>\n",
       "      <td>714.645901</td>\n",
       "      <td>719.396458</td>\n",
       "      <td>inf</td>\n",
       "      <td>0.106446</td>\n",
       "      <td>0.770042</td>\n",
       "    </tr>\n",
       "    <tr>\n",
       "      <th>gamma</th>\n",
       "      <td>1.468150</td>\n",
       "      <td>736.983292</td>\n",
       "      <td>741.733848</td>\n",
       "      <td>inf</td>\n",
       "      <td>0.148478</td>\n",
       "      <td>0.368873</td>\n",
       "    </tr>\n",
       "    <tr>\n",
       "      <th>chi2</th>\n",
       "      <td>1.470849</td>\n",
       "      <td>696.164488</td>\n",
       "      <td>700.915045</td>\n",
       "      <td>inf</td>\n",
       "      <td>0.120024</td>\n",
       "      <td>0.634061</td>\n",
       "    </tr>\n",
       "    <tr>\n",
       "      <th>exponpow</th>\n",
       "      <td>1.511595</td>\n",
       "      <td>665.331716</td>\n",
       "      <td>670.082273</td>\n",
       "      <td>inf</td>\n",
       "      <td>0.111187</td>\n",
       "      <td>0.723539</td>\n",
       "    </tr>\n",
       "    <tr>\n",
       "      <th>expon</th>\n",
       "      <td>1.600504</td>\n",
       "      <td>665.115934</td>\n",
       "      <td>668.282972</td>\n",
       "      <td>inf</td>\n",
       "      <td>0.181619</td>\n",
       "      <td>0.164145</td>\n",
       "    </tr>\n",
       "  </tbody>\n",
       "</table>\n",
       "</div>"
      ],
      "text/plain": [
       "          sumsquare_error         aic         bic  kl_div  ks_statistic  \\\n",
       "lognorm          1.410443  714.645901  719.396458     inf      0.106446   \n",
       "gamma            1.468150  736.983292  741.733848     inf      0.148478   \n",
       "chi2             1.470849  696.164488  700.915045     inf      0.120024   \n",
       "exponpow         1.511595  665.331716  670.082273     inf      0.111187   \n",
       "expon            1.600504  665.115934  668.282972     inf      0.181619   \n",
       "\n",
       "          ks_pvalue  \n",
       "lognorm    0.770042  \n",
       "gamma      0.368873  \n",
       "chi2       0.634061  \n",
       "exponpow   0.723539  \n",
       "expon      0.164145  "
      ]
     },
     "execution_count": 100,
     "metadata": {},
     "output_type": "execute_result"
    },
    {
     "data": {
      "image/png": "[encoded data removed]",
      "text/plain": [
       "<Figure size 640x480 with 1 Axes>"
      ]
     },
     "metadata": {},
     "output_type": "display_data"
    }
   ],
   "source": [
    "f_40 = Fitter(dec_40,\n",
    "           distributions= get_common_distributions())\n",
    "f_40.fit()\n",
    "f_40.summary()"
   ]
  },
  {
   "cell_type": "markdown",
   "id": "b4e57bf1-fa45-4c53-86d4-42cbe389257e",
   "metadata": {},
   "source": [
    "## For Category 50"
   ]
  },
  {
   "cell_type": "code",
   "execution_count": 102,
   "id": "32d6d301-1a25-48be-96c2-68695059fd82",
   "metadata": {},
   "outputs": [],
   "source": [
    "dec_50 = df_50[\"Percent_Change\"].values"
   ]
  },
  {
   "cell_type": "code",
   "execution_count": 103,
   "id": "271f1487-446a-42a4-8d25-a15819a6fff7",
   "metadata": {},
   "outputs": [
    {
     "data": {
      "text/html": [
       "<div>\n",
       "<style scoped>\n",
       "    .dataframe tbody tr th:only-of-type {\n",
       "        vertical-align: middle;\n",
       "    }\n",
       "\n",
       "    .dataframe tbody tr th {\n",
       "        vertical-align: top;\n",
       "    }\n",
       "\n",
       "    .dataframe thead th {\n",
       "        text-align: right;\n",
       "    }\n",
       "</style>\n",
       "<table border=\"1\" class=\"dataframe\">\n",
       "  <thead>\n",
       "    <tr style=\"text-align: right;\">\n",
       "      <th></th>\n",
       "      <th>sumsquare_error</th>\n",
       "      <th>aic</th>\n",
       "      <th>bic</th>\n",
       "      <th>kl_div</th>\n",
       "      <th>ks_statistic</th>\n",
       "      <th>ks_pvalue</th>\n",
       "    </tr>\n",
       "  </thead>\n",
       "  <tbody>\n",
       "    <tr>\n",
       "      <th>cauchy</th>\n",
       "      <td>5.916477</td>\n",
       "      <td>731.970340</td>\n",
       "      <td>733.248455</td>\n",
       "      <td>inf</td>\n",
       "      <td>0.287257</td>\n",
       "      <td>0.162291</td>\n",
       "    </tr>\n",
       "    <tr>\n",
       "      <th>exponpow</th>\n",
       "      <td>6.077627</td>\n",
       "      <td>578.201253</td>\n",
       "      <td>580.118425</td>\n",
       "      <td>inf</td>\n",
       "      <td>0.197789</td>\n",
       "      <td>0.576895</td>\n",
       "    </tr>\n",
       "    <tr>\n",
       "      <th>expon</th>\n",
       "      <td>6.097888</td>\n",
       "      <td>587.497267</td>\n",
       "      <td>588.775381</td>\n",
       "      <td>inf</td>\n",
       "      <td>0.191592</td>\n",
       "      <td>0.616193</td>\n",
       "    </tr>\n",
       "    <tr>\n",
       "      <th>lognorm</th>\n",
       "      <td>6.099845</td>\n",
       "      <td>599.789040</td>\n",
       "      <td>601.706212</td>\n",
       "      <td>inf</td>\n",
       "      <td>0.204809</td>\n",
       "      <td>0.533345</td>\n",
       "    </tr>\n",
       "    <tr>\n",
       "      <th>gamma</th>\n",
       "      <td>6.133706</td>\n",
       "      <td>611.458953</td>\n",
       "      <td>613.376125</td>\n",
       "      <td>inf</td>\n",
       "      <td>0.268365</td>\n",
       "      <td>0.221761</td>\n",
       "    </tr>\n",
       "  </tbody>\n",
       "</table>\n",
       "</div>"
      ],
      "text/plain": [
       "          sumsquare_error         aic         bic  kl_div  ks_statistic  \\\n",
       "cauchy           5.916477  731.970340  733.248455     inf      0.287257   \n",
       "exponpow         6.077627  578.201253  580.118425     inf      0.197789   \n",
       "expon            6.097888  587.497267  588.775381     inf      0.191592   \n",
       "lognorm          6.099845  599.789040  601.706212     inf      0.204809   \n",
       "gamma            6.133706  611.458953  613.376125     inf      0.268365   \n",
       "\n",
       "          ks_pvalue  \n",
       "cauchy     0.162291  \n",
       "exponpow   0.576895  \n",
       "expon      0.616193  \n",
       "lognorm    0.533345  \n",
       "gamma      0.221761  "
      ]
     },
     "execution_count": 103,
     "metadata": {},
     "output_type": "execute_result"
    },
    {
     "data": {
      "image/png": "[encoded data removed]",
      "text/plain": [
       "<Figure size 640x480 with 1 Axes>"
      ]
     },
     "metadata": {},
     "output_type": "display_data"
    }
   ],
   "source": [
    "f_50 = Fitter(dec_50,\n",
    "           distributions= get_common_distributions())\n",
    "f_50.fit()\n",
    "f_50.summary()"
   ]
  },
  {
   "cell_type": "markdown",
   "id": "cea54722-73ad-4b5e-9a43-6e8ee1f16b9a",
   "metadata": {},
   "source": [
    "## For Category 60"
   ]
  },
  {
   "cell_type": "code",
   "execution_count": 104,
   "id": "47ffa754-f2c0-400b-a3a4-e14c06612f13",
   "metadata": {},
   "outputs": [],
   "source": [
    "dec_60 = df_60[\"Percent_Change\"].values"
   ]
  },
  {
   "cell_type": "code",
   "execution_count": 105,
   "id": "df7a831f-2d67-4341-a081-9962186cc810",
   "metadata": {},
   "outputs": [
    {
     "data": {
      "text/html": [
       "<div>\n",
       "<style scoped>\n",
       "    .dataframe tbody tr th:only-of-type {\n",
       "        vertical-align: middle;\n",
       "    }\n",
       "\n",
       "    .dataframe tbody tr th {\n",
       "        vertical-align: top;\n",
       "    }\n",
       "\n",
       "    .dataframe thead th {\n",
       "        text-align: right;\n",
       "    }\n",
       "</style>\n",
       "<table border=\"1\" class=\"dataframe\">\n",
       "  <thead>\n",
       "    <tr style=\"text-align: right;\">\n",
       "      <th></th>\n",
       "      <th>sumsquare_error</th>\n",
       "      <th>aic</th>\n",
       "      <th>bic</th>\n",
       "      <th>kl_div</th>\n",
       "      <th>ks_statistic</th>\n",
       "      <th>ks_pvalue</th>\n",
       "    </tr>\n",
       "  </thead>\n",
       "  <tbody>\n",
       "    <tr>\n",
       "      <th>lognorm</th>\n",
       "      <td>0.002784</td>\n",
       "      <td>1337.101983</td>\n",
       "      <td>1352.374713</td>\n",
       "      <td>inf</td>\n",
       "      <td>0.048477</td>\n",
       "      <td>6.833650e-03</td>\n",
       "    </tr>\n",
       "    <tr>\n",
       "      <th>chi2</th>\n",
       "      <td>0.010115</td>\n",
       "      <td>1487.446942</td>\n",
       "      <td>1502.719672</td>\n",
       "      <td>inf</td>\n",
       "      <td>0.085077</td>\n",
       "      <td>5.186384e-08</td>\n",
       "    </tr>\n",
       "    <tr>\n",
       "      <th>exponpow</th>\n",
       "      <td>0.023394</td>\n",
       "      <td>1164.164070</td>\n",
       "      <td>1179.436800</td>\n",
       "      <td>inf</td>\n",
       "      <td>0.175560</td>\n",
       "      <td>7.583688e-33</td>\n",
       "    </tr>\n",
       "    <tr>\n",
       "      <th>expon</th>\n",
       "      <td>0.023476</td>\n",
       "      <td>1831.754143</td>\n",
       "      <td>1841.935963</td>\n",
       "      <td>inf</td>\n",
       "      <td>0.158621</td>\n",
       "      <td>7.308410e-27</td>\n",
       "    </tr>\n",
       "    <tr>\n",
       "      <th>gamma</th>\n",
       "      <td>0.026774</td>\n",
       "      <td>3957.977923</td>\n",
       "      <td>3973.250652</td>\n",
       "      <td>inf</td>\n",
       "      <td>0.572197</td>\n",
       "      <td>0.000000e+00</td>\n",
       "    </tr>\n",
       "  </tbody>\n",
       "</table>\n",
       "</div>"
      ],
      "text/plain": [
       "          sumsquare_error          aic          bic  kl_div  ks_statistic  \\\n",
       "lognorm          0.002784  1337.101983  1352.374713     inf      0.048477   \n",
       "chi2             0.010115  1487.446942  1502.719672     inf      0.085077   \n",
       "exponpow         0.023394  1164.164070  1179.436800     inf      0.175560   \n",
       "expon            0.023476  1831.754143  1841.935963     inf      0.158621   \n",
       "gamma            0.026774  3957.977923  3973.250652     inf      0.572197   \n",
       "\n",
       "             ks_pvalue  \n",
       "lognorm   6.833650e-03  \n",
       "chi2      5.186384e-08  \n",
       "exponpow  7.583688e-33  \n",
       "expon     7.308410e-27  \n",
       "gamma     0.000000e+00  "
      ]
     },
     "execution_count": 105,
     "metadata": {},
     "output_type": "execute_result"
    },
    {
     "data": {
      "image/png": "[encoded data removed]",
      "text/plain": [
       "<Figure size 640x480 with 1 Axes>"
      ]
     },
     "metadata": {},
     "output_type": "display_data"
    }
   ],
   "source": [
    "f_60 = Fitter(dec_60,\n",
    "           distributions= get_common_distributions())\n",
    "f_60.fit()\n",
    "f_60.summary()"
   ]
  },
  {
   "cell_type": "markdown",
   "id": "df497616-c07e-4796-bd9b-8779e63fc149",
   "metadata": {},
   "source": [
    "## For Category 70"
   ]
  },
  {
   "cell_type": "code",
   "execution_count": 109,
   "id": "2a1eed85-eae4-4965-9698-2b16f80e5b6b",
   "metadata": {},
   "outputs": [],
   "source": [
    "dec_70 = df_70[\"Percent_Change\"].values"
   ]
  },
  {
   "cell_type": "code",
   "execution_count": 110,
   "id": "d73bda23-920c-4763-a253-b7cbbdf1299f",
   "metadata": {},
   "outputs": [
    {
     "data": {
      "text/html": [
       "<div>\n",
       "<style scoped>\n",
       "    .dataframe tbody tr th:only-of-type {\n",
       "        vertical-align: middle;\n",
       "    }\n",
       "\n",
       "    .dataframe tbody tr th {\n",
       "        vertical-align: top;\n",
       "    }\n",
       "\n",
       "    .dataframe thead th {\n",
       "        text-align: right;\n",
       "    }\n",
       "</style>\n",
       "<table border=\"1\" class=\"dataframe\">\n",
       "  <thead>\n",
       "    <tr style=\"text-align: right;\">\n",
       "      <th></th>\n",
       "      <th>sumsquare_error</th>\n",
       "      <th>aic</th>\n",
       "      <th>bic</th>\n",
       "      <th>kl_div</th>\n",
       "      <th>ks_statistic</th>\n",
       "      <th>ks_pvalue</th>\n",
       "    </tr>\n",
       "  </thead>\n",
       "  <tbody>\n",
       "    <tr>\n",
       "      <th>cauchy</th>\n",
       "      <td>28.820694</td>\n",
       "      <td>739.145802</td>\n",
       "      <td>740.275700</td>\n",
       "      <td>inf</td>\n",
       "      <td>0.285351</td>\n",
       "      <td>0.197837</td>\n",
       "    </tr>\n",
       "    <tr>\n",
       "      <th>gamma</th>\n",
       "      <td>29.925377</td>\n",
       "      <td>614.116237</td>\n",
       "      <td>615.811085</td>\n",
       "      <td>inf</td>\n",
       "      <td>0.375354</td>\n",
       "      <td>0.037421</td>\n",
       "    </tr>\n",
       "    <tr>\n",
       "      <th>chi2</th>\n",
       "      <td>29.937113</td>\n",
       "      <td>583.155538</td>\n",
       "      <td>584.850386</td>\n",
       "      <td>inf</td>\n",
       "      <td>0.300580</td>\n",
       "      <td>0.154471</td>\n",
       "    </tr>\n",
       "    <tr>\n",
       "      <th>expon</th>\n",
       "      <td>30.069116</td>\n",
       "      <td>547.593886</td>\n",
       "      <td>548.723785</td>\n",
       "      <td>inf</td>\n",
       "      <td>0.238003</td>\n",
       "      <td>0.391184</td>\n",
       "    </tr>\n",
       "    <tr>\n",
       "      <th>exponpow</th>\n",
       "      <td>30.211025</td>\n",
       "      <td>532.524555</td>\n",
       "      <td>534.219403</td>\n",
       "      <td>inf</td>\n",
       "      <td>0.319315</td>\n",
       "      <td>0.111767</td>\n",
       "    </tr>\n",
       "  </tbody>\n",
       "</table>\n",
       "</div>"
      ],
      "text/plain": [
       "          sumsquare_error         aic         bic  kl_div  ks_statistic  \\\n",
       "cauchy          28.820694  739.145802  740.275700     inf      0.285351   \n",
       "gamma           29.925377  614.116237  615.811085     inf      0.375354   \n",
       "chi2            29.937113  583.155538  584.850386     inf      0.300580   \n",
       "expon           30.069116  547.593886  548.723785     inf      0.238003   \n",
       "exponpow        30.211025  532.524555  534.219403     inf      0.319315   \n",
       "\n",
       "          ks_pvalue  \n",
       "cauchy     0.197837  \n",
       "gamma      0.037421  \n",
       "chi2       0.154471  \n",
       "expon      0.391184  \n",
       "exponpow   0.111767  "
      ]
     },
     "execution_count": 110,
     "metadata": {},
     "output_type": "execute_result"
    },
    {
     "data": {
      "image/png": "[encoded data removed]",
      "text/plain": [
       "<Figure size 640x480 with 1 Axes>"
      ]
     },
     "metadata": {},
     "output_type": "display_data"
    }
   ],
   "source": [
    "f_70 = Fitter(dec_70,\n",
    "           distributions= get_common_distributions())\n",
    "f_70.fit()\n",
    "f_70.summary()"
   ]
  },
  {
   "cell_type": "markdown",
   "id": "dea01de1-b996-4b62-8217-c58fb046ab74",
   "metadata": {},
   "source": [
    "## For Category 80"
   ]
  },
  {
   "cell_type": "code",
   "execution_count": 111,
   "id": "9c522371-090d-4fb5-85b0-0f1813124c07",
   "metadata": {},
   "outputs": [],
   "source": [
    "dec_80 = df_80[\"Percent_Change\"].values"
   ]
  },
  {
   "cell_type": "code",
   "execution_count": 112,
   "id": "1df5afaa-5130-4b04-8888-bc70f80f4c96",
   "metadata": {},
   "outputs": [
    {
     "data": {
      "text/html": [
       "<div>\n",
       "<style scoped>\n",
       "    .dataframe tbody tr th:only-of-type {\n",
       "        vertical-align: middle;\n",
       "    }\n",
       "\n",
       "    .dataframe tbody tr th {\n",
       "        vertical-align: top;\n",
       "    }\n",
       "\n",
       "    .dataframe thead th {\n",
       "        text-align: right;\n",
       "    }\n",
       "</style>\n",
       "<table border=\"1\" class=\"dataframe\">\n",
       "  <thead>\n",
       "    <tr style=\"text-align: right;\">\n",
       "      <th></th>\n",
       "      <th>sumsquare_error</th>\n",
       "      <th>aic</th>\n",
       "      <th>bic</th>\n",
       "      <th>kl_div</th>\n",
       "      <th>ks_statistic</th>\n",
       "      <th>ks_pvalue</th>\n",
       "    </tr>\n",
       "  </thead>\n",
       "  <tbody>\n",
       "    <tr>\n",
       "      <th>exponpow</th>\n",
       "      <td>2.599026</td>\n",
       "      <td>928.997120</td>\n",
       "      <td>927.825433</td>\n",
       "      <td>inf</td>\n",
       "      <td>0.441955</td>\n",
       "      <td>0.210226</td>\n",
       "    </tr>\n",
       "    <tr>\n",
       "      <th>powerlaw</th>\n",
       "      <td>2.609012</td>\n",
       "      <td>909.931764</td>\n",
       "      <td>908.760077</td>\n",
       "      <td>inf</td>\n",
       "      <td>0.574796</td>\n",
       "      <td>0.042763</td>\n",
       "    </tr>\n",
       "    <tr>\n",
       "      <th>lognorm</th>\n",
       "      <td>2.658299</td>\n",
       "      <td>1020.769582</td>\n",
       "      <td>1019.597895</td>\n",
       "      <td>inf</td>\n",
       "      <td>0.586952</td>\n",
       "      <td>0.036164</td>\n",
       "    </tr>\n",
       "    <tr>\n",
       "      <th>gamma</th>\n",
       "      <td>2.793901</td>\n",
       "      <td>845.728108</td>\n",
       "      <td>844.556422</td>\n",
       "      <td>inf</td>\n",
       "      <td>0.316283</td>\n",
       "      <td>0.599657</td>\n",
       "    </tr>\n",
       "    <tr>\n",
       "      <th>chi2</th>\n",
       "      <td>2.884471</td>\n",
       "      <td>862.796587</td>\n",
       "      <td>861.624901</td>\n",
       "      <td>inf</td>\n",
       "      <td>0.311305</td>\n",
       "      <td>0.619342</td>\n",
       "    </tr>\n",
       "  </tbody>\n",
       "</table>\n",
       "</div>"
      ],
      "text/plain": [
       "          sumsquare_error          aic          bic  kl_div  ks_statistic  \\\n",
       "exponpow         2.599026   928.997120   927.825433     inf      0.441955   \n",
       "powerlaw         2.609012   909.931764   908.760077     inf      0.574796   \n",
       "lognorm          2.658299  1020.769582  1019.597895     inf      0.586952   \n",
       "gamma            2.793901   845.728108   844.556422     inf      0.316283   \n",
       "chi2             2.884471   862.796587   861.624901     inf      0.311305   \n",
       "\n",
       "          ks_pvalue  \n",
       "exponpow   0.210226  \n",
       "powerlaw   0.042763  \n",
       "lognorm    0.036164  \n",
       "gamma      0.599657  \n",
       "chi2       0.619342  "
      ]
     },
     "execution_count": 112,
     "metadata": {},
     "output_type": "execute_result"
    },
    {
     "data": {
      "image/png": "[encoded data removed]",
      "text/plain": [
       "<Figure size 640x480 with 1 Axes>"
      ]
     },
     "metadata": {},
     "output_type": "display_data"
    }
   ],
   "source": [
    "f_80 = Fitter(dec_80,\n",
    "           distributions= get_common_distributions())\n",
    "f_80.fit()\n",
    "f_80.summary()"
   ]
  },
  {
   "cell_type": "markdown",
   "id": "0cdc0a42-6281-4e2a-be6a-a13a5ad0c64c",
   "metadata": {},
   "source": [
    "## Most categories follow Exponential Distributions"
   ]
  },
  {
   "cell_type": "code",
   "execution_count": null,
   "id": "e7f8e4a5-9b99-44be-8d11-2425130ea32a",
   "metadata": {},
   "outputs": [],
   "source": []
  }
 ],
 "metadata": {
  "kernelspec": {
   "display_name": "Python 3 (ipykernel)",
   "language": "python",
   "name": "python3"
  },
  "language_info": {
   "codemirror_mode": {
    "name": "ipython",
    "version": 3
   },
   "file_extension": ".py",
   "mimetype": "text/x-python",
   "name": "python",
   "nbconvert_exporter": "python",
   "pygments_lexer": "ipython3",
   "version": "3.8.10"
  }
 },
 "nbformat": 4,
 "nbformat_minor": 5
}
